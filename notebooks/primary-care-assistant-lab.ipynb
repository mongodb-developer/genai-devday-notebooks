{
  "cells": [
    {
      "cell_type": "markdown",
      "metadata": {},
      "source": [
        "[![Lab Documentation and Solutions](https://img.shields.io/badge/Lab%20Documentation%20and%20Solutions-purple)](https://mongodb-developer.github.io/ai-rag-lab/)\n"
      ]
    },
    {
      "cell_type": "markdown",
      "metadata": {},
      "source": [
        "# Step 1: Setup prerequisites"
      ]
    },
    {
      "cell_type": "code",
      "execution_count": 1,
      "metadata": {},
      "outputs": [],
      "source": [
        "!pip install -Uq pandas datasets"
      ]
    },
    {
      "cell_type": "code",
      "execution_count": 2,
      "metadata": {},
      "outputs": [
        {
          "name": "stderr",
          "output_type": "stream",
          "text": [
            "/opt/conda/lib/python3.11/site-packages/tqdm/auto.py:21: TqdmWarning: IProgress not found. Please update jupyter and ipywidgets. See https://ipywidgets.readthedocs.io/en/stable/user_install.html\n",
            "  from .autonotebook import tqdm as notebook_tqdm\n"
          ]
        }
      ],
      "source": [
        "import os\n",
        "from pymongo import MongoClient\n",
        "from utils import track_progress\n",
        "\n",
        "import pandas as pd\n",
        "pd.set_option('display.max_colwidth', 150)\n",
        "\n",
        "from datasets import load_dataset\n",
        "from typing import Dict, List"
      ]
    },
    {
      "cell_type": "code",
      "execution_count": 3,
      "metadata": {},
      "outputs": [
        {
          "data": {
            "text/plain": [
              "{'ok': 1.0,\n",
              " '$clusterTime': {'clusterTime': Timestamp(1753750535, 1),\n",
              "  'signature': {'hash': b'fl\\x80\\xa9\\x12\\x1e\\x9c\\xe1f\\xf8z|\\xe3\\xd2\\xad6\\xb4)\\xca\\x92',\n",
              "   'keyId': 7532156023272898567}},\n",
              " 'operationTime': Timestamp(1753750535, 1)}"
            ]
          },
          "execution_count": 3,
          "metadata": {},
          "output_type": "execute_result"
        }
      ],
      "source": [
        "# If you are using your own MongoDB Atlas cluster, use the connection string for your cluster here\n",
        "MONGODB_URI = os.environ.get(\"MONGODB_URI\")\n",
        "# Initialize a MongoDB Python client\n",
        "mongodb_client = MongoClient(MONGODB_URI)\n",
        "# Check the connection to the server\n",
        "mongodb_client.admin.command(\"ping\")"
      ]
    },
    {
      "cell_type": "code",
      "execution_count": 4,
      "metadata": {},
      "outputs": [
        {
          "name": "stdout",
          "output_type": "stream",
          "text": [
            "Tracking progress for task cluster_creation\n"
          ]
        }
      ],
      "source": [
        "# Track progress of key steps-- DO NOT CHANGE\n",
        "track_progress(\"cluster_creation\", \"primary_care_assistant_lab\")"
      ]
    },
    {
      "cell_type": "code",
      "execution_count": 5,
      "metadata": {},
      "outputs": [],
      "source": [
        "SERVERLESS_URL = os.environ.get(\"SERVERLESS_URL\")"
      ]
    },
    {
      "cell_type": "code",
      "execution_count": 6,
      "metadata": {},
      "outputs": [],
      "source": [
        "# Define database and collection names\n",
        "DB_NAME = \"virtual_primary_care_assistant\"\n",
        "DRUG_REVIEW_COLLECTION_NAME = \"drug_reviews\"\n",
        "\n",
        "# Get a reference to the database (creates it if it doesn't exist)\n",
        "db = mongodb_client[DB_NAME]\n",
        "\n",
        "# Get a reference to collections for later use\n",
        "drug_reviews_collection = db[DRUG_REVIEW_COLLECTION_NAME]"
      ]
    },
    {
      "cell_type": "markdown",
      "metadata": {},
      "source": [
        "# Step 2: Load drug reviews dataset"
      ]
    },
    {
      "cell_type": "code",
      "execution_count": 7,
      "metadata": {},
      "outputs": [],
      "source": [
        "# Load the drug reviews dataset from Hugging Face repository\n",
        "# This dataset contains patient reviews of various medications\n",
        "# 'Reboot87/drugs_reviews_dataset' contains structured data about drug experiences\n",
        "drug_reviews_dataset = load_dataset(\n",
        "    \"Reboot87/drugs_reviews_dataset\", streaming=True, split=\"train\"\n",
        ")\n",
        "\n",
        "# Limit the dataset to 10,000 examples to manage memory usage and processing time\n",
        "# This sample size should be sufficient for building our demonstration model\n",
        "# The streaming=True parameter ensures we don't load the entire dataset into memory\n",
        "drug_reviews_dataset = drug_reviews_dataset.take(1000)\n",
        "\n",
        "# Similarly convert the drug reviews dataset to a DataFrame\n",
        "# This enables SQL-like operations, filtering, and statistical analysis\n",
        "# Having both datasets as DataFrames ensures consistent data handling approaches\n",
        "drug_reviews_dataset = pd.DataFrame(drug_reviews_dataset)\n",
        "\n",
        "# Remove the attributes patientId, date, usefulCount and review_length from the drug_reviews_dataset\n",
        "# patientId: Removed to ensure data anonymization and privacy protection\n",
        "# date: Temporal information isn't critical for our current analysis\n",
        "# usefulCount: Engagement metrics aren't relevant for our semantic understanding\n",
        "# review_length: This is a derived feature that can be recalculated if needed\n",
        "drug_reviews_dataset = drug_reviews_dataset.drop(\n",
        "    columns=[\"patientId\", \"date\", \"usefulCount\", \"review_length\"]\n",
        ")"
      ]
    },
    {
      "cell_type": "code",
      "execution_count": 8,
      "metadata": {},
      "outputs": [
        {
          "data": {
            "text/html": [
              "<div>\n",
              "<style scoped>\n",
              "    .dataframe tbody tr th:only-of-type {\n",
              "        vertical-align: middle;\n",
              "    }\n",
              "\n",
              "    .dataframe tbody tr th {\n",
              "        vertical-align: top;\n",
              "    }\n",
              "\n",
              "    .dataframe thead th {\n",
              "        text-align: right;\n",
              "    }\n",
              "</style>\n",
              "<table border=\"1\" class=\"dataframe\">\n",
              "  <thead>\n",
              "    <tr style=\"text-align: right;\">\n",
              "      <th></th>\n",
              "      <th>drugName</th>\n",
              "      <th>condition</th>\n",
              "      <th>review</th>\n",
              "      <th>rating</th>\n",
              "    </tr>\n",
              "  </thead>\n",
              "  <tbody>\n",
              "    <tr>\n",
              "      <th>0</th>\n",
              "      <td>cyclosporine</td>\n",
              "      <td>keratoconjunctivitis sicca</td>\n",
              "      <td>\"I have used Restasis for about a year now and have seen almost no progress.  For most of my life I've had red and bothersome eyes. After trying v...</td>\n",
              "      <td>2</td>\n",
              "    </tr>\n",
              "    <tr>\n",
              "      <th>1</th>\n",
              "      <td>etonogestrel</td>\n",
              "      <td>birth control</td>\n",
              "      <td>\"My experience has been somewhat mixed. I have been using Implanon now for nearly 14 months and have decided to get it removed because I bleed eve...</td>\n",
              "      <td>7</td>\n",
              "    </tr>\n",
              "    <tr>\n",
              "      <th>2</th>\n",
              "      <td>implanon</td>\n",
              "      <td>birth control</td>\n",
              "      <td>\"This is my second Implanon would not recommend at all....first one was okay for the first 2 years until I started bleeding which never stopped wh...</td>\n",
              "      <td>1</td>\n",
              "    </tr>\n",
              "    <tr>\n",
              "      <th>3</th>\n",
              "      <td>hydroxyzine</td>\n",
              "      <td>anxiety</td>\n",
              "      <td>\"I recommend taking as prescribed, and the bottle usually says \"take X amount every X hours\". I think that having a steady stream of any medicatio...</td>\n",
              "      <td>10</td>\n",
              "    </tr>\n",
              "    <tr>\n",
              "      <th>4</th>\n",
              "      <td>dalfampridine</td>\n",
              "      <td>multiple sclerosis</td>\n",
              "      <td>\"I have been on Ampyra for 5 days and have been so happy with this new pill. The first 2 days were NOT good with the side effects, but each day ju...</td>\n",
              "      <td>9</td>\n",
              "    </tr>\n",
              "  </tbody>\n",
              "</table>\n",
              "</div>"
            ],
            "text/plain": [
              "        drugName                   condition  \\\n",
              "0   cyclosporine  keratoconjunctivitis sicca   \n",
              "1   etonogestrel               birth control   \n",
              "2       implanon               birth control   \n",
              "3    hydroxyzine                     anxiety   \n",
              "4  dalfampridine          multiple sclerosis   \n",
              "\n",
              "                                                                                                                                                  review  \\\n",
              "0  \"I have used Restasis for about a year now and have seen almost no progress.  For most of my life I've had red and bothersome eyes. After trying v...   \n",
              "1  \"My experience has been somewhat mixed. I have been using Implanon now for nearly 14 months and have decided to get it removed because I bleed eve...   \n",
              "2  \"This is my second Implanon would not recommend at all....first one was okay for the first 2 years until I started bleeding which never stopped wh...   \n",
              "3  \"I recommend taking as prescribed, and the bottle usually says \"take X amount every X hours\". I think that having a steady stream of any medicatio...   \n",
              "4  \"I have been on Ampyra for 5 days and have been so happy with this new pill. The first 2 days were NOT good with the side effects, but each day ju...   \n",
              "\n",
              "   rating  \n",
              "0       2  \n",
              "1       7  \n",
              "2       1  \n",
              "3      10  \n",
              "4       9  "
            ]
          },
          "execution_count": 8,
          "metadata": {},
          "output_type": "execute_result"
        }
      ],
      "source": [
        "# Preview a document to understand its structure\n",
        "drug_reviews_dataset.head()"
      ]
    },
    {
      "cell_type": "code",
      "execution_count": null,
      "metadata": {},
      "outputs": [
        {
          "data": {
            "text/plain": [
              "InsertManyResult([ObjectId('68881c89bca3ddd8597126ae'), ObjectId('68881c89bca3ddd8597126af'), ObjectId('68881c89bca3ddd8597126b0'), ObjectId('68881c89bca3ddd8597126b1'), ObjectId('68881c89bca3ddd8597126b2'), ObjectId('68881c89bca3ddd8597126b3'), ObjectId('68881c89bca3ddd8597126b4'), ObjectId('68881c89bca3ddd8597126b5'), ObjectId('68881c89bca3ddd8597126b6'), ObjectId('68881c89bca3ddd8597126b7'), ObjectId('68881c89bca3ddd8597126b8'), ObjectId('68881c89bca3ddd8597126b9'), ObjectId('68881c89bca3ddd8597126ba'), ObjectId('68881c89bca3ddd8597126bb'), ObjectId('68881c89bca3ddd8597126bc'), ObjectId('68881c89bca3ddd8597126bd'), ObjectId('68881c89bca3ddd8597126be'), ObjectId('68881c89bca3ddd8597126bf'), ObjectId('68881c89bca3ddd8597126c0'), ObjectId('68881c89bca3ddd8597126c1'), ObjectId('68881c89bca3ddd8597126c2'), ObjectId('68881c89bca3ddd8597126c3'), ObjectId('68881c89bca3ddd8597126c4'), ObjectId('68881c89bca3ddd8597126c5'), ObjectId('68881c89bca3ddd8597126c6'), ObjectId('68881c89bca3ddd8597126c7'), ObjectId('68881c89bca3ddd8597126c8'), ObjectId('68881c89bca3ddd8597126c9'), ObjectId('68881c89bca3ddd8597126ca'), ObjectId('68881c89bca3ddd8597126cb'), ObjectId('68881c89bca3ddd8597126cc'), ObjectId('68881c89bca3ddd8597126cd'), ObjectId('68881c89bca3ddd8597126ce'), ObjectId('68881c89bca3ddd8597126cf'), ObjectId('68881c89bca3ddd8597126d0'), ObjectId('68881c89bca3ddd8597126d1'), ObjectId('68881c89bca3ddd8597126d2'), ObjectId('68881c89bca3ddd8597126d3'), ObjectId('68881c89bca3ddd8597126d4'), ObjectId('68881c89bca3ddd8597126d5'), ObjectId('68881c89bca3ddd8597126d6'), ObjectId('68881c89bca3ddd8597126d7'), ObjectId('68881c89bca3ddd8597126d8'), ObjectId('68881c89bca3ddd8597126d9'), ObjectId('68881c89bca3ddd8597126da'), ObjectId('68881c89bca3ddd8597126db'), ObjectId('68881c89bca3ddd8597126dc'), ObjectId('68881c89bca3ddd8597126dd'), ObjectId('68881c89bca3ddd8597126de'), ObjectId('68881c89bca3ddd8597126df'), ObjectId('68881c89bca3ddd8597126e0'), ObjectId('68881c89bca3ddd8597126e1'), ObjectId('68881c89bca3ddd8597126e2'), ObjectId('68881c89bca3ddd8597126e3'), ObjectId('68881c89bca3ddd8597126e4'), ObjectId('68881c89bca3ddd8597126e5'), ObjectId('68881c89bca3ddd8597126e6'), ObjectId('68881c89bca3ddd8597126e7'), ObjectId('68881c89bca3ddd8597126e8'), ObjectId('68881c89bca3ddd8597126e9'), ObjectId('68881c89bca3ddd8597126ea'), ObjectId('68881c89bca3ddd8597126eb'), ObjectId('68881c89bca3ddd8597126ec'), ObjectId('68881c89bca3ddd8597126ed'), ObjectId('68881c89bca3ddd8597126ee'), ObjectId('68881c89bca3ddd8597126ef'), ObjectId('68881c89bca3ddd8597126f0'), ObjectId('68881c89bca3ddd8597126f1'), ObjectId('68881c89bca3ddd8597126f2'), ObjectId('68881c89bca3ddd8597126f3'), ObjectId('68881c89bca3ddd8597126f4'), ObjectId('68881c89bca3ddd8597126f5'), ObjectId('68881c89bca3ddd8597126f6'), ObjectId('68881c89bca3ddd8597126f7'), ObjectId('68881c89bca3ddd8597126f8'), ObjectId('68881c89bca3ddd8597126f9'), ObjectId('68881c89bca3ddd8597126fa'), ObjectId('68881c89bca3ddd8597126fb'), ObjectId('68881c89bca3ddd8597126fc'), ObjectId('68881c89bca3ddd8597126fd'), ObjectId('68881c89bca3ddd8597126fe'), ObjectId('68881c89bca3ddd8597126ff'), ObjectId('68881c89bca3ddd859712700'), ObjectId('68881c89bca3ddd859712701'), ObjectId('68881c89bca3ddd859712702'), ObjectId('68881c89bca3ddd859712703'), ObjectId('68881c89bca3ddd859712704'), ObjectId('68881c89bca3ddd859712705'), ObjectId('68881c89bca3ddd859712706'), ObjectId('68881c89bca3ddd859712707'), ObjectId('68881c89bca3ddd859712708'), ObjectId('68881c89bca3ddd859712709'), ObjectId('68881c89bca3ddd85971270a'), ObjectId('68881c89bca3ddd85971270b'), ObjectId('68881c89bca3ddd85971270c'), ObjectId('68881c89bca3ddd85971270d'), ObjectId('68881c89bca3ddd85971270e'), ObjectId('68881c89bca3ddd85971270f'), ObjectId('68881c89bca3ddd859712710'), ObjectId('68881c89bca3ddd859712711'), ObjectId('68881c89bca3ddd859712712'), ObjectId('68881c89bca3ddd859712713'), ObjectId('68881c89bca3ddd859712714'), ObjectId('68881c89bca3ddd859712715'), ObjectId('68881c89bca3ddd859712716'), ObjectId('68881c89bca3ddd859712717'), ObjectId('68881c89bca3ddd859712718'), ObjectId('68881c89bca3ddd859712719'), ObjectId('68881c89bca3ddd85971271a'), ObjectId('68881c89bca3ddd85971271b'), ObjectId('68881c89bca3ddd85971271c'), ObjectId('68881c89bca3ddd85971271d'), ObjectId('68881c89bca3ddd85971271e'), ObjectId('68881c89bca3ddd85971271f'), ObjectId('68881c89bca3ddd859712720'), ObjectId('68881c89bca3ddd859712721'), ObjectId('68881c89bca3ddd859712722'), ObjectId('68881c89bca3ddd859712723'), ObjectId('68881c89bca3ddd859712724'), ObjectId('68881c89bca3ddd859712725'), ObjectId('68881c89bca3ddd859712726'), ObjectId('68881c89bca3ddd859712727'), ObjectId('68881c89bca3ddd859712728'), ObjectId('68881c89bca3ddd859712729'), ObjectId('68881c89bca3ddd85971272a'), ObjectId('68881c89bca3ddd85971272b'), ObjectId('68881c89bca3ddd85971272c'), ObjectId('68881c89bca3ddd85971272d'), ObjectId('68881c89bca3ddd85971272e'), ObjectId('68881c89bca3ddd85971272f'), ObjectId('68881c89bca3ddd859712730'), ObjectId('68881c89bca3ddd859712731'), ObjectId('68881c89bca3ddd859712732'), ObjectId('68881c89bca3ddd859712733'), ObjectId('68881c89bca3ddd859712734'), ObjectId('68881c89bca3ddd859712735'), ObjectId('68881c89bca3ddd859712736'), ObjectId('68881c89bca3ddd859712737'), ObjectId('68881c89bca3ddd859712738'), ObjectId('68881c89bca3ddd859712739'), ObjectId('68881c89bca3ddd85971273a'), ObjectId('68881c89bca3ddd85971273b'), ObjectId('68881c89bca3ddd85971273c'), ObjectId('68881c89bca3ddd85971273d'), ObjectId('68881c89bca3ddd85971273e'), ObjectId('68881c89bca3ddd85971273f'), ObjectId('68881c89bca3ddd859712740'), ObjectId('68881c89bca3ddd859712741'), ObjectId('68881c89bca3ddd859712742'), ObjectId('68881c89bca3ddd859712743'), ObjectId('68881c89bca3ddd859712744'), ObjectId('68881c89bca3ddd859712745'), ObjectId('68881c89bca3ddd859712746'), ObjectId('68881c89bca3ddd859712747'), ObjectId('68881c89bca3ddd859712748'), ObjectId('68881c89bca3ddd859712749'), ObjectId('68881c89bca3ddd85971274a'), ObjectId('68881c89bca3ddd85971274b'), ObjectId('68881c89bca3ddd85971274c'), ObjectId('68881c89bca3ddd85971274d'), ObjectId('68881c89bca3ddd85971274e'), ObjectId('68881c89bca3ddd85971274f'), ObjectId('68881c89bca3ddd859712750'), ObjectId('68881c89bca3ddd859712751'), ObjectId('68881c89bca3ddd859712752'), ObjectId('68881c89bca3ddd859712753'), ObjectId('68881c89bca3ddd859712754'), ObjectId('68881c89bca3ddd859712755'), ObjectId('68881c89bca3ddd859712756'), ObjectId('68881c89bca3ddd859712757'), ObjectId('68881c89bca3ddd859712758'), ObjectId('68881c89bca3ddd859712759'), ObjectId('68881c89bca3ddd85971275a'), ObjectId('68881c89bca3ddd85971275b'), ObjectId('68881c89bca3ddd85971275c'), ObjectId('68881c89bca3ddd85971275d'), ObjectId('68881c89bca3ddd85971275e'), ObjectId('68881c89bca3ddd85971275f'), ObjectId('68881c89bca3ddd859712760'), ObjectId('68881c89bca3ddd859712761'), ObjectId('68881c89bca3ddd859712762'), ObjectId('68881c89bca3ddd859712763'), ObjectId('68881c89bca3ddd859712764'), ObjectId('68881c89bca3ddd859712765'), ObjectId('68881c89bca3ddd859712766'), ObjectId('68881c89bca3ddd859712767'), ObjectId('68881c89bca3ddd859712768'), ObjectId('68881c89bca3ddd859712769'), ObjectId('68881c89bca3ddd85971276a'), ObjectId('68881c89bca3ddd85971276b'), ObjectId('68881c89bca3ddd85971276c'), ObjectId('68881c89bca3ddd85971276d'), ObjectId('68881c89bca3ddd85971276e'), ObjectId('68881c89bca3ddd85971276f'), ObjectId('68881c89bca3ddd859712770'), ObjectId('68881c89bca3ddd859712771'), ObjectId('68881c89bca3ddd859712772'), ObjectId('68881c89bca3ddd859712773'), ObjectId('68881c89bca3ddd859712774'), ObjectId('68881c89bca3ddd859712775'), ObjectId('68881c89bca3ddd859712776'), ObjectId('68881c89bca3ddd859712777'), ObjectId('68881c89bca3ddd859712778'), ObjectId('68881c89bca3ddd859712779'), ObjectId('68881c89bca3ddd85971277a'), ObjectId('68881c89bca3ddd85971277b'), ObjectId('68881c89bca3ddd85971277c'), ObjectId('68881c89bca3ddd85971277d'), ObjectId('68881c89bca3ddd85971277e'), ObjectId('68881c89bca3ddd85971277f'), ObjectId('68881c89bca3ddd859712780'), ObjectId('68881c89bca3ddd859712781'), ObjectId('68881c89bca3ddd859712782'), ObjectId('68881c89bca3ddd859712783'), ObjectId('68881c89bca3ddd859712784'), ObjectId('68881c89bca3ddd859712785'), ObjectId('68881c89bca3ddd859712786'), ObjectId('68881c89bca3ddd859712787'), ObjectId('68881c89bca3ddd859712788'), ObjectId('68881c89bca3ddd859712789'), ObjectId('68881c89bca3ddd85971278a'), ObjectId('68881c89bca3ddd85971278b'), ObjectId('68881c89bca3ddd85971278c'), ObjectId('68881c89bca3ddd85971278d'), ObjectId('68881c89bca3ddd85971278e'), ObjectId('68881c89bca3ddd85971278f'), ObjectId('68881c89bca3ddd859712790'), ObjectId('68881c89bca3ddd859712791'), ObjectId('68881c89bca3ddd859712792'), ObjectId('68881c89bca3ddd859712793'), ObjectId('68881c89bca3ddd859712794'), ObjectId('68881c89bca3ddd859712795'), ObjectId('68881c89bca3ddd859712796'), ObjectId('68881c89bca3ddd859712797'), ObjectId('68881c89bca3ddd859712798'), ObjectId('68881c89bca3ddd859712799'), ObjectId('68881c89bca3ddd85971279a'), ObjectId('68881c89bca3ddd85971279b'), ObjectId('68881c89bca3ddd85971279c'), ObjectId('68881c89bca3ddd85971279d'), ObjectId('68881c89bca3ddd85971279e'), ObjectId('68881c89bca3ddd85971279f'), ObjectId('68881c89bca3ddd8597127a0'), ObjectId('68881c89bca3ddd8597127a1'), ObjectId('68881c89bca3ddd8597127a2'), ObjectId('68881c89bca3ddd8597127a3'), ObjectId('68881c89bca3ddd8597127a4'), ObjectId('68881c89bca3ddd8597127a5'), ObjectId('68881c89bca3ddd8597127a6'), ObjectId('68881c89bca3ddd8597127a7'), ObjectId('68881c89bca3ddd8597127a8'), ObjectId('68881c89bca3ddd8597127a9'), ObjectId('68881c89bca3ddd8597127aa'), ObjectId('68881c89bca3ddd8597127ab'), ObjectId('68881c89bca3ddd8597127ac'), ObjectId('68881c89bca3ddd8597127ad'), ObjectId('68881c89bca3ddd8597127ae'), ObjectId('68881c89bca3ddd8597127af'), ObjectId('68881c89bca3ddd8597127b0'), ObjectId('68881c89bca3ddd8597127b1'), ObjectId('68881c89bca3ddd8597127b2'), ObjectId('68881c89bca3ddd8597127b3'), ObjectId('68881c89bca3ddd8597127b4'), ObjectId('68881c89bca3ddd8597127b5'), ObjectId('68881c89bca3ddd8597127b6'), ObjectId('68881c89bca3ddd8597127b7'), ObjectId('68881c89bca3ddd8597127b8'), ObjectId('68881c89bca3ddd8597127b9'), ObjectId('68881c89bca3ddd8597127ba'), ObjectId('68881c89bca3ddd8597127bb'), ObjectId('68881c89bca3ddd8597127bc'), ObjectId('68881c89bca3ddd8597127bd'), ObjectId('68881c89bca3ddd8597127be'), ObjectId('68881c89bca3ddd8597127bf'), ObjectId('68881c89bca3ddd8597127c0'), ObjectId('68881c89bca3ddd8597127c1'), ObjectId('68881c89bca3ddd8597127c2'), ObjectId('68881c89bca3ddd8597127c3'), ObjectId('68881c89bca3ddd8597127c4'), ObjectId('68881c89bca3ddd8597127c5'), ObjectId('68881c89bca3ddd8597127c6'), ObjectId('68881c89bca3ddd8597127c7'), ObjectId('68881c89bca3ddd8597127c8'), ObjectId('68881c89bca3ddd8597127c9'), ObjectId('68881c89bca3ddd8597127ca'), ObjectId('68881c89bca3ddd8597127cb'), ObjectId('68881c89bca3ddd8597127cc'), ObjectId('68881c89bca3ddd8597127cd'), ObjectId('68881c89bca3ddd8597127ce'), ObjectId('68881c89bca3ddd8597127cf'), ObjectId('68881c89bca3ddd8597127d0'), ObjectId('68881c89bca3ddd8597127d1'), ObjectId('68881c89bca3ddd8597127d2'), ObjectId('68881c89bca3ddd8597127d3'), ObjectId('68881c89bca3ddd8597127d4'), ObjectId('68881c89bca3ddd8597127d5'), ObjectId('68881c89bca3ddd8597127d6'), ObjectId('68881c89bca3ddd8597127d7'), ObjectId('68881c89bca3ddd8597127d8'), ObjectId('68881c89bca3ddd8597127d9'), ObjectId('68881c89bca3ddd8597127da'), ObjectId('68881c89bca3ddd8597127db'), ObjectId('68881c89bca3ddd8597127dc'), ObjectId('68881c89bca3ddd8597127dd'), ObjectId('68881c89bca3ddd8597127de'), ObjectId('68881c89bca3ddd8597127df'), ObjectId('68881c89bca3ddd8597127e0'), ObjectId('68881c89bca3ddd8597127e1'), ObjectId('68881c89bca3ddd8597127e2'), ObjectId('68881c89bca3ddd8597127e3'), ObjectId('68881c89bca3ddd8597127e4'), ObjectId('68881c89bca3ddd8597127e5'), ObjectId('68881c89bca3ddd8597127e6'), ObjectId('68881c89bca3ddd8597127e7'), ObjectId('68881c89bca3ddd8597127e8'), ObjectId('68881c89bca3ddd8597127e9'), ObjectId('68881c89bca3ddd8597127ea'), ObjectId('68881c89bca3ddd8597127eb'), ObjectId('68881c89bca3ddd8597127ec'), ObjectId('68881c89bca3ddd8597127ed'), ObjectId('68881c89bca3ddd8597127ee'), ObjectId('68881c89bca3ddd8597127ef'), ObjectId('68881c89bca3ddd8597127f0'), ObjectId('68881c89bca3ddd8597127f1'), ObjectId('68881c89bca3ddd8597127f2'), ObjectId('68881c89bca3ddd8597127f3'), ObjectId('68881c89bca3ddd8597127f4'), ObjectId('68881c89bca3ddd8597127f5'), ObjectId('68881c89bca3ddd8597127f6'), ObjectId('68881c89bca3ddd8597127f7'), ObjectId('68881c89bca3ddd8597127f8'), ObjectId('68881c89bca3ddd8597127f9'), ObjectId('68881c89bca3ddd8597127fa'), ObjectId('68881c89bca3ddd8597127fb'), ObjectId('68881c89bca3ddd8597127fc'), ObjectId('68881c89bca3ddd8597127fd'), ObjectId('68881c89bca3ddd8597127fe'), ObjectId('68881c89bca3ddd8597127ff'), ObjectId('68881c89bca3ddd859712800'), ObjectId('68881c89bca3ddd859712801'), ObjectId('68881c89bca3ddd859712802'), ObjectId('68881c89bca3ddd859712803'), ObjectId('68881c89bca3ddd859712804'), ObjectId('68881c89bca3ddd859712805'), ObjectId('68881c89bca3ddd859712806'), ObjectId('68881c89bca3ddd859712807'), ObjectId('68881c89bca3ddd859712808'), ObjectId('68881c89bca3ddd859712809'), ObjectId('68881c89bca3ddd85971280a'), ObjectId('68881c89bca3ddd85971280b'), ObjectId('68881c89bca3ddd85971280c'), ObjectId('68881c89bca3ddd85971280d'), ObjectId('68881c89bca3ddd85971280e'), ObjectId('68881c89bca3ddd85971280f'), ObjectId('68881c89bca3ddd859712810'), ObjectId('68881c89bca3ddd859712811'), ObjectId('68881c89bca3ddd859712812'), ObjectId('68881c89bca3ddd859712813'), ObjectId('68881c89bca3ddd859712814'), ObjectId('68881c89bca3ddd859712815'), ObjectId('68881c89bca3ddd859712816'), ObjectId('68881c89bca3ddd859712817'), ObjectId('68881c89bca3ddd859712818'), ObjectId('68881c89bca3ddd859712819'), ObjectId('68881c89bca3ddd85971281a'), ObjectId('68881c89bca3ddd85971281b'), ObjectId('68881c89bca3ddd85971281c'), ObjectId('68881c89bca3ddd85971281d'), ObjectId('68881c89bca3ddd85971281e'), ObjectId('68881c89bca3ddd85971281f'), ObjectId('68881c89bca3ddd859712820'), ObjectId('68881c89bca3ddd859712821'), ObjectId('68881c89bca3ddd859712822'), ObjectId('68881c89bca3ddd859712823'), ObjectId('68881c89bca3ddd859712824'), ObjectId('68881c89bca3ddd859712825'), ObjectId('68881c89bca3ddd859712826'), ObjectId('68881c89bca3ddd859712827'), ObjectId('68881c89bca3ddd859712828'), ObjectId('68881c89bca3ddd859712829'), ObjectId('68881c89bca3ddd85971282a'), ObjectId('68881c89bca3ddd85971282b'), ObjectId('68881c89bca3ddd85971282c'), ObjectId('68881c89bca3ddd85971282d'), ObjectId('68881c89bca3ddd85971282e'), ObjectId('68881c89bca3ddd85971282f'), ObjectId('68881c89bca3ddd859712830'), ObjectId('68881c89bca3ddd859712831'), ObjectId('68881c89bca3ddd859712832'), ObjectId('68881c89bca3ddd859712833'), ObjectId('68881c89bca3ddd859712834'), ObjectId('68881c89bca3ddd859712835'), ObjectId('68881c89bca3ddd859712836'), ObjectId('68881c89bca3ddd859712837'), ObjectId('68881c89bca3ddd859712838'), ObjectId('68881c89bca3ddd859712839'), ObjectId('68881c89bca3ddd85971283a'), ObjectId('68881c89bca3ddd85971283b'), ObjectId('68881c89bca3ddd85971283c'), ObjectId('68881c89bca3ddd85971283d'), ObjectId('68881c89bca3ddd85971283e'), ObjectId('68881c89bca3ddd85971283f'), ObjectId('68881c89bca3ddd859712840'), ObjectId('68881c89bca3ddd859712841'), ObjectId('68881c89bca3ddd859712842'), ObjectId('68881c89bca3ddd859712843'), ObjectId('68881c89bca3ddd859712844'), ObjectId('68881c89bca3ddd859712845'), ObjectId('68881c89bca3ddd859712846'), ObjectId('68881c89bca3ddd859712847'), ObjectId('68881c89bca3ddd859712848'), ObjectId('68881c89bca3ddd859712849'), ObjectId('68881c89bca3ddd85971284a'), ObjectId('68881c89bca3ddd85971284b'), ObjectId('68881c89bca3ddd85971284c'), ObjectId('68881c89bca3ddd85971284d'), ObjectId('68881c89bca3ddd85971284e'), ObjectId('68881c89bca3ddd85971284f'), ObjectId('68881c89bca3ddd859712850'), ObjectId('68881c89bca3ddd859712851'), ObjectId('68881c89bca3ddd859712852'), ObjectId('68881c89bca3ddd859712853'), ObjectId('68881c89bca3ddd859712854'), ObjectId('68881c89bca3ddd859712855'), ObjectId('68881c89bca3ddd859712856'), ObjectId('68881c89bca3ddd859712857'), ObjectId('68881c89bca3ddd859712858'), ObjectId('68881c89bca3ddd859712859'), ObjectId('68881c89bca3ddd85971285a'), ObjectId('68881c89bca3ddd85971285b'), ObjectId('68881c89bca3ddd85971285c'), ObjectId('68881c89bca3ddd85971285d'), ObjectId('68881c89bca3ddd85971285e'), ObjectId('68881c89bca3ddd85971285f'), ObjectId('68881c89bca3ddd859712860'), ObjectId('68881c89bca3ddd859712861'), ObjectId('68881c89bca3ddd859712862'), ObjectId('68881c89bca3ddd859712863'), ObjectId('68881c89bca3ddd859712864'), ObjectId('68881c89bca3ddd859712865'), ObjectId('68881c89bca3ddd859712866'), ObjectId('68881c89bca3ddd859712867'), ObjectId('68881c89bca3ddd859712868'), ObjectId('68881c89bca3ddd859712869'), ObjectId('68881c89bca3ddd85971286a'), ObjectId('68881c89bca3ddd85971286b'), ObjectId('68881c89bca3ddd85971286c'), ObjectId('68881c89bca3ddd85971286d'), ObjectId('68881c89bca3ddd85971286e'), ObjectId('68881c89bca3ddd85971286f'), ObjectId('68881c89bca3ddd859712870'), ObjectId('68881c89bca3ddd859712871'), ObjectId('68881c89bca3ddd859712872'), ObjectId('68881c89bca3ddd859712873'), ObjectId('68881c89bca3ddd859712874'), ObjectId('68881c89bca3ddd859712875'), ObjectId('68881c89bca3ddd859712876'), ObjectId('68881c89bca3ddd859712877'), ObjectId('68881c89bca3ddd859712878'), ObjectId('68881c89bca3ddd859712879'), ObjectId('68881c89bca3ddd85971287a'), ObjectId('68881c89bca3ddd85971287b'), ObjectId('68881c89bca3ddd85971287c'), ObjectId('68881c89bca3ddd85971287d'), ObjectId('68881c89bca3ddd85971287e'), ObjectId('68881c89bca3ddd85971287f'), ObjectId('68881c89bca3ddd859712880'), ObjectId('68881c89bca3ddd859712881'), ObjectId('68881c89bca3ddd859712882'), ObjectId('68881c89bca3ddd859712883'), ObjectId('68881c89bca3ddd859712884'), ObjectId('68881c89bca3ddd859712885'), ObjectId('68881c89bca3ddd859712886'), ObjectId('68881c89bca3ddd859712887'), ObjectId('68881c89bca3ddd859712888'), ObjectId('68881c89bca3ddd859712889'), ObjectId('68881c89bca3ddd85971288a'), ObjectId('68881c89bca3ddd85971288b'), ObjectId('68881c89bca3ddd85971288c'), ObjectId('68881c89bca3ddd85971288d'), ObjectId('68881c89bca3ddd85971288e'), ObjectId('68881c89bca3ddd85971288f'), ObjectId('68881c89bca3ddd859712890'), ObjectId('68881c89bca3ddd859712891'), ObjectId('68881c89bca3ddd859712892'), ObjectId('68881c89bca3ddd859712893'), ObjectId('68881c89bca3ddd859712894'), ObjectId('68881c89bca3ddd859712895'), ObjectId('68881c89bca3ddd859712896'), ObjectId('68881c89bca3ddd859712897'), ObjectId('68881c89bca3ddd859712898'), ObjectId('68881c89bca3ddd859712899'), ObjectId('68881c89bca3ddd85971289a'), ObjectId('68881c89bca3ddd85971289b'), ObjectId('68881c89bca3ddd85971289c'), ObjectId('68881c89bca3ddd85971289d'), ObjectId('68881c89bca3ddd85971289e'), ObjectId('68881c89bca3ddd85971289f'), ObjectId('68881c89bca3ddd8597128a0'), ObjectId('68881c89bca3ddd8597128a1'), ObjectId('68881c89bca3ddd8597128a2'), ObjectId('68881c89bca3ddd8597128a3'), ObjectId('68881c89bca3ddd8597128a4'), ObjectId('68881c89bca3ddd8597128a5'), ObjectId('68881c89bca3ddd8597128a6'), ObjectId('68881c89bca3ddd8597128a7'), ObjectId('68881c89bca3ddd8597128a8'), ObjectId('68881c89bca3ddd8597128a9'), ObjectId('68881c89bca3ddd8597128aa'), ObjectId('68881c89bca3ddd8597128ab'), ObjectId('68881c89bca3ddd8597128ac'), ObjectId('68881c89bca3ddd8597128ad'), ObjectId('68881c89bca3ddd8597128ae'), ObjectId('68881c89bca3ddd8597128af'), ObjectId('68881c89bca3ddd8597128b0'), ObjectId('68881c89bca3ddd8597128b1'), ObjectId('68881c89bca3ddd8597128b2'), ObjectId('68881c89bca3ddd8597128b3'), ObjectId('68881c89bca3ddd8597128b4'), ObjectId('68881c89bca3ddd8597128b5'), ObjectId('68881c89bca3ddd8597128b6'), ObjectId('68881c89bca3ddd8597128b7'), ObjectId('68881c89bca3ddd8597128b8'), ObjectId('68881c89bca3ddd8597128b9'), ObjectId('68881c89bca3ddd8597128ba'), ObjectId('68881c89bca3ddd8597128bb'), ObjectId('68881c89bca3ddd8597128bc'), ObjectId('68881c89bca3ddd8597128bd'), ObjectId('68881c89bca3ddd8597128be'), ObjectId('68881c89bca3ddd8597128bf'), ObjectId('68881c89bca3ddd8597128c0'), ObjectId('68881c89bca3ddd8597128c1'), ObjectId('68881c89bca3ddd8597128c2'), ObjectId('68881c89bca3ddd8597128c3'), ObjectId('68881c89bca3ddd8597128c4'), ObjectId('68881c89bca3ddd8597128c5'), ObjectId('68881c89bca3ddd8597128c6'), ObjectId('68881c89bca3ddd8597128c7'), ObjectId('68881c89bca3ddd8597128c8'), ObjectId('68881c89bca3ddd8597128c9'), ObjectId('68881c89bca3ddd8597128ca'), ObjectId('68881c89bca3ddd8597128cb'), ObjectId('68881c89bca3ddd8597128cc'), ObjectId('68881c89bca3ddd8597128cd'), ObjectId('68881c89bca3ddd8597128ce'), ObjectId('68881c89bca3ddd8597128cf'), ObjectId('68881c89bca3ddd8597128d0'), ObjectId('68881c89bca3ddd8597128d1'), ObjectId('68881c89bca3ddd8597128d2'), ObjectId('68881c89bca3ddd8597128d3'), ObjectId('68881c89bca3ddd8597128d4'), ObjectId('68881c89bca3ddd8597128d5'), ObjectId('68881c89bca3ddd8597128d6'), ObjectId('68881c89bca3ddd8597128d7'), ObjectId('68881c89bca3ddd8597128d8'), ObjectId('68881c89bca3ddd8597128d9'), ObjectId('68881c89bca3ddd8597128da'), ObjectId('68881c89bca3ddd8597128db'), ObjectId('68881c89bca3ddd8597128dc'), ObjectId('68881c89bca3ddd8597128dd'), ObjectId('68881c89bca3ddd8597128de'), ObjectId('68881c89bca3ddd8597128df'), ObjectId('68881c89bca3ddd8597128e0'), ObjectId('68881c89bca3ddd8597128e1'), ObjectId('68881c89bca3ddd8597128e2'), ObjectId('68881c89bca3ddd8597128e3'), ObjectId('68881c89bca3ddd8597128e4'), ObjectId('68881c89bca3ddd8597128e5'), ObjectId('68881c89bca3ddd8597128e6'), ObjectId('68881c89bca3ddd8597128e7'), ObjectId('68881c89bca3ddd8597128e8'), ObjectId('68881c89bca3ddd8597128e9'), ObjectId('68881c89bca3ddd8597128ea'), ObjectId('68881c89bca3ddd8597128eb'), ObjectId('68881c89bca3ddd8597128ec'), ObjectId('68881c89bca3ddd8597128ed'), ObjectId('68881c89bca3ddd8597128ee'), ObjectId('68881c89bca3ddd8597128ef'), ObjectId('68881c89bca3ddd8597128f0'), ObjectId('68881c89bca3ddd8597128f1'), ObjectId('68881c89bca3ddd8597128f2'), ObjectId('68881c89bca3ddd8597128f3'), ObjectId('68881c89bca3ddd8597128f4'), ObjectId('68881c89bca3ddd8597128f5'), ObjectId('68881c89bca3ddd8597128f6'), ObjectId('68881c89bca3ddd8597128f7'), ObjectId('68881c89bca3ddd8597128f8'), ObjectId('68881c89bca3ddd8597128f9'), ObjectId('68881c89bca3ddd8597128fa'), ObjectId('68881c89bca3ddd8597128fb'), ObjectId('68881c89bca3ddd8597128fc'), ObjectId('68881c89bca3ddd8597128fd'), ObjectId('68881c89bca3ddd8597128fe'), ObjectId('68881c89bca3ddd8597128ff'), ObjectId('68881c89bca3ddd859712900'), ObjectId('68881c89bca3ddd859712901'), ObjectId('68881c89bca3ddd859712902'), ObjectId('68881c89bca3ddd859712903'), ObjectId('68881c89bca3ddd859712904'), ObjectId('68881c89bca3ddd859712905'), ObjectId('68881c89bca3ddd859712906'), ObjectId('68881c89bca3ddd859712907'), ObjectId('68881c89bca3ddd859712908'), ObjectId('68881c89bca3ddd859712909'), ObjectId('68881c89bca3ddd85971290a'), ObjectId('68881c89bca3ddd85971290b'), ObjectId('68881c89bca3ddd85971290c'), ObjectId('68881c89bca3ddd85971290d'), ObjectId('68881c89bca3ddd85971290e'), ObjectId('68881c89bca3ddd85971290f'), ObjectId('68881c89bca3ddd859712910'), ObjectId('68881c89bca3ddd859712911'), ObjectId('68881c89bca3ddd859712912'), ObjectId('68881c89bca3ddd859712913'), ObjectId('68881c89bca3ddd859712914'), ObjectId('68881c89bca3ddd859712915'), ObjectId('68881c89bca3ddd859712916'), ObjectId('68881c89bca3ddd859712917'), ObjectId('68881c89bca3ddd859712918'), ObjectId('68881c89bca3ddd859712919'), ObjectId('68881c89bca3ddd85971291a'), ObjectId('68881c89bca3ddd85971291b'), ObjectId('68881c89bca3ddd85971291c'), ObjectId('68881c89bca3ddd85971291d'), ObjectId('68881c89bca3ddd85971291e'), ObjectId('68881c89bca3ddd85971291f'), ObjectId('68881c89bca3ddd859712920'), ObjectId('68881c89bca3ddd859712921'), ObjectId('68881c89bca3ddd859712922'), ObjectId('68881c89bca3ddd859712923'), ObjectId('68881c89bca3ddd859712924'), ObjectId('68881c89bca3ddd859712925'), ObjectId('68881c89bca3ddd859712926'), ObjectId('68881c89bca3ddd859712927'), ObjectId('68881c89bca3ddd859712928'), ObjectId('68881c89bca3ddd859712929'), ObjectId('68881c89bca3ddd85971292a'), ObjectId('68881c89bca3ddd85971292b'), ObjectId('68881c89bca3ddd85971292c'), ObjectId('68881c89bca3ddd85971292d'), ObjectId('68881c89bca3ddd85971292e'), ObjectId('68881c89bca3ddd85971292f'), ObjectId('68881c89bca3ddd859712930'), ObjectId('68881c89bca3ddd859712931'), ObjectId('68881c89bca3ddd859712932'), ObjectId('68881c89bca3ddd859712933'), ObjectId('68881c89bca3ddd859712934'), ObjectId('68881c89bca3ddd859712935'), ObjectId('68881c89bca3ddd859712936'), ObjectId('68881c89bca3ddd859712937'), ObjectId('68881c89bca3ddd859712938'), ObjectId('68881c89bca3ddd859712939'), ObjectId('68881c89bca3ddd85971293a'), ObjectId('68881c89bca3ddd85971293b'), ObjectId('68881c89bca3ddd85971293c'), ObjectId('68881c89bca3ddd85971293d'), ObjectId('68881c89bca3ddd85971293e'), ObjectId('68881c89bca3ddd85971293f'), ObjectId('68881c89bca3ddd859712940'), ObjectId('68881c89bca3ddd859712941'), ObjectId('68881c89bca3ddd859712942'), ObjectId('68881c89bca3ddd859712943'), ObjectId('68881c89bca3ddd859712944'), ObjectId('68881c89bca3ddd859712945'), ObjectId('68881c89bca3ddd859712946'), ObjectId('68881c89bca3ddd859712947'), ObjectId('68881c89bca3ddd859712948'), ObjectId('68881c89bca3ddd859712949'), ObjectId('68881c89bca3ddd85971294a'), ObjectId('68881c89bca3ddd85971294b'), ObjectId('68881c89bca3ddd85971294c'), ObjectId('68881c89bca3ddd85971294d'), ObjectId('68881c89bca3ddd85971294e'), ObjectId('68881c89bca3ddd85971294f'), ObjectId('68881c89bca3ddd859712950'), ObjectId('68881c89bca3ddd859712951'), ObjectId('68881c89bca3ddd859712952'), ObjectId('68881c89bca3ddd859712953'), ObjectId('68881c89bca3ddd859712954'), ObjectId('68881c89bca3ddd859712955'), ObjectId('68881c89bca3ddd859712956'), ObjectId('68881c89bca3ddd859712957'), ObjectId('68881c89bca3ddd859712958'), ObjectId('68881c89bca3ddd859712959'), ObjectId('68881c89bca3ddd85971295a'), ObjectId('68881c89bca3ddd85971295b'), ObjectId('68881c89bca3ddd85971295c'), ObjectId('68881c89bca3ddd85971295d'), ObjectId('68881c89bca3ddd85971295e'), ObjectId('68881c89bca3ddd85971295f'), ObjectId('68881c89bca3ddd859712960'), ObjectId('68881c89bca3ddd859712961'), ObjectId('68881c89bca3ddd859712962'), ObjectId('68881c89bca3ddd859712963'), ObjectId('68881c89bca3ddd859712964'), ObjectId('68881c89bca3ddd859712965'), ObjectId('68881c89bca3ddd859712966'), ObjectId('68881c89bca3ddd859712967'), ObjectId('68881c89bca3ddd859712968'), ObjectId('68881c89bca3ddd859712969'), ObjectId('68881c89bca3ddd85971296a'), ObjectId('68881c89bca3ddd85971296b'), ObjectId('68881c89bca3ddd85971296c'), ObjectId('68881c89bca3ddd85971296d'), ObjectId('68881c89bca3ddd85971296e'), ObjectId('68881c89bca3ddd85971296f'), ObjectId('68881c89bca3ddd859712970'), ObjectId('68881c89bca3ddd859712971'), ObjectId('68881c89bca3ddd859712972'), ObjectId('68881c89bca3ddd859712973'), ObjectId('68881c89bca3ddd859712974'), ObjectId('68881c89bca3ddd859712975'), ObjectId('68881c89bca3ddd859712976'), ObjectId('68881c89bca3ddd859712977'), ObjectId('68881c89bca3ddd859712978'), ObjectId('68881c89bca3ddd859712979'), ObjectId('68881c89bca3ddd85971297a'), ObjectId('68881c89bca3ddd85971297b'), ObjectId('68881c89bca3ddd85971297c'), ObjectId('68881c89bca3ddd85971297d'), ObjectId('68881c89bca3ddd85971297e'), ObjectId('68881c89bca3ddd85971297f'), ObjectId('68881c89bca3ddd859712980'), ObjectId('68881c89bca3ddd859712981'), ObjectId('68881c89bca3ddd859712982'), ObjectId('68881c89bca3ddd859712983'), ObjectId('68881c89bca3ddd859712984'), ObjectId('68881c89bca3ddd859712985'), ObjectId('68881c89bca3ddd859712986'), ObjectId('68881c89bca3ddd859712987'), ObjectId('68881c89bca3ddd859712988'), ObjectId('68881c89bca3ddd859712989'), ObjectId('68881c89bca3ddd85971298a'), ObjectId('68881c89bca3ddd85971298b'), ObjectId('68881c89bca3ddd85971298c'), ObjectId('68881c89bca3ddd85971298d'), ObjectId('68881c89bca3ddd85971298e'), ObjectId('68881c89bca3ddd85971298f'), ObjectId('68881c89bca3ddd859712990'), ObjectId('68881c89bca3ddd859712991'), ObjectId('68881c89bca3ddd859712992'), ObjectId('68881c89bca3ddd859712993'), ObjectId('68881c89bca3ddd859712994'), ObjectId('68881c89bca3ddd859712995'), ObjectId('68881c89bca3ddd859712996'), ObjectId('68881c89bca3ddd859712997'), ObjectId('68881c89bca3ddd859712998'), ObjectId('68881c89bca3ddd859712999'), ObjectId('68881c89bca3ddd85971299a'), ObjectId('68881c89bca3ddd85971299b'), ObjectId('68881c89bca3ddd85971299c'), ObjectId('68881c89bca3ddd85971299d'), ObjectId('68881c89bca3ddd85971299e'), ObjectId('68881c89bca3ddd85971299f'), ObjectId('68881c89bca3ddd8597129a0'), ObjectId('68881c89bca3ddd8597129a1'), ObjectId('68881c89bca3ddd8597129a2'), ObjectId('68881c89bca3ddd8597129a3'), ObjectId('68881c89bca3ddd8597129a4'), ObjectId('68881c89bca3ddd8597129a5'), ObjectId('68881c89bca3ddd8597129a6'), ObjectId('68881c89bca3ddd8597129a7'), ObjectId('68881c89bca3ddd8597129a8'), ObjectId('68881c89bca3ddd8597129a9'), ObjectId('68881c89bca3ddd8597129aa'), ObjectId('68881c89bca3ddd8597129ab'), ObjectId('68881c89bca3ddd8597129ac'), ObjectId('68881c89bca3ddd8597129ad'), ObjectId('68881c89bca3ddd8597129ae'), ObjectId('68881c89bca3ddd8597129af'), ObjectId('68881c89bca3ddd8597129b0'), ObjectId('68881c89bca3ddd8597129b1'), ObjectId('68881c89bca3ddd8597129b2'), ObjectId('68881c89bca3ddd8597129b3'), ObjectId('68881c89bca3ddd8597129b4'), ObjectId('68881c89bca3ddd8597129b5'), ObjectId('68881c89bca3ddd8597129b6'), ObjectId('68881c89bca3ddd8597129b7'), ObjectId('68881c89bca3ddd8597129b8'), ObjectId('68881c89bca3ddd8597129b9'), ObjectId('68881c89bca3ddd8597129ba'), ObjectId('68881c89bca3ddd8597129bb'), ObjectId('68881c89bca3ddd8597129bc'), ObjectId('68881c89bca3ddd8597129bd'), ObjectId('68881c89bca3ddd8597129be'), ObjectId('68881c89bca3ddd8597129bf'), ObjectId('68881c89bca3ddd8597129c0'), ObjectId('68881c89bca3ddd8597129c1'), ObjectId('68881c89bca3ddd8597129c2'), ObjectId('68881c89bca3ddd8597129c3'), ObjectId('68881c89bca3ddd8597129c4'), ObjectId('68881c89bca3ddd8597129c5'), ObjectId('68881c89bca3ddd8597129c6'), ObjectId('68881c89bca3ddd8597129c7'), ObjectId('68881c89bca3ddd8597129c8'), ObjectId('68881c89bca3ddd8597129c9'), ObjectId('68881c89bca3ddd8597129ca'), ObjectId('68881c89bca3ddd8597129cb'), ObjectId('68881c89bca3ddd8597129cc'), ObjectId('68881c89bca3ddd8597129cd'), ObjectId('68881c89bca3ddd8597129ce'), ObjectId('68881c89bca3ddd8597129cf'), ObjectId('68881c89bca3ddd8597129d0'), ObjectId('68881c89bca3ddd8597129d1'), ObjectId('68881c89bca3ddd8597129d2'), ObjectId('68881c89bca3ddd8597129d3'), ObjectId('68881c89bca3ddd8597129d4'), ObjectId('68881c89bca3ddd8597129d5'), ObjectId('68881c89bca3ddd8597129d6'), ObjectId('68881c89bca3ddd8597129d7'), ObjectId('68881c89bca3ddd8597129d8'), ObjectId('68881c89bca3ddd8597129d9'), ObjectId('68881c89bca3ddd8597129da'), ObjectId('68881c89bca3ddd8597129db'), ObjectId('68881c89bca3ddd8597129dc'), ObjectId('68881c89bca3ddd8597129dd'), ObjectId('68881c89bca3ddd8597129de'), ObjectId('68881c89bca3ddd8597129df'), ObjectId('68881c89bca3ddd8597129e0'), ObjectId('68881c89bca3ddd8597129e1'), ObjectId('68881c89bca3ddd8597129e2'), ObjectId('68881c89bca3ddd8597129e3'), ObjectId('68881c89bca3ddd8597129e4'), ObjectId('68881c89bca3ddd8597129e5'), ObjectId('68881c89bca3ddd8597129e6'), ObjectId('68881c89bca3ddd8597129e7'), ObjectId('68881c89bca3ddd8597129e8'), ObjectId('68881c89bca3ddd8597129e9'), ObjectId('68881c89bca3ddd8597129ea'), ObjectId('68881c89bca3ddd8597129eb'), ObjectId('68881c89bca3ddd8597129ec'), ObjectId('68881c89bca3ddd8597129ed'), ObjectId('68881c89bca3ddd8597129ee'), ObjectId('68881c89bca3ddd8597129ef'), ObjectId('68881c89bca3ddd8597129f0'), ObjectId('68881c89bca3ddd8597129f1'), ObjectId('68881c89bca3ddd8597129f2'), ObjectId('68881c89bca3ddd8597129f3'), ObjectId('68881c89bca3ddd8597129f4'), ObjectId('68881c89bca3ddd8597129f5'), ObjectId('68881c89bca3ddd8597129f6'), ObjectId('68881c89bca3ddd8597129f7'), ObjectId('68881c89bca3ddd8597129f8'), ObjectId('68881c89bca3ddd8597129f9'), ObjectId('68881c89bca3ddd8597129fa'), ObjectId('68881c89bca3ddd8597129fb'), ObjectId('68881c89bca3ddd8597129fc'), ObjectId('68881c89bca3ddd8597129fd'), ObjectId('68881c89bca3ddd8597129fe'), ObjectId('68881c89bca3ddd8597129ff'), ObjectId('68881c89bca3ddd859712a00'), ObjectId('68881c89bca3ddd859712a01'), ObjectId('68881c89bca3ddd859712a02'), ObjectId('68881c89bca3ddd859712a03'), ObjectId('68881c89bca3ddd859712a04'), ObjectId('68881c89bca3ddd859712a05'), ObjectId('68881c89bca3ddd859712a06'), ObjectId('68881c89bca3ddd859712a07'), ObjectId('68881c89bca3ddd859712a08'), ObjectId('68881c89bca3ddd859712a09'), ObjectId('68881c89bca3ddd859712a0a'), ObjectId('68881c89bca3ddd859712a0b'), ObjectId('68881c89bca3ddd859712a0c'), ObjectId('68881c89bca3ddd859712a0d'), ObjectId('68881c89bca3ddd859712a0e'), ObjectId('68881c89bca3ddd859712a0f'), ObjectId('68881c89bca3ddd859712a10'), ObjectId('68881c89bca3ddd859712a11'), ObjectId('68881c89bca3ddd859712a12'), ObjectId('68881c89bca3ddd859712a13'), ObjectId('68881c89bca3ddd859712a14'), ObjectId('68881c89bca3ddd859712a15'), ObjectId('68881c89bca3ddd859712a16'), ObjectId('68881c89bca3ddd859712a17'), ObjectId('68881c89bca3ddd859712a18'), ObjectId('68881c89bca3ddd859712a19'), ObjectId('68881c89bca3ddd859712a1a'), ObjectId('68881c89bca3ddd859712a1b'), ObjectId('68881c89bca3ddd859712a1c'), ObjectId('68881c89bca3ddd859712a1d'), ObjectId('68881c89bca3ddd859712a1e'), ObjectId('68881c89bca3ddd859712a1f'), ObjectId('68881c89bca3ddd859712a20'), ObjectId('68881c89bca3ddd859712a21'), ObjectId('68881c89bca3ddd859712a22'), ObjectId('68881c89bca3ddd859712a23'), ObjectId('68881c89bca3ddd859712a24'), ObjectId('68881c89bca3ddd859712a25'), ObjectId('68881c89bca3ddd859712a26'), ObjectId('68881c89bca3ddd859712a27'), ObjectId('68881c89bca3ddd859712a28'), ObjectId('68881c89bca3ddd859712a29'), ObjectId('68881c89bca3ddd859712a2a'), ObjectId('68881c89bca3ddd859712a2b'), ObjectId('68881c89bca3ddd859712a2c'), ObjectId('68881c89bca3ddd859712a2d'), ObjectId('68881c89bca3ddd859712a2e'), ObjectId('68881c89bca3ddd859712a2f'), ObjectId('68881c89bca3ddd859712a30'), ObjectId('68881c89bca3ddd859712a31'), ObjectId('68881c89bca3ddd859712a32'), ObjectId('68881c89bca3ddd859712a33'), ObjectId('68881c89bca3ddd859712a34'), ObjectId('68881c89bca3ddd859712a35'), ObjectId('68881c89bca3ddd859712a36'), ObjectId('68881c89bca3ddd859712a37'), ObjectId('68881c89bca3ddd859712a38'), ObjectId('68881c89bca3ddd859712a39'), ObjectId('68881c89bca3ddd859712a3a'), ObjectId('68881c89bca3ddd859712a3b'), ObjectId('68881c89bca3ddd859712a3c'), ObjectId('68881c89bca3ddd859712a3d'), ObjectId('68881c89bca3ddd859712a3e'), ObjectId('68881c89bca3ddd859712a3f'), ObjectId('68881c89bca3ddd859712a40'), ObjectId('68881c89bca3ddd859712a41'), ObjectId('68881c89bca3ddd859712a42'), ObjectId('68881c89bca3ddd859712a43'), ObjectId('68881c89bca3ddd859712a44'), ObjectId('68881c89bca3ddd859712a45'), ObjectId('68881c89bca3ddd859712a46'), ObjectId('68881c89bca3ddd859712a47'), ObjectId('68881c89bca3ddd859712a48'), ObjectId('68881c89bca3ddd859712a49'), ObjectId('68881c89bca3ddd859712a4a'), ObjectId('68881c89bca3ddd859712a4b'), ObjectId('68881c89bca3ddd859712a4c'), ObjectId('68881c89bca3ddd859712a4d'), ObjectId('68881c89bca3ddd859712a4e'), ObjectId('68881c89bca3ddd859712a4f'), ObjectId('68881c89bca3ddd859712a50'), ObjectId('68881c89bca3ddd859712a51'), ObjectId('68881c89bca3ddd859712a52'), ObjectId('68881c89bca3ddd859712a53'), ObjectId('68881c89bca3ddd859712a54'), ObjectId('68881c89bca3ddd859712a55'), ObjectId('68881c89bca3ddd859712a56'), ObjectId('68881c89bca3ddd859712a57'), ObjectId('68881c89bca3ddd859712a58'), ObjectId('68881c89bca3ddd859712a59'), ObjectId('68881c89bca3ddd859712a5a'), ObjectId('68881c89bca3ddd859712a5b'), ObjectId('68881c89bca3ddd859712a5c'), ObjectId('68881c89bca3ddd859712a5d'), ObjectId('68881c89bca3ddd859712a5e'), ObjectId('68881c89bca3ddd859712a5f'), ObjectId('68881c89bca3ddd859712a60'), ObjectId('68881c89bca3ddd859712a61'), ObjectId('68881c89bca3ddd859712a62'), ObjectId('68881c89bca3ddd859712a63'), ObjectId('68881c89bca3ddd859712a64'), ObjectId('68881c89bca3ddd859712a65'), ObjectId('68881c89bca3ddd859712a66'), ObjectId('68881c89bca3ddd859712a67'), ObjectId('68881c89bca3ddd859712a68'), ObjectId('68881c89bca3ddd859712a69'), ObjectId('68881c89bca3ddd859712a6a'), ObjectId('68881c89bca3ddd859712a6b'), ObjectId('68881c89bca3ddd859712a6c'), ObjectId('68881c89bca3ddd859712a6d'), ObjectId('68881c89bca3ddd859712a6e'), ObjectId('68881c89bca3ddd859712a6f'), ObjectId('68881c89bca3ddd859712a70'), ObjectId('68881c89bca3ddd859712a71'), ObjectId('68881c89bca3ddd859712a72'), ObjectId('68881c89bca3ddd859712a73'), ObjectId('68881c89bca3ddd859712a74'), ObjectId('68881c89bca3ddd859712a75'), ObjectId('68881c89bca3ddd859712a76'), ObjectId('68881c89bca3ddd859712a77'), ObjectId('68881c89bca3ddd859712a78'), ObjectId('68881c89bca3ddd859712a79'), ObjectId('68881c89bca3ddd859712a7a'), ObjectId('68881c89bca3ddd859712a7b'), ObjectId('68881c89bca3ddd859712a7c'), ObjectId('68881c89bca3ddd859712a7d'), ObjectId('68881c89bca3ddd859712a7e'), ObjectId('68881c89bca3ddd859712a7f'), ObjectId('68881c89bca3ddd859712a80'), ObjectId('68881c89bca3ddd859712a81'), ObjectId('68881c89bca3ddd859712a82'), ObjectId('68881c89bca3ddd859712a83'), ObjectId('68881c89bca3ddd859712a84'), ObjectId('68881c89bca3ddd859712a85'), ObjectId('68881c89bca3ddd859712a86'), ObjectId('68881c89bca3ddd859712a87'), ObjectId('68881c89bca3ddd859712a88'), ObjectId('68881c89bca3ddd859712a89'), ObjectId('68881c89bca3ddd859712a8a'), ObjectId('68881c89bca3ddd859712a8b'), ObjectId('68881c89bca3ddd859712a8c'), ObjectId('68881c89bca3ddd859712a8d'), ObjectId('68881c89bca3ddd859712a8e'), ObjectId('68881c89bca3ddd859712a8f'), ObjectId('68881c89bca3ddd859712a90'), ObjectId('68881c89bca3ddd859712a91'), ObjectId('68881c89bca3ddd859712a92'), ObjectId('68881c89bca3ddd859712a93'), ObjectId('68881c89bca3ddd859712a94'), ObjectId('68881c89bca3ddd859712a95')], acknowledged=True)"
            ]
          },
          "execution_count": 9,
          "metadata": {},
          "output_type": "execute_result"
        }
      ],
      "source": [
        "# Delete existing records\n",
        "drug_reviews_collection.delete_many({});\n",
        "\n",
        "# Insert new records\n",
        "drug_reviews_dataset = drug_reviews_dataset.to_dict(\"records\")\n",
        "\n",
        "<CODE_BLOCK_1>\n"
      ]
    },
    {
      "cell_type": "markdown",
      "metadata": {},
      "source": [
        "# Step 3: Implement search on drug reviews"
      ]
    },
    {
      "cell_type": "markdown",
      "metadata": {},
      "source": [
        "### Create a search index\n",
        "\n",
        "📚 https://www.mongodb.com/docs/atlas/atlas-search/define-field-mappings/\n"
      ]
    },
    {
      "cell_type": "code",
      "execution_count": null,
      "metadata": {},
      "outputs": [],
      "source": [
        "# Define the text search index definition for the drugs_review dataset.\n",
        "# This configuration specifies that only the \"drugName\" and \"condition\" fields will be indexed,\n",
        "# and automatic field detection is disabled.\n",
        "DRUG_REVIEW_SEARCH_INDEX_NAME='drug_review_search_index'\n",
        "\n",
        "drug_review_text_search_model = {\n",
        "    \"name\": DRUG_REVIEW_SEARCH_INDEX_NAME,\n",
        "    \"type\": \"search\",\n",
        "    \"definition\": {\n",
        "        \"analyzer\": \"lucene.english\",\n",
        "        \"mappings\": {\n",
        "            \"dynamic\": False,  # Disable automatic detection; only explicitly defined fields are indexed.\n",
        "            <CODE_BLOCK_2>\n",
        "        }\n",
        "    }\n",
        "}"
      ]
    },
    {
      "cell_type": "code",
      "execution_count": null,
      "metadata": {},
      "outputs": [
        {
          "data": {
            "text/plain": [
              "'drug_review_search_index'"
            ]
          },
          "execution_count": 11,
          "metadata": {},
          "output_type": "execute_result"
        }
      ],
      "source": [
        "# create search index\n",
        "<CODE_BLOCK_3>"
      ]
    },
    {
      "cell_type": "markdown",
      "metadata": {},
      "source": [
        "### Perform text search\n",
        "\n",
        "📚 https://www.mongodb.com/docs/atlas/atlas-search/aggregation-stages/search/\n"
      ]
    },
    {
      "cell_type": "code",
      "execution_count": null,
      "metadata": {},
      "outputs": [],
      "source": [
        "# Definition to perform text search\n",
        "def drug_review_text_search(query_text):\n",
        "    \"\"\"\n",
        "    Perform a text search in the MongoDB collection based on the user query.\n",
        "\n",
        "    Args:\n",
        "        query_text (str): The user's query string.\n",
        "\n",
        "    Returns:\n",
        "        list: A list of matching documents.\n",
        "    \"\"\"\n",
        "\n",
        "    # Define the text search stage using MongoDB's $search operator.\n",
        "    # This is part of Atlas Search and provides more powerful text search capabilities\n",
        "    # than MongoDB's standard text index.\n",
        "    # Perform a text search on the paths \"drugName\" and condition.\n",
        "    # Cater for typo tolerance with 2 maxEdits.\n",
        "    text_search_stage = {\n",
        "        \"$search\": {\n",
        "            \"index\": DRUG_REVIEW_SEARCH_INDEX_NAME,\n",
        "            <CODE_BLOCK_4>\n",
        "        }\n",
        "    }\n",
        "\n",
        "    # Limit the number of results returned to improve performance.\n",
        "    # This is especially important for large collections.\n",
        "    limit_stage = {\"$limit\": 5}\n",
        "\n",
        "    # Define which fields to include in the returned documents.\n",
        "    # Excluding unnecessary fields reduces bandwidth and processing overhead.\n",
        "    project_stage = {\n",
        "        \"$project\": {\n",
        "            \"_id\": 0,  # Exclude MongoDB's internal ID field.\n",
        "            \"embedding\": 0,  # Exclude the embedding field.\n",
        "        }\n",
        "    }\n",
        "\n",
        "    # Combine all stages into a MongoDB aggregation pipeline.\n",
        "    # The pipeline will execute stages in sequence: search, limit, then project.\n",
        "    pipeline = [text_search_stage, limit_stage, project_stage]\n",
        "\n",
        "    # Execute the search by running the aggregation pipeline against the specified collection.\n",
        "    # Convert the cursor to a list to ensure results are fully fetched before the function returns.\n",
        "    results = <CODE_BLOCK_5>\n",
        "\n",
        "    return list(results)"
      ]
    },
    {
      "cell_type": "code",
      "execution_count": 13,
      "metadata": {},
      "outputs": [
        {
          "data": {
            "text/html": [
              "<div>\n",
              "<style scoped>\n",
              "    .dataframe tbody tr th:only-of-type {\n",
              "        vertical-align: middle;\n",
              "    }\n",
              "\n",
              "    .dataframe tbody tr th {\n",
              "        vertical-align: top;\n",
              "    }\n",
              "\n",
              "    .dataframe thead th {\n",
              "        text-align: right;\n",
              "    }\n",
              "</style>\n",
              "<table border=\"1\" class=\"dataframe\">\n",
              "  <thead>\n",
              "    <tr style=\"text-align: right;\">\n",
              "      <th></th>\n",
              "      <th>drugName</th>\n",
              "      <th>condition</th>\n",
              "      <th>review</th>\n",
              "      <th>rating</th>\n",
              "    </tr>\n",
              "  </thead>\n",
              "  <tbody>\n",
              "    <tr>\n",
              "      <th>0</th>\n",
              "      <td>dextromethorphan</td>\n",
              "      <td>cough</td>\n",
              "      <td>\"I got some relief from constant dry cough but I wouldn't say it's brilliant although I am asthmatic too.  This cough however  was not my normal n...</td>\n",
              "      <td>5</td>\n",
              "    </tr>\n",
              "    <tr>\n",
              "      <th>1</th>\n",
              "      <td>delsym</td>\n",
              "      <td>cough</td>\n",
              "      <td>\"I took this late at night expecting it to work and I should have read the reviews first it didn't stop my cough at all and I think made it worse ...</td>\n",
              "      <td>1</td>\n",
              "    </tr>\n",
              "    <tr>\n",
              "      <th>2</th>\n",
              "      <td>benzonatate</td>\n",
              "      <td>cough</td>\n",
              "      <td>\"My doctor said the pearls did not work for her but other people said they work great. I tried them and in 20 min my cough was gone!! I see they d...</td>\n",
              "      <td>10</td>\n",
              "    </tr>\n",
              "    <tr>\n",
              "      <th>3</th>\n",
              "      <td>dextromethorphan</td>\n",
              "      <td>cough</td>\n",
              "      <td>\"Did absolutely nothing to alleviate my cough. And now I am feeling slightly nauseated. I actually think my cough was better before taking it, as ...</td>\n",
              "      <td>1</td>\n",
              "    </tr>\n",
              "    <tr>\n",
              "      <th>4</th>\n",
              "      <td>tessalon perles</td>\n",
              "      <td>cough</td>\n",
              "      <td>\"Have been prescribed tessalon perles several times for bronchitis and they've never once worked for me. I might as well eat a sugar cube. Sadly c...</td>\n",
              "      <td>1</td>\n",
              "    </tr>\n",
              "  </tbody>\n",
              "</table>\n",
              "</div>"
            ],
            "text/plain": [
              "           drugName condition  \\\n",
              "0  dextromethorphan     cough   \n",
              "1            delsym     cough   \n",
              "2       benzonatate     cough   \n",
              "3  dextromethorphan     cough   \n",
              "4   tessalon perles     cough   \n",
              "\n",
              "                                                                                                                                                  review  \\\n",
              "0  \"I got some relief from constant dry cough but I wouldn't say it's brilliant although I am asthmatic too.  This cough however  was not my normal n...   \n",
              "1  \"I took this late at night expecting it to work and I should have read the reviews first it didn't stop my cough at all and I think made it worse ...   \n",
              "2  \"My doctor said the pearls did not work for her but other people said they work great. I tried them and in 20 min my cough was gone!! I see they d...   \n",
              "3  \"Did absolutely nothing to alleviate my cough. And now I am feeling slightly nauseated. I actually think my cough was better before taking it, as ...   \n",
              "4  \"Have been prescribed tessalon perles several times for bronchitis and they've never once worked for me. I might as well eat a sugar cube. Sadly c...   \n",
              "\n",
              "   rating  \n",
              "0       5  \n",
              "1       1  \n",
              "2      10  \n",
              "3       1  \n",
              "4       1  "
            ]
          },
          "execution_count": 13,
          "metadata": {},
          "output_type": "execute_result"
        }
      ],
      "source": [
        "temp_results = drug_review_text_search(\"I am coughing\")\n",
        "pd.DataFrame(temp_results).head()"
      ]
    },
    {
      "cell_type": "code",
      "execution_count": 14,
      "metadata": {},
      "outputs": [
        {
          "data": {
            "text/html": [
              "<div>\n",
              "<style scoped>\n",
              "    .dataframe tbody tr th:only-of-type {\n",
              "        vertical-align: middle;\n",
              "    }\n",
              "\n",
              "    .dataframe tbody tr th {\n",
              "        vertical-align: top;\n",
              "    }\n",
              "\n",
              "    .dataframe thead th {\n",
              "        text-align: right;\n",
              "    }\n",
              "</style>\n",
              "<table border=\"1\" class=\"dataframe\">\n",
              "  <thead>\n",
              "    <tr style=\"text-align: right;\">\n",
              "      <th></th>\n",
              "      <th>drugName</th>\n",
              "      <th>condition</th>\n",
              "      <th>review</th>\n",
              "      <th>rating</th>\n",
              "    </tr>\n",
              "  </thead>\n",
              "  <tbody>\n",
              "    <tr>\n",
              "      <th>0</th>\n",
              "      <td>dextromethorphan</td>\n",
              "      <td>cough</td>\n",
              "      <td>\"I got some relief from constant dry cough but I wouldn't say it's brilliant although I am asthmatic too.  This cough however  was not my normal n...</td>\n",
              "      <td>5</td>\n",
              "    </tr>\n",
              "    <tr>\n",
              "      <th>1</th>\n",
              "      <td>dextromethorphan</td>\n",
              "      <td>cough</td>\n",
              "      <td>\"Did absolutely nothing to alleviate my cough. And now I am feeling slightly nauseated. I actually think my cough was better before taking it, as ...</td>\n",
              "      <td>1</td>\n",
              "    </tr>\n",
              "    <tr>\n",
              "      <th>2</th>\n",
              "      <td>emtricitabine / rilpivirine / tenofovir</td>\n",
              "      <td>hiv infection</td>\n",
              "      <td>\"I was put on Complera as a study patient prior to Complera being approved. I went on the drug just before it was approved by the FDA last year. A...</td>\n",
              "      <td>10</td>\n",
              "    </tr>\n",
              "    <tr>\n",
              "      <th>3</th>\n",
              "      <td>stribild</td>\n",
              "      <td>hiv infection</td>\n",
              "      <td>\"I have been on Stribild since April 2013 and started with a 57,500 viral load and 328 cd4.  Within a month my viral load was down to 25!  As of O...</td>\n",
              "      <td>10</td>\n",
              "    </tr>\n",
              "    <tr>\n",
              "      <th>4</th>\n",
              "      <td>efavirenz / emtricitabine / tenofovir</td>\n",
              "      <td>hiv infection</td>\n",
              "      <td>\"I've been on Atripla now for 2 months and it's a great drug. There were defiantly some wicked side effects, strange dreams, frequent bathroom tri...</td>\n",
              "      <td>9</td>\n",
              "    </tr>\n",
              "  </tbody>\n",
              "</table>\n",
              "</div>"
            ],
            "text/plain": [
              "                                  drugName      condition  \\\n",
              "0                         dextromethorphan          cough   \n",
              "1                         dextromethorphan          cough   \n",
              "2  emtricitabine / rilpivirine / tenofovir  hiv infection   \n",
              "3                                 stribild  hiv infection   \n",
              "4    efavirenz / emtricitabine / tenofovir  hiv infection   \n",
              "\n",
              "                                                                                                                                                  review  \\\n",
              "0  \"I got some relief from constant dry cough but I wouldn't say it's brilliant although I am asthmatic too.  This cough however  was not my normal n...   \n",
              "1  \"Did absolutely nothing to alleviate my cough. And now I am feeling slightly nauseated. I actually think my cough was better before taking it, as ...   \n",
              "2  \"I was put on Complera as a study patient prior to Complera being approved. I went on the drug just before it was approved by the FDA last year. A...   \n",
              "3  \"I have been on Stribild since April 2013 and started with a 57,500 viral load and 328 cd4.  Within a month my viral load was down to 25!  As of O...   \n",
              "4  \"I've been on Atripla now for 2 months and it's a great drug. There were defiantly some wicked side effects, strange dreams, frequent bathroom tri...   \n",
              "\n",
              "   rating  \n",
              "0       5  \n",
              "1       1  \n",
              "2      10  \n",
              "3      10  \n",
              "4       9  "
            ]
          },
          "execution_count": 14,
          "metadata": {},
          "output_type": "execute_result"
        }
      ],
      "source": [
        "# test our text search by mispelling dextromethorphan\n",
        "temp_results = drug_review_text_search(\"How is dextormethorphan\")\n",
        "\n",
        "# notice the false positives\n",
        "pd.DataFrame(temp_results).head()"
      ]
    },
    {
      "cell_type": "markdown",
      "metadata": {},
      "source": [
        "# Step 4: Generate embeddings on drug reviews"
      ]
    },
    {
      "cell_type": "code",
      "execution_count": 15,
      "metadata": {},
      "outputs": [],
      "source": [
        "# You may see a warning upon running this cell. You can ignore it.\n",
        "from sentence_transformers import SentenceTransformer\n",
        "from tqdm import tqdm"
      ]
    },
    {
      "cell_type": "code",
      "execution_count": 16,
      "metadata": {},
      "outputs": [],
      "source": [
        "# Load the `gte-small` model using the Sentence Transformers library\n",
        "embedding_model = SentenceTransformer(\"thenlper/gte-small\")"
      ]
    },
    {
      "cell_type": "markdown",
      "metadata": {},
      "source": [
        "📚 https://huggingface.co/thenlper/gte-small#usage (See \"Use with sentence-transformers\" under Usage)"
      ]
    },
    {
      "cell_type": "code",
      "execution_count": null,
      "metadata": {},
      "outputs": [],
      "source": [
        "# Define a function that takes a piece of text (`text`) as input, embeds it using the `embedding_model` instantiated above and returns the embedding as a list\n",
        "# An array can be converted to a list using the `tolist()` method\n",
        "def get_embedding(text: str) -> List[float]:\n",
        "    \"\"\"\n",
        "    Generate the embedding for a piece of text.\n",
        "\n",
        "    Args:\n",
        "        text (str): Text to embed.\n",
        "\n",
        "    Returns:\n",
        "        List[float]: Embedding of the text as a list.\n",
        "    \"\"\"\n",
        "    embedding = <CODE_BLOCK_6>\n",
        "    return embedding.tolist()"
      ]
    },
    {
      "cell_type": "code",
      "execution_count": null,
      "metadata": {},
      "outputs": [
        {
          "name": "stderr",
          "output_type": "stream",
          "text": [
            "  0%|          | 0/1000 [00:00<?, ?it/s]/opt/conda/lib/python3.11/site-packages/torch/nn/modules/module.py:1762: FutureWarning: `encoder_attention_mask` is deprecated and will be removed in version 4.55.0 for `BertSdpaSelfAttention.forward`.\n",
            "  return forward_call(*args, **kwargs)\n",
            "100%|██████████| 1000/1000 [01:15<00:00, 13.23it/s]\n"
          ]
        }
      ],
      "source": [
        "embedded_docs = []\n",
        "# Add an `embedding` field to each dictionary in `drug_reviews_dataset`\n",
        "# The `embedding` field should correspond to the embedding of the value of the `review` field\n",
        "# Use the `get_embedding` function defined above to generate the embedding\n",
        "# Append the updated dictionaries to `embedded_docs` initialized above.\n",
        "for doc in tqdm(drug_reviews_dataset):\n",
        "\n",
        "    # format doc to proper sentence\n",
        "    record = (\n",
        "        f\"Drug Name: {doc['drugName']}. \"\n",
        "        f\"Condition: {doc['condition']}. \"\n",
        "        f\"Review: {doc['review']}.\"\n",
        "    )\n",
        "    <CODE_BLOCK_7>\n",
        "    embedded_docs.append(doc)"
      ]
    },
    {
      "cell_type": "code",
      "execution_count": null,
      "metadata": {},
      "outputs": [
        {
          "data": {
            "text/plain": [
              "1000"
            ]
          },
          "execution_count": 19,
          "metadata": {},
          "output_type": "execute_result"
        }
      ],
      "source": [
        "# Check that the length of `embedded_docs` should be same as the dataset\n",
        "len(embedded_docs)"
      ]
    },
    {
      "cell_type": "markdown",
      "metadata": {},
      "source": [
        "# Step 5: Re-ingest data into MongoDB\n"
      ]
    },
    {
      "cell_type": "code",
      "execution_count": 21,
      "metadata": {},
      "outputs": [
        {
          "data": {
            "text/plain": [
              "DeleteResult({'n': 1000, 'electionId': ObjectId('7fffffff0000000000000004'), 'opTime': {'ts': Timestamp(1753751343, 100), 't': 4}, 'ok': 1.0, '$clusterTime': {'clusterTime': Timestamp(1753751343, 100), 'signature': {'hash': b'\\x19\\xce\\x15\\xc9\\xc7\\x95!\\xd5uP\\xc1\\x9a\\t\\x8d\\xa5`\\x8eg\\xf1\\x94', 'keyId': 7532156023272898567}}, 'operationTime': Timestamp(1753751343, 100)}, acknowledged=True)"
            ]
          },
          "execution_count": 21,
          "metadata": {},
          "output_type": "execute_result"
        }
      ],
      "source": [
        "drug_reviews_collection.delete_many({})"
      ]
    },
    {
      "cell_type": "code",
      "execution_count": null,
      "metadata": {},
      "outputs": [
        {
          "name": "stdout",
          "output_type": "stream",
          "text": [
            "Ingested 1000 documents into the drug_reviews collection.\n"
          ]
        }
      ],
      "source": [
        "# Bulk insert `embedded_docs` into the `collection` defined above -- should be a one-liner\n",
        "drug_reviews_collection.insert_many(embedded_docs)\n",
        "print(f\"Ingested {drug_reviews_collection.count_documents({})} documents into the {DRUG_REVIEW_COLLECTION_NAME} collection.\")"
      ]
    },
    {
      "cell_type": "markdown",
      "metadata": {},
      "source": [
        "# Step 6: Implement vector search capability"
      ]
    },
    {
      "cell_type": "markdown",
      "metadata": {},
      "source": [
        "### Create a vector search index\n",
        "\n",
        "📚 https://www.mongodb.com/docs/atlas/atlas-vector-search/vector-search-type/\n"
      ]
    },
    {
      "cell_type": "code",
      "execution_count": null,
      "metadata": {},
      "outputs": [],
      "source": [
        "# Create vector index definition specifying:\n",
        "# path: Path to the embeddings field\n",
        "# numDimensions: Number of embedding dimensions- depends on the embedding model used\n",
        "# similarity: Similarity metric. One of cosine, euclidean, dotProduct.\n",
        "DRUG_REVIEW_VECTOR_SEARCH_INDEX_NAME='drug_review_vector_search_index'\n",
        "\n",
        "drug_review_vector_search_model = {\n",
        "    \"name\": DRUG_REVIEW_VECTOR_SEARCH_INDEX_NAME,\n",
        "    \"type\": \"vectorSearch\",\n",
        "    \"definition\": {\n",
        "        \"fields\": [\n",
        "            # Define a vector field on the path \"embedding\"\n",
        "            # It has 384 dimensions and uses the cosine similarity\n",
        "            <CODE_BLOCK_8>\n",
        "        ]\n",
        "    },\n",
        "}"
      ]
    },
    {
      "cell_type": "code",
      "execution_count": null,
      "metadata": {},
      "outputs": [
        {
          "data": {
            "text/plain": [
              "'drug_review_vector_search_index'"
            ]
          },
          "execution_count": 25,
          "metadata": {},
          "output_type": "execute_result"
        }
      ],
      "source": [
        "# create vector search index\n",
        "<CODE_BLOCK_9>\n"
      ]
    },
    {
      "cell_type": "code",
      "execution_count": 26,
      "metadata": {},
      "outputs": [
        {
          "name": "stdout",
          "output_type": "stream",
          "text": [
            "drug_review_vector_search_index index status: READY\n",
            "drug_review_vector_search_index index definition: {'fields': [{'type': 'vector', 'path': 'embedding', 'numDimensions': 384, 'similarity': 'cosine'}]}\n"
          ]
        }
      ],
      "source": [
        "# Use the `check_index_ready` function from the `utils` module to verify that the index was created and is in READY status before proceeding\n",
        "from utils import check_index_ready\n",
        "check_index_ready(drug_reviews_collection, DRUG_REVIEW_VECTOR_SEARCH_INDEX_NAME)"
      ]
    },
    {
      "cell_type": "code",
      "execution_count": 27,
      "metadata": {},
      "outputs": [
        {
          "name": "stdout",
          "output_type": "stream",
          "text": [
            "Tracking progress for task vs_index_creation\n"
          ]
        }
      ],
      "source": [
        "# Track progress of key steps-- DO NOT CHANGE\n",
        "track_progress(\"vs_index_creation\", \"primary_care_assistant_lab\")"
      ]
    },
    {
      "cell_type": "markdown",
      "metadata": {},
      "source": [
        "### Define a vector search function\n",
        "\n",
        "📚 https://www.mongodb.com/docs/atlas/atlas-vector-search/vector-search-stage/#ann-examples (Refer to the \"Basic Example\")\n"
      ]
    },
    {
      "cell_type": "code",
      "execution_count": null,
      "metadata": {},
      "outputs": [],
      "source": [
        "# Define a function to retrieve relevant documents for a user query using vector search\n",
        "def drug_review_vector_search(user_query: str) -> List[Dict]:\n",
        "    \"\"\"\n",
        "    Retrieve relevant documents for a user query using vector search.\n",
        "\n",
        "    Args:\n",
        "    user_query (str): The user's query string.\n",
        "\n",
        "    Returns:\n",
        "    list: A list of matching documents.\n",
        "    \"\"\"\n",
        "\n",
        "    # Generate embedding for the `user_query` using the `get_embedding` function defined in Step 4\n",
        "    query_embedding = get_embedding(user_query)\n",
        "\n",
        "    # Define an aggregation pipeline consisting of a $vectorSearch stage, followed by a $project stage\n",
        "    # Set the number of candidates to 50 and only return the top 5 documents from the vector search\n",
        "    # NOTE: Use variables defined previously for the `index`, `queryVector` and `path` fields in the $vectorSearch stage\n",
        "    pipeline = [\n",
        "    {\n",
        "        #vector search stage\n",
        "        <CODE_BLOCK_10>\n",
        "    },\n",
        "    {\n",
        "        \"$project\": {\n",
        "            \"_id\": 0,\n",
        "            \"embedding\": 0,\n",
        "            \"score\": {\"$meta\": \"vectorSearchScore\"}\n",
        "        }\n",
        "    }\n",
        "]\n",
        "\n",
        "    # Execute the aggregation `pipeline` and store the results in `results`\n",
        "    results = drug_reviews_collection.aggregate(pipeline)\n",
        "    return list(results)"
      ]
    },
    {
      "cell_type": "markdown",
      "metadata": {},
      "source": [
        "### Run vector search queries\n"
      ]
    },
    {
      "cell_type": "code",
      "execution_count": 29,
      "metadata": {},
      "outputs": [
        {
          "data": {
            "text/html": [
              "<div>\n",
              "<style scoped>\n",
              "    .dataframe tbody tr th:only-of-type {\n",
              "        vertical-align: middle;\n",
              "    }\n",
              "\n",
              "    .dataframe tbody tr th {\n",
              "        vertical-align: top;\n",
              "    }\n",
              "\n",
              "    .dataframe thead th {\n",
              "        text-align: right;\n",
              "    }\n",
              "</style>\n",
              "<table border=\"1\" class=\"dataframe\">\n",
              "  <thead>\n",
              "    <tr style=\"text-align: right;\">\n",
              "      <th></th>\n",
              "      <th>drugName</th>\n",
              "      <th>condition</th>\n",
              "      <th>review</th>\n",
              "      <th>rating</th>\n",
              "      <th>score</th>\n",
              "    </tr>\n",
              "  </thead>\n",
              "  <tbody>\n",
              "    <tr>\n",
              "      <th>0</th>\n",
              "      <td>dextromethorphan</td>\n",
              "      <td>cough</td>\n",
              "      <td>\"I got some relief from constant dry cough but I wouldn't say it's brilliant although I am asthmatic too.  This cough however  was not my normal n...</td>\n",
              "      <td>5</td>\n",
              "      <td>0.948889</td>\n",
              "    </tr>\n",
              "    <tr>\n",
              "      <th>1</th>\n",
              "      <td>dextromethorphan</td>\n",
              "      <td>cough</td>\n",
              "      <td>\"Did absolutely nothing to alleviate my cough. And now I am feeling slightly nauseated. I actually think my cough was better before taking it, as ...</td>\n",
              "      <td>1</td>\n",
              "      <td>0.939755</td>\n",
              "    </tr>\n",
              "    <tr>\n",
              "      <th>2</th>\n",
              "      <td>dextroamphetamine</td>\n",
              "      <td>narcolepsy</td>\n",
              "      <td>\"I am at the maximum amount per day 60mg. It has helped to a certain extent. I do not need a nap to make it through a normal work day. I still hav...</td>\n",
              "      <td>5</td>\n",
              "      <td>0.925711</td>\n",
              "    </tr>\n",
              "    <tr>\n",
              "      <th>3</th>\n",
              "      <td>dexilant</td>\n",
              "      <td>erosive esophagitis</td>\n",
              "      <td>\"I've been taking Dexilant 60 mg. for 10 days now.  It was given to me because I felt like something was stuck in my throat.....esophagitis.  Well...</td>\n",
              "      <td>10</td>\n",
              "      <td>0.924939</td>\n",
              "    </tr>\n",
              "    <tr>\n",
              "      <th>4</th>\n",
              "      <td>xiidra</td>\n",
              "      <td>dry eye disease</td>\n",
              "      <td>\"I have been using Xiidra for about a month for chronic dry eye disease and chronic keratocojunctivitis. I also use a steroid twice a day. The bur...</td>\n",
              "      <td>9</td>\n",
              "      <td>0.922210</td>\n",
              "    </tr>\n",
              "  </tbody>\n",
              "</table>\n",
              "</div>"
            ],
            "text/plain": [
              "            drugName            condition  \\\n",
              "0   dextromethorphan                cough   \n",
              "1   dextromethorphan                cough   \n",
              "2  dextroamphetamine           narcolepsy   \n",
              "3           dexilant  erosive esophagitis   \n",
              "4             xiidra      dry eye disease   \n",
              "\n",
              "                                                                                                                                                  review  \\\n",
              "0  \"I got some relief from constant dry cough but I wouldn't say it's brilliant although I am asthmatic too.  This cough however  was not my normal n...   \n",
              "1  \"Did absolutely nothing to alleviate my cough. And now I am feeling slightly nauseated. I actually think my cough was better before taking it, as ...   \n",
              "2  \"I am at the maximum amount per day 60mg. It has helped to a certain extent. I do not need a nap to make it through a normal work day. I still hav...   \n",
              "3  \"I've been taking Dexilant 60 mg. for 10 days now.  It was given to me because I felt like something was stuck in my throat.....esophagitis.  Well...   \n",
              "4  \"I have been using Xiidra for about a month for chronic dry eye disease and chronic keratocojunctivitis. I also use a steroid twice a day. The bur...   \n",
              "\n",
              "   rating     score  \n",
              "0       5  0.948889  \n",
              "1       1  0.939755  \n",
              "2       5  0.925711  \n",
              "3      10  0.924939  \n",
              "4       9  0.922210  "
            ]
          },
          "execution_count": 29,
          "metadata": {},
          "output_type": "execute_result"
        }
      ],
      "source": [
        "temp_results = drug_review_vector_search(\"How is dextromethorphan\")\n",
        "\n",
        "pd.DataFrame(temp_results).head()"
      ]
    },
    {
      "cell_type": "markdown",
      "metadata": {},
      "source": [
        "# Step 7: Implementing hybrid search"
      ]
    },
    {
      "cell_type": "code",
      "execution_count": 30,
      "metadata": {},
      "outputs": [],
      "source": [
        "def hybrid_search(\n",
        "    text_search_query,\n",
        "    vector_search_query,\n",
        "    vector_weight=0.5,\n",
        "    full_text_weight=0.5,\n",
        "    top_k=10,\n",
        "    text_search_paths=[\"drugName\",\"condition\"],\n",
        "):\n",
        "    \"\"\"\n",
        "    Conduct a hybrid search on a MongoDB Atlas collection that combines a vector search\n",
        "    and a full-text search using Atlas Search.\n",
        "\n",
        "    Args:\n",
        "        user_query (str): The user's query string.\n",
        "        collection (MongoCollection): The MongoDB collection to search.\n",
        "        vector_search_index_name (str): The name of the vector search index.\n",
        "        text_search_index_name (str): The name of the text search index.\n",
        "        vector_weight (float): The weight of the vector search.\n",
        "        full_text_weight (float): The weight of the full-text search.\n",
        "        top_k (int): Number of results to return.\n",
        "\n",
        "    Returns:\n",
        "        list: A list of documents (dict) with combined scores.\n",
        "    \"\"\"\n",
        "\n",
        "    # Get the pre-computed embedding vector for the user's query\n",
        "    query_vector = get_embedding(vector_search_query)\n",
        "\n",
        "    # Create a MongoDB aggregation pipeline to perform hybrid search\n",
        "    pipeline = [\n",
        "        # PART 1: VECTOR SEARCH\n",
        "        # Perform semantic vector search using the query embedding\n",
        "        {\n",
        "            \"$vectorSearch\": {\n",
        "                \"index\": DRUG_REVIEW_VECTOR_SEARCH_INDEX_NAME,  # Name of the vector search index\n",
        "                \"path\": \"embedding\",  # Field containing document embeddings\n",
        "                \"queryVector\": query_vector,  # The query vector to compare against\n",
        "                \"numCandidates\": top_k*10,  # Number of candidates to consider for similarity\n",
        "                \"limit\": top_k,  # Initial limit of results\n",
        "            }\n",
        "        },\n",
        "        # Group all vector search results into a single document\n",
        "        # This prepares for the ranking step\n",
        "        {\n",
        "            \"$group\": {\n",
        "                \"_id\": None,\n",
        "                \"docs\": {\"$push\": \"$$ROOT\"},  # Push all documents into an array\n",
        "            }\n",
        "        },\n",
        "        # Unwind the array of documents to process each individually\n",
        "        # This adds a rank based on the original vector search order\n",
        "        {\n",
        "            \"$unwind\": {\n",
        "                \"path\": \"$docs\",\n",
        "                \"includeArrayIndex\": \"rank\",  # Add the array index as a rank field\n",
        "            }\n",
        "        },\n",
        "        # Calculate a vector search score based on rank\n",
        "        # Higher ranks get lower scores via division formula\n",
        "        {\n",
        "            \"$addFields\": {\n",
        "                \"vs_score\": {\n",
        "                    \"$multiply\": [\n",
        "                        vector_weight,  # Apply configurable weight to vector scores\n",
        "                        {\n",
        "                            \"$divide\": [1.0, {\"$add\": [\"$rank\", 60]}]\n",
        "                        },  # Score formula: 1/(rank+60)\n",
        "                    ]\n",
        "                }\n",
        "            }\n",
        "        },\n",
        "        # Project only the needed fields from each document\n",
        "        # Including the calculated vector search score\n",
        "        {\n",
        "            \"$project\": {\n",
        "                \"vs_score\": 1,\n",
        "                \"_id\": \"$docs._id\",\n",
        "                \"review\": \"$docs.review\",\n",
        "                \"drugName\": \"$docs.drugName\",\n",
        "                \"condition\": \"$docs.condition\",\n",
        "            }\n",
        "        },\n",
        "        # PART 2: TEXT SEARCH\n",
        "        # Combine with full-text search results using unionWith\n",
        "        {\n",
        "            \"$unionWith\": {\n",
        "                \"coll\": DRUG_REVIEW_COLLECTION_NAME,  # Collection to search\n",
        "                \"pipeline\": [\n",
        "                    # Perform full text search using Atlas Search\n",
        "                    {\n",
        "                        \"$search\": {\n",
        "                            \"index\": DRUG_REVIEW_SEARCH_INDEX_NAME,  # Name of the text search index\n",
        "                            \"text\": {\n",
        "                                \"query\": text_search_query,  # Raw text query from user\n",
        "                                \"path\": text_search_paths,  # Field to search in\n",
        "                            },\n",
        "                        }\n",
        "                    },\n",
        "                    {\"$limit\": top_k},  # Limit initial text search results\n",
        "                    # Group text search results similar to vector search\n",
        "                    {\"$group\": {\"_id\": None, \"docs\": {\"$push\": \"$$ROOT\"}}},\n",
        "                    # Unwind and add ranking just like in vector search\n",
        "                    {\"$unwind\": {\"path\": \"$docs\", \"includeArrayIndex\": \"rank\"}},\n",
        "                    # Calculate a full-text search score based on rank\n",
        "                    # Using the same formula as vector search\n",
        "                    {\n",
        "                        \"$addFields\": {\n",
        "                            \"fts_score\": {\n",
        "                                \"$multiply\": [\n",
        "                                    full_text_weight,  # Apply configurable weight to text scores\n",
        "                                    {\"$divide\": [1.0, {\"$add\": [\"$rank\", 60]}]},\n",
        "                                ]\n",
        "                            }\n",
        "                        }\n",
        "                    },\n",
        "                    # Project only the needed fields for text search results\n",
        "                    {\n",
        "                        \"$project\": {\n",
        "                            \"fts_score\": 1,\n",
        "                            \"_id\": \"$docs._id\",\n",
        "                            \"review\": \"$docs.review\",\n",
        "                            \"drugName\": \"$docs.drugName\",\n",
        "                            \"condition\": \"$docs.condition\",\n",
        "                        }\n",
        "                    },\n",
        "                ],\n",
        "            }\n",
        "        },\n",
        "        # PART 3: COMBINING RESULTS\n",
        "        # Group by document ID to handle duplicates from both searches\n",
        "        # This ensures we don't return the same document twice\n",
        "        {\n",
        "            \"$group\": {\n",
        "                \"_id\": \"$_id\",\n",
        "                \"review\": {\"$first\": \"$review\"},\n",
        "                \"drugName\": {\"$first\": \"$drugName\"},\n",
        "                \"condition\": {\"$first\": \"$condition\"},\n",
        "                \"vs_score\": {\n",
        "                    \"$max\": \"$vs_score\"\n",
        "                },  # Take highest vector score if present in both\n",
        "                \"fts_score\": {\n",
        "                    \"$max\": \"$fts_score\"\n",
        "                },  # Take highest text score if present in both\n",
        "            }\n",
        "        },\n",
        "        # Handle documents that only appeared in one search type\n",
        "        # by setting missing scores to 0\n",
        "        {\n",
        "            \"$project\": {\n",
        "                \"_id\": 1,\n",
        "                \"review\": 1,\n",
        "                \"drugName\": 1,\n",
        "                \"condition\": 1,\n",
        "                \"vs_score\": {\n",
        "                    \"$ifNull\": [\"$vs_score\", 0]\n",
        "                },  # Default to 0 if not in vector results\n",
        "                \"fts_score\": {\n",
        "                    \"$ifNull\": [\"$fts_score\", 0]\n",
        "                },  # Default to 0 if not in text results\n",
        "            }\n",
        "        },\n",
        "        # Calculate the final combined score and remove _id from results\n",
        "        {\n",
        "            \"$project\": {\n",
        "                \"score\": {\"$add\": [\"$fts_score\", \"$vs_score\"]},  # Combined final score\n",
        "                \"_id\": 0,  # Exclude MongoDB ID\n",
        "                \"review\": 1,\n",
        "                \"drugName\": 1,\n",
        "                \"condition\": 1,\n",
        "                \"vs_score\": 1,  # Keep individual scores for analysis\n",
        "                \"fts_score\": 1,\n",
        "            }\n",
        "        },\n",
        "        # Sort by the combined score in descending order\n",
        "        {\"$sort\": {\"score\": -1}},\n",
        "        # Return only the top k results based on combined score\n",
        "        {\"$limit\": top_k},\n",
        "    ]\n",
        "\n",
        "    # Execute the aggregation pipeline and convert results to a list\n",
        "    results = list(drug_reviews_collection.aggregate(pipeline))\n",
        "    return results"
      ]
    },
    {
      "cell_type": "code",
      "execution_count": 31,
      "metadata": {},
      "outputs": [
        {
          "name": "stderr",
          "output_type": "stream",
          "text": [
            "/opt/conda/lib/python3.11/site-packages/torch/nn/modules/module.py:1762: FutureWarning: `encoder_attention_mask` is deprecated and will be removed in version 4.55.0 for `BertSdpaSelfAttention.forward`.\n",
            "  return forward_call(*args, **kwargs)\n"
          ]
        },
        {
          "data": {
            "text/html": [
              "<div>\n",
              "<style scoped>\n",
              "    .dataframe tbody tr th:only-of-type {\n",
              "        vertical-align: middle;\n",
              "    }\n",
              "\n",
              "    .dataframe tbody tr th {\n",
              "        vertical-align: top;\n",
              "    }\n",
              "\n",
              "    .dataframe thead th {\n",
              "        text-align: right;\n",
              "    }\n",
              "</style>\n",
              "<table border=\"1\" class=\"dataframe\">\n",
              "  <thead>\n",
              "    <tr style=\"text-align: right;\">\n",
              "      <th></th>\n",
              "      <th>review</th>\n",
              "      <th>drugName</th>\n",
              "      <th>condition</th>\n",
              "      <th>vs_score</th>\n",
              "      <th>fts_score</th>\n",
              "      <th>score</th>\n",
              "    </tr>\n",
              "  </thead>\n",
              "  <tbody>\n",
              "    <tr>\n",
              "      <th>0</th>\n",
              "      <td>\"I got some relief from constant dry cough but I wouldn't say it's brilliant although I am asthmatic too.  This cough however  was not my normal n...</td>\n",
              "      <td>dextromethorphan</td>\n",
              "      <td>cough</td>\n",
              "      <td>0.008333</td>\n",
              "      <td>0.008333</td>\n",
              "      <td>0.016667</td>\n",
              "    </tr>\n",
              "    <tr>\n",
              "      <th>1</th>\n",
              "      <td>\"Did absolutely nothing to alleviate my cough. And now I am feeling slightly nauseated. I actually think my cough was better before taking it, as ...</td>\n",
              "      <td>dextromethorphan</td>\n",
              "      <td>cough</td>\n",
              "      <td>0.008197</td>\n",
              "      <td>0.008197</td>\n",
              "      <td>0.016393</td>\n",
              "    </tr>\n",
              "    <tr>\n",
              "      <th>2</th>\n",
              "      <td>\"I am at the maximum amount per day 60mg. It has helped to a certain extent. I do not need a nap to make it through a normal work day. I still hav...</td>\n",
              "      <td>dextroamphetamine</td>\n",
              "      <td>narcolepsy</td>\n",
              "      <td>0.008065</td>\n",
              "      <td>0.000000</td>\n",
              "      <td>0.008065</td>\n",
              "    </tr>\n",
              "    <tr>\n",
              "      <th>3</th>\n",
              "      <td>\"I've been taking Dexilant 60 mg. for 10 days now.  It was given to me because I felt like something was stuck in my throat.....esophagitis.  Well...</td>\n",
              "      <td>dexilant</td>\n",
              "      <td>erosive esophagitis</td>\n",
              "      <td>0.007937</td>\n",
              "      <td>0.000000</td>\n",
              "      <td>0.007937</td>\n",
              "    </tr>\n",
              "    <tr>\n",
              "      <th>4</th>\n",
              "      <td>\"I have been using Xiidra for about a month for chronic dry eye disease and chronic keratocojunctivitis. I also use a steroid twice a day. The bur...</td>\n",
              "      <td>xiidra</td>\n",
              "      <td>dry eye disease</td>\n",
              "      <td>0.007812</td>\n",
              "      <td>0.000000</td>\n",
              "      <td>0.007812</td>\n",
              "    </tr>\n",
              "  </tbody>\n",
              "</table>\n",
              "</div>"
            ],
            "text/plain": [
              "                                                                                                                                                  review  \\\n",
              "0  \"I got some relief from constant dry cough but I wouldn't say it's brilliant although I am asthmatic too.  This cough however  was not my normal n...   \n",
              "1  \"Did absolutely nothing to alleviate my cough. And now I am feeling slightly nauseated. I actually think my cough was better before taking it, as ...   \n",
              "2  \"I am at the maximum amount per day 60mg. It has helped to a certain extent. I do not need a nap to make it through a normal work day. I still hav...   \n",
              "3  \"I've been taking Dexilant 60 mg. for 10 days now.  It was given to me because I felt like something was stuck in my throat.....esophagitis.  Well...   \n",
              "4  \"I have been using Xiidra for about a month for chronic dry eye disease and chronic keratocojunctivitis. I also use a steroid twice a day. The bur...   \n",
              "\n",
              "            drugName            condition  vs_score  fts_score     score  \n",
              "0   dextromethorphan                cough  0.008333   0.008333  0.016667  \n",
              "1   dextromethorphan                cough  0.008197   0.008197  0.016393  \n",
              "2  dextroamphetamine           narcolepsy  0.008065   0.000000  0.008065  \n",
              "3           dexilant  erosive esophagitis  0.007937   0.000000  0.007937  \n",
              "4             xiidra      dry eye disease  0.007812   0.000000  0.007812  "
            ]
          },
          "execution_count": 31,
          "metadata": {},
          "output_type": "execute_result"
        }
      ],
      "source": [
        "# query_text = \"I have a cough, what drug would be best?\"\n",
        "query_text = \"How is dextromethorphan?\"\n",
        "\n",
        "# Execute a hybrid search that combines both vector (semantic) and full-text search\n",
        "# We can change the weightage if necessary\n",
        "\n",
        "drug_reviews_hybrid_results = hybrid_search(\n",
        "    query_text,  # Our natural language query\n",
        "    query_text\n",
        ")\n",
        "\n",
        "pd.DataFrame(drug_reviews_hybrid_results).head()"
      ]
    },
    {
      "cell_type": "markdown",
      "metadata": {},
      "source": [
        "# Step 8: Build the RAG application\n"
      ]
    },
    {
      "cell_type": "code",
      "execution_count": 32,
      "metadata": {},
      "outputs": [],
      "source": [
        "import requests"
      ]
    },
    {
      "cell_type": "markdown",
      "metadata": {},
      "source": [
        "### Define a function to create the chat prompt"
      ]
    },
    {
      "cell_type": "code",
      "execution_count": 33,
      "metadata": {},
      "outputs": [],
      "source": [
        "def format_context(context) -> str:\n",
        "    formatted_context = \"\"\n",
        "\n",
        "    # Check if any documents were retrieved.\n",
        "    if context and len(context) > 0:\n",
        "        # Add a header for the context section.\n",
        "        formatted_context = \"\\n\\nRelevant information from drug reviews:\\n\\n\"\n",
        "\n",
        "        # Process each retrieved document and format its content.\n",
        "        for i, doc in enumerate(context):\n",
        "            # Extract key fields from the document.\n",
        "            review = doc.get(\"review\", \"No review available\")\n",
        "            condition = doc.get(\"condition\", \"No condition available\")\n",
        "            drug_name = doc.get(\"drugName\", \"No drug name available\")\n",
        "\n",
        "            # Append the formatted document with a citation reference.\n",
        "            formatted_context += f\"[{i+1}] Review: {review}\\nCondition: {condition}\\nDrug Name: {drug_name}\\n\\n\"\n",
        "    return formatted_context"
      ]
    },
    {
      "cell_type": "code",
      "execution_count": null,
      "metadata": {},
      "outputs": [],
      "source": [
        "# Define a function to create the user prompt for our RAG application\n",
        "def create_prompt(user_query: str) -> str:\n",
        "    \"\"\"\n",
        "    Create a chat prompt that includes the user query and retrieved context.\n",
        "\n",
        "    Args:\n",
        "        user_query (str): The user's query string.\n",
        "\n",
        "    Returns:\n",
        "        str: The chat prompt string.\n",
        "    \"\"\"\n",
        "    # Retrieve the most relevant documents for the `user_query` using the `vector_search` function defined in Step 7\n",
        "    context = hybrid_search(user_query,user_query)\n",
        "    \n",
        "    # 1. Join the retrieved documents into a single string, where each document is separated by two new lines (\"\\n\\n\")\n",
        "    # 2. Format the retrieved documents into context for the LLM.\n",
        "    formatted_context = <CODE_BLOCK_11>\n",
        "\n",
        "    # 3. Craft the prompt for the LLM using the user query and the formatted context.\n",
        "    prompt = f\"\"\"\n",
        "Based on the following information, please answer the user's question:\n",
        "User Question: {user_query}\n",
        "{formatted_context}\n",
        "Please provide a comprehensive answer based on the information above.\n",
        "If the provided information does not contain the answer, state that clearly.\n",
        "Include citation numbers [X] to indicate which sources were used for specific details.\n",
        "\"\"\"\n",
        "\n",
        "    # Prompt consisting of the question and relevant context to answer it\n",
        "    return prompt"
      ]
    },
    {
      "cell_type": "markdown",
      "metadata": {},
      "source": [
        "### Define a function to answer user queries"
      ]
    },
    {
      "cell_type": "code",
      "execution_count": null,
      "metadata": {},
      "outputs": [],
      "source": [
        "# Define a function to answer user queries\n",
        "def generate_answer(user_query: str) -> None:\n",
        "    \"\"\"\n",
        "    Generate an answer to the user query.\n",
        "\n",
        "    Args:\n",
        "        user_query (str): The user's query string.\n",
        "    \"\"\"\n",
        "    # Use the `create_prompt` function above to create a chat prompt\n",
        "    prompt = create_prompt(user_query)\n",
        "    # Format the message to the LLM in the format [{\"role\": <role_value>, \"content\": <content_value>}\n",
        "    # The role value for user messages must be \"user\"\n",
        "    # Use the `prompt` created above to populate the `content` field in the chat message\n",
        "    messages = <CODE_BLOCK_12>\n",
        "    # Send the chat messages to a serverless function to get back an LLM response\n",
        "    response = requests.post(url=SERVERLESS_URL, json={\"task\": \"completion\", \"data\": messages})\n",
        "    # Print the final answer\n",
        "    print(response.json()[\"text\"])"
      ]
    },
    {
      "cell_type": "markdown",
      "metadata": {},
      "source": [
        "### Query the RAG application\n"
      ]
    },
    {
      "cell_type": "code",
      "execution_count": 36,
      "metadata": {},
      "outputs": [
        {
          "name": "stderr",
          "output_type": "stream",
          "text": [
            "/opt/conda/lib/python3.11/site-packages/torch/nn/modules/module.py:1762: FutureWarning: `encoder_attention_mask` is deprecated and will be removed in version 4.55.0 for `BertSdpaSelfAttention.forward`.\n",
            "  return forward_call(*args, **kwargs)\n"
          ]
        },
        {
          "name": "stdout",
          "output_type": "stream",
          "text": [
            "Based on the information provided, there isn't a single \"best\" drug for a cough, as effectiveness can vary between individuals and depend on the underlying cause of the cough. However, I can summarize the experiences reported for different cough medications:\n",
            "\n",
            "1. Benzonatate (brand name Tessalon): Some users found it very effective, with one reporting their cough was gone in 20 minutes [1]. However, others found it ineffective [2].\n",
            "\n",
            "2. Dextromethorphan: Reviews were mixed. Some users got some relief [4], while others reported no improvement or even worsening of symptoms [3][5]. Side effects like nausea and diarrhea were mentioned.\n",
            "\n",
            "3. Delsym (contains dextromethorphan): One user reported it didn't help their cough and caused stomach discomfort [3].\n",
            "\n",
            "4. Mucinex D: While not specifically for cough alone, one user reported side effects like dry eyes and earaches [6].\n",
            "\n",
            "5. Amoxicillin: This antibiotic was reported as effective for bronchitis-related cough by one user [7], but antibiotics are typically only prescribed for bacterial infections, not for common coughs caused by viruses.\n",
            "\n",
            "It's important to note that the effectiveness of these medications can vary greatly between individuals. Additionally, the underlying cause of the cough (e.g., allergies, infection, GERD) can influence which treatment might be most appropriate.\n",
            "\n",
            "For the most accurate recommendation, it's best to consult with a healthcare professional who can assess your specific symptoms and medical history. They can provide personalized advice on the most suitable treatment for your particular cough.\n"
          ]
        }
      ],
      "source": [
        "query_text = \"I have a cough, what drug would be best?\"\n",
        "#query_text = \"How is dextromethorphan?\"\n",
        "\n",
        "generate_answer(query_text)"
      ]
    },
    {
      "cell_type": "markdown",
      "metadata": {},
      "source": [
        "# 🦹‍♀️ \"Agentic\" Pipeline\n"
      ]
    },
    {
      "cell_type": "code",
      "execution_count": 45,
      "metadata": {},
      "outputs": [],
      "source": [
        "# Use LLM to filter out terms that are medical conditions, symptoms, or drug names\n",
        "def get_terms_from_query(user_query: str) -> str:\n",
        "    prompt = f\"\"\"\n",
        "        For the following query, return me only words associated with medical conditions, symptoms or drug names: {user_query}.\n",
        "        Respond only with the words, space separated.\n",
        "        \"\"\"\n",
        "\n",
        "    messages = [{\"role\":\"user\",\"content\":prompt}]\n",
        "    # Send the chat messages to a serverless function to get back an LLM response\n",
        "    \n",
        "    response = requests.post(url=SERVERLESS_URL, json={\"task\": \"completion\", \"data\": messages})\n",
        "    return response.json()[\"text\"]"
      ]
    },
    {
      "cell_type": "code",
      "execution_count": 46,
      "metadata": {},
      "outputs": [
        {
          "data": {
            "text/plain": [
              "'cough sore throat'"
            ]
          },
          "execution_count": 46,
          "metadata": {},
          "output_type": "execute_result"
        }
      ],
      "source": [
        "# test the definition\n",
        "get_terms_from_query(\"I have cough and sore throat\")"
      ]
    },
    {
      "cell_type": "code",
      "execution_count": 47,
      "metadata": {},
      "outputs": [],
      "source": [
        "def get_medication_reviews(user_query:str) -> str:\n",
        "    \"\"\"\n",
        "    Retrieves patient reviews and information about medications related to the query.\n",
        "\n",
        "    This tool searches a database of medication reviews to find relevant patient experiences\n",
        "    with drugs that match the symptoms, conditions, or medication names in the user query.\n",
        "    Use this tool when discussing specific medications or treatment options.\n",
        "\n",
        "    Args:\n",
        "        user_query (str): The medication name, condition, or symptom to search for reviews about.\n",
        "\n",
        "    Returns:\n",
        "        str: Patient reviews and experiences with relevant medications.\n",
        "    \"\"\"\n",
        "    \n",
        "    refined_text_search_query = get_terms_from_query(user_query)\n",
        "    \n",
        "   # Execute the hybrid search to find medication reviews\n",
        "    retrieved_context = hybrid_search(\n",
        "        refined_text_search_query,\n",
        "        user_query,\n",
        "    )\n",
        "\n",
        "    return retrieved_context"
      ]
    },
    {
      "cell_type": "code",
      "execution_count": 49,
      "metadata": {},
      "outputs": [
        {
          "name": "stderr",
          "output_type": "stream",
          "text": [
            "/opt/conda/lib/python3.11/site-packages/torch/nn/modules/module.py:1762: FutureWarning: `encoder_attention_mask` is deprecated and will be removed in version 4.55.0 for `BertSdpaSelfAttention.forward`.\n",
            "  return forward_call(*args, **kwargs)\n"
          ]
        },
        {
          "data": {
            "text/html": [
              "<div>\n",
              "<style scoped>\n",
              "    .dataframe tbody tr th:only-of-type {\n",
              "        vertical-align: middle;\n",
              "    }\n",
              "\n",
              "    .dataframe tbody tr th {\n",
              "        vertical-align: top;\n",
              "    }\n",
              "\n",
              "    .dataframe thead th {\n",
              "        text-align: right;\n",
              "    }\n",
              "</style>\n",
              "<table border=\"1\" class=\"dataframe\">\n",
              "  <thead>\n",
              "    <tr style=\"text-align: right;\">\n",
              "      <th></th>\n",
              "      <th>review</th>\n",
              "      <th>drugName</th>\n",
              "      <th>condition</th>\n",
              "      <th>vs_score</th>\n",
              "      <th>fts_score</th>\n",
              "      <th>score</th>\n",
              "    </tr>\n",
              "  </thead>\n",
              "  <tbody>\n",
              "    <tr>\n",
              "      <th>0</th>\n",
              "      <td>\"My doctor said the pearls did not work for her but other people said they work great. I tried them and in 20 min my cough was gone!! I see they d...</td>\n",
              "      <td>benzonatate</td>\n",
              "      <td>cough</td>\n",
              "      <td>0.008197</td>\n",
              "      <td>0.008197</td>\n",
              "      <td>0.016393</td>\n",
              "    </tr>\n",
              "    <tr>\n",
              "      <th>1</th>\n",
              "      <td>\"Have been prescribed tessalon perles several times for bronchitis and they've never once worked for me. I might as well eat a sugar cube. Sadly c...</td>\n",
              "      <td>tessalon perles</td>\n",
              "      <td>cough</td>\n",
              "      <td>0.008333</td>\n",
              "      <td>0.007812</td>\n",
              "      <td>0.016146</td>\n",
              "    </tr>\n",
              "    <tr>\n",
              "      <th>2</th>\n",
              "      <td>\"My husband was given this for strep throat. It did not help at all. After 6 days on this medication, he still had pus in his throat. Dr switched ...</td>\n",
              "      <td>cefdinir</td>\n",
              "      <td>strep throat</td>\n",
              "      <td>0.007463</td>\n",
              "      <td>0.008333</td>\n",
              "      <td>0.015796</td>\n",
              "    </tr>\n",
              "    <tr>\n",
              "      <th>3</th>\n",
              "      <td>\"You should only read this review if you have a cold sore that you need to have removed ASAP. I am 18 and in high school so there is nothing worse...</td>\n",
              "      <td>valtrex</td>\n",
              "      <td>cold sores</td>\n",
              "      <td>0.007246</td>\n",
              "      <td>0.007576</td>\n",
              "      <td>0.014822</td>\n",
              "    </tr>\n",
              "    <tr>\n",
              "      <th>4</th>\n",
              "      <td>\"I took this late at night expecting it to work and I should have read the reviews first it didn't stop my cough at all and I think made it worse ...</td>\n",
              "      <td>delsym</td>\n",
              "      <td>cough</td>\n",
              "      <td>0.000000</td>\n",
              "      <td>0.008065</td>\n",
              "      <td>0.008065</td>\n",
              "    </tr>\n",
              "  </tbody>\n",
              "</table>\n",
              "</div>"
            ],
            "text/plain": [
              "                                                                                                                                                  review  \\\n",
              "0  \"My doctor said the pearls did not work for her but other people said they work great. I tried them and in 20 min my cough was gone!! I see they d...   \n",
              "1  \"Have been prescribed tessalon perles several times for bronchitis and they've never once worked for me. I might as well eat a sugar cube. Sadly c...   \n",
              "2  \"My husband was given this for strep throat. It did not help at all. After 6 days on this medication, he still had pus in his throat. Dr switched ...   \n",
              "3  \"You should only read this review if you have a cold sore that you need to have removed ASAP. I am 18 and in high school so there is nothing worse...   \n",
              "4  \"I took this late at night expecting it to work and I should have read the reviews first it didn't stop my cough at all and I think made it worse ...   \n",
              "\n",
              "          drugName     condition  vs_score  fts_score     score  \n",
              "0      benzonatate         cough  0.008197   0.008197  0.016393  \n",
              "1  tessalon perles         cough  0.008333   0.007812  0.016146  \n",
              "2         cefdinir  strep throat  0.007463   0.008333  0.015796  \n",
              "3          valtrex    cold sores  0.007246   0.007576  0.014822  \n",
              "4           delsym         cough  0.000000   0.008065  0.008065  "
            ]
          },
          "execution_count": 49,
          "metadata": {},
          "output_type": "execute_result"
        }
      ],
      "source": [
        "temp_results = get_medication_reviews(\"I have a cought and sore throat, what is best for me\")\n",
        "\n",
        "pd.DataFrame(temp_results).head()"
      ]
    },
    {
      "cell_type": "code",
      "execution_count": 50,
      "metadata": {},
      "outputs": [],
      "source": [
        "# Define a function to create the user prompt for our RAG application\n",
        "def create_prompt(user_query: str) -> str:\n",
        "    \"\"\"\n",
        "    Create a chat prompt that includes the user query and retrieved context.\n",
        "\n",
        "    Args:\n",
        "        user_query (str): The user's query string.\n",
        "\n",
        "    Returns:\n",
        "        str: The chat prompt string.\n",
        "    \"\"\"\n",
        "    # Retrieve the most relevant documents for the `user_query` using the `vector_search` function defined in Step 7\n",
        "    context = get_medication_reviews(user_query)\n",
        "    # Join the retrieved documents into a single string, where each document is separated by two new lines (\"\\n\\n\")\n",
        "        # 2. Format the retrieved documents into context for the LLM.\n",
        "    formatted_context = format_context(context)\n",
        "\n",
        "    # 3. Craft the prompt for the LLM using the user query and the formatted context.\n",
        "    prompt = f\"\"\"\n",
        "Based on the following information, please answer the user's question:\n",
        "User Question: {user_query}\n",
        "{formatted_context}\n",
        "Please provide a comprehensive answer based on the information above.\n",
        "If the provided information does not contain the answer, state that clearly.\n",
        "Include citation numbers [X] to indicate which sources were used for specific details.\n",
        "\"\"\"\n",
        "\n",
        "    # Prompt consisting of the question and relevant context to answer it\n",
        "    return prompt"
      ]
    },
    {
      "cell_type": "code",
      "execution_count": null,
      "metadata": {},
      "outputs": [
        {
          "name": "stderr",
          "output_type": "stream",
          "text": [
            "/opt/conda/lib/python3.11/site-packages/torch/nn/modules/module.py:1762: FutureWarning: `encoder_attention_mask` is deprecated and will be removed in version 4.55.0 for `BertSdpaSelfAttention.forward`.\n",
            "  return forward_call(*args, **kwargs)\n"
          ]
        },
        {
          "name": "stdout",
          "output_type": "stream",
          "text": [
            "Based on the information provided, there isn't a comprehensive treatment plan specifically for the flu. However, I can offer some insights related to flu-like symptoms and treatments mentioned in the reviews:\n",
            "\n",
            "1. For nasal congestion and breathing difficulties associated with flu-like symptoms, Nasonex (mometasone) was reported to be helpful in clearing nasal passages and improving breathing [1]. Similarly, Flonase (fluticasone) is used for allergic rhinitis, which can have symptoms similar to a flu, but its effectiveness may vary [4].\n",
            "\n",
            "2. Mucinex D is mentioned for treating cough and nasal congestion, which are common flu symptoms. However, the review notes side effects like dry eyes and earaches [8].\n",
            "\n",
            "3. For cough specifically, Tessalon Perles were mentioned, but the reviewer found them ineffective [6].\n",
            "\n",
            "4. Amoxicillin, an antibiotic, is mentioned for bacterial infections. However, it's important to note that antibiotics are not effective against the flu virus. The review also mentions side effects like nausea, vomiting, and diarrhea [3].\n",
            "\n",
            "5. One review mentions flu-like symptoms as a side effect of a medication (mercaptopurine), describing aches \"like I have the flu\" [2]. This highlights that some medications can actually cause flu-like symptoms.\n",
            "\n",
            "It's important to note that these reviews are not specifically about flu treatments, and the information is limited. For a proper flu treatment, it's best to consult with a healthcare professional who can provide appropriate advice and prescribe medications specifically for your condition. They may recommend over-the-counter pain relievers, decongestants, or antiviral medications depending on your specific symptoms and health status.\n"
          ]
        }
      ],
      "source": [
        "# Use this if you have not completed \"adding memory\"\n",
        "# generate_answer(\"I have a flu\")\n",
        "\n",
        "# Use this if you have completed \"adding memory\"\n",
        "generate_answer(\"session\", \"I have a flu\")"
      ]
    },
    {
      "cell_type": "markdown",
      "metadata": {},
      "source": [
        "# Step 9: Add memory to the RAG application\n"
      ]
    },
    {
      "cell_type": "code",
      "execution_count": 37,
      "metadata": {},
      "outputs": [],
      "source": [
        "from datetime import datetime"
      ]
    },
    {
      "cell_type": "code",
      "execution_count": 38,
      "metadata": {},
      "outputs": [],
      "source": [
        "history_collection = mongodb_client[DB_NAME][\"chat_history\"]"
      ]
    },
    {
      "cell_type": "markdown",
      "metadata": {},
      "source": [
        "📚 https://pymongo.readthedocs.io/en/stable/api/pymongo/collection.html#pymongo.collection.Collection.create_index\n"
      ]
    },
    {
      "cell_type": "code",
      "execution_count": 39,
      "metadata": {},
      "outputs": [
        {
          "data": {
            "text/plain": [
              "'session_id_1'"
            ]
          },
          "execution_count": 39,
          "metadata": {},
          "output_type": "execute_result"
        }
      ],
      "source": [
        "# Create an index on the key `session_id` for the `history_collection` collection\n",
        "history_collection.create_index(\"session_id\")"
      ]
    },
    {
      "cell_type": "markdown",
      "metadata": {},
      "source": [
        "### Define a function to store chat messages in MongoDB\n",
        "\n",
        "📚 https://pymongo.readthedocs.io/en/stable/api/pymongo/collection.html#pymongo.collection.Collection.insert_one"
      ]
    },
    {
      "cell_type": "code",
      "execution_count": 40,
      "metadata": {},
      "outputs": [],
      "source": [
        "def store_chat_message(session_id: str, role: str, content: str) -> None:\n",
        "    \"\"\"\n",
        "    Store a chat message in a MongoDB collection.\n",
        "\n",
        "    Args:\n",
        "        session_id (str): Session ID of the message.\n",
        "        role (str): Role for the message. One of `system`, `user` or `assistant`.\n",
        "        content (str): Content of the message.\n",
        "    \"\"\"\n",
        "    # Create a message object with `session_id`, `role`, `content` and `timestamp` fields\n",
        "    # `timestamp` should be set the current timestamp\n",
        "    message = {\n",
        "        \"session_id\": session_id,\n",
        "        \"role\": role,\n",
        "        \"content\": content,\n",
        "        \"timestamp\": datetime.now(),\n",
        "    }\n",
        "    # Insert the `message` into the `history_collection` collection\n",
        "    history_collection.insert_one(message)"
      ]
    },
    {
      "cell_type": "markdown",
      "metadata": {},
      "source": [
        "### Define a function to retrieve chat history from MongoDB\n",
        "\n",
        "📚 https://pymongo.readthedocs.io/en/stable/api/pymongo/cursor.html#pymongo.cursor.Cursor.sort"
      ]
    },
    {
      "cell_type": "code",
      "execution_count": 41,
      "metadata": {},
      "outputs": [],
      "source": [
        "def retrieve_session_history(session_id: str) -> List:\n",
        "    \"\"\"\n",
        "    Retrieve chat message history for a particular session.\n",
        "\n",
        "    Args:\n",
        "        session_id (str): Session ID to retrieve chat message history for.\n",
        "\n",
        "    Returns:\n",
        "        List: List of chat messages.\n",
        "    \"\"\"\n",
        "    # Query the `history_collection` collection for documents where the \"session_id\" field has the value of the input `session_id`\n",
        "    # Sort the results in increasing order of the values in `timestamp` field\n",
        "    cursor = history_collection.find({\"session_id\": session_id}).sort(\"timestamp\", 1)\n",
        "\n",
        "    if cursor:\n",
        "        # Iterate through the cursor and extract the `role` and `content` field from each entry\n",
        "        # Then format each entry as: {\"role\": <role_value>, \"content\": <content_value>}\n",
        "        messages = [{\"role\": msg[\"role\"], \"content\": msg[\"content\"]} for msg in cursor]\n",
        "    else:\n",
        "        # If cursor is empty, return an empty list\n",
        "        messages = []\n",
        "\n",
        "    return messages"
      ]
    },
    {
      "cell_type": "markdown",
      "metadata": {},
      "source": [
        "### Handle chat history in the `generate_answer` function"
      ]
    },
    {
      "cell_type": "code",
      "execution_count": 42,
      "metadata": {},
      "outputs": [],
      "source": [
        "def generate_answer(session_id: str, user_query: str) -> None:\n",
        "    \"\"\"\n",
        "    Generate an answer to the user's query taking chat history into account.\n",
        "\n",
        "    Args:\n",
        "        session_id (str): Session ID to retrieve chat history for.\n",
        "        user_query (str): The user's query string.\n",
        "    \"\"\"\n",
        "    # Initialize list of messages to pass to the chat completion model\n",
        "    messages = []\n",
        "\n",
        "    # Retrieve documents relevant to the user query and convert them to a single string\n",
        "    prompt = create_prompt(user_query)\n",
        "    # Create a system prompt containing the retrieved context\n",
        "    system_message = {\n",
        "        \"role\": \"user\",\n",
        "        \"content\": prompt\n",
        "    }\n",
        "    # Append the system prompt to the `messages` list\n",
        "    messages.append(system_message)\n",
        "\n",
        "    # Use the `retrieve_session_history` function to retrieve message history from MongoDB for the session ID `session_id` \n",
        "    # And add all messages in the message history to the `messages` list \n",
        "    message_history = retrieve_session_history(session_id)\n",
        "    messages.extend(message_history)\n",
        "\n",
        "    # Format the user query in the format {\"role\": <role_value>, \"content\": <content_value>}\n",
        "    # The role value for user messages must be \"user\"\n",
        "    # And append the user message to the `messages` list\n",
        "    user_message = {\"role\": \"user\", \"content\": user_query}\n",
        "    messages.append(user_message)\n",
        "\n",
        "    # Send the chat messages to a serverless function to get back an LLM response\n",
        "    response = requests.post(url=SERVERLESS_URL, json={\"task\": \"completion\", \"data\": messages})\n",
        "\n",
        "    # Extract the answer from the response\n",
        "    answer = response.json()[\"text\"]\n",
        "\n",
        "    # Use the `store_chat_message` function to store the user message and also the generated answer in the message history collection\n",
        "    # The role value for user messages is \"user\", and \"assistant\" for the generated answer\n",
        "    store_chat_message(session_id, \"user\", user_query)\n",
        "    store_chat_message(session_id, \"assistant\", answer)\n",
        "\n",
        "    print(answer)"
      ]
    },
    {
      "cell_type": "code",
      "execution_count": 43,
      "metadata": {},
      "outputs": [
        {
          "name": "stdout",
          "output_type": "stream",
          "text": [
            "Based on the provided information, here are some relevant points about sore throat treatments:\n",
            "\n",
            "1. Antibiotics: For bacterial infections like strep throat, antibiotics may be prescribed:\n",
            "\n",
            "   - Azithromycin (Z-Pak) showed mixed results:\n",
            "     - One user reported reduced swelling and throat pain for streptococcal pharyngitis, but experienced stomach issues [5].\n",
            "     - Another user found it ineffective for an upper respiratory infection, with symptoms worsening over 4 days [9].\n",
            "\n",
            "   - Cefdinir was reported as ineffective for one case of strep throat [1].\n",
            "\n",
            "2. Other treatments:\n",
            "\n",
            "   - Zantac (for GERD) unexpectedly helped one user with constant throat clearing, which may be related to throat irritation [3].\n",
            "\n",
            "   - Nasonex (mometasone), while primarily for allergies, helped one user with post-nasal drips and throat blockage [6].\n",
            "\n",
            "3. General advice:\n",
            "\n",
            "   - If symptoms persist or worsen, consult a doctor. As one review noted, sometimes a change in antibiotics may be necessary if the first one is ineffective [1][9].\n",
            "\n",
            "   - Be aware that medications can cause side effects. For example, azithromycin caused stomach issues for one user [5].\n",
            "\n",
            "It's important to note that sore throats can have various causes (viral, bacterial, allergies, etc.), and treatment should be tailored to the specific cause. If your sore throat is severe, persistent, or accompanied by other concerning symptoms, it's best to consult with a healthcare professional for proper diagnosis and treatment.\n"
          ]
        }
      ],
      "source": [
        "generate_answer(\n",
        "    session_id=\"1\",\n",
        "    user_query=\"I have a sore throat\",\n",
        ")"
      ]
    },
    {
      "cell_type": "code",
      "execution_count": 44,
      "metadata": {},
      "outputs": [
        {
          "name": "stdout",
          "output_type": "stream",
          "text": [
            "If you have both a sore throat and a cough, here are some relevant points from the provided information:\n",
            "\n",
            "1. Benzonatate (Tessalon Perles):\n",
            "   - Some users found it very effective for cough relief [1]\n",
            "   - Others reported no effect at all [2]\n",
            "\n",
            "2. Dextromethorphan:\n",
            "   - Mixed reviews for cough relief\n",
            "   - One user reported some relief from a dry cough, but not \"brilliant\" [3]\n",
            "   - Some experienced side effects like nausea and diarrhea [3][5]\n",
            "\n",
            "3. Delsym (another form of dextromethorphan):\n",
            "   - One user reported it didn't help their cough and possibly made it worse, also causing nausea [4]\n",
            "\n",
            "4. Mucinex D:\n",
            "   - Used for cough and nasal congestion, but one user reported side effects like dry eyes and earaches [6]\n",
            "\n",
            "5. Amoxicillin:\n",
            "   - Reported as effective for bronchitis, which often involves coughing [8]\n",
            "   - One user found it very effective, noting relief from the first dose\n",
            "\n",
            "6. Nasonex (mometasone):\n",
            "   - While primarily for allergies, one user reported it helped with breathing and post-nasal drip, which can contribute to coughing [7]\n",
            "\n",
            "General observations:\n",
            "- Effectiveness varies greatly between individuals\n",
            "- Some users found over-the-counter cough drops more effective than prescription medications [2][4]\n",
            "- The underlying cause of your symptoms can affect which treatment might work best\n",
            "\n",
            "It's important to note that these are individual experiences and may not apply to everyone. If your symptoms are severe or persistent, it's best to consult with a healthcare professional for a proper diagnosis and treatment plan tailored to your specific condition.\n"
          ]
        }
      ],
      "source": [
        "generate_answer(\n",
        "    session_id=\"1\",\n",
        "    user_query=\"What if i have a cough too\",\n",
        ")"
      ]
    }
  ],
  "metadata": {
    "kernelspec": {
      "display_name": "base",
      "language": "python",
      "name": "python3"
    },
    "language_info": {
      "codemirror_mode": {
        "name": "ipython",
        "version": 3
      },
      "file_extension": ".py",
      "mimetype": "text/x-python",
      "name": "python",
      "nbconvert_exporter": "python",
      "pygments_lexer": "ipython3",
      "version": "3.11.6"
    },
    "widgets": {
      "application/vnd.jupyter.widget-state+json": {
        "state": {}
      }
    }
  },
  "nbformat": 4,
  "nbformat_minor": 2
}
