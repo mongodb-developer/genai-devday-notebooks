{
  "cells": [
    {
      "cell_type": "markdown",
      "metadata": {},
      "source": [
        "[![Lab Documentation and Solutions](https://img.shields.io/badge/Lab%20Documentation%20and%20Solutions-purple)](https://mongodb-developer.github.io/ai-rag-lab/)\n"
      ]
    },
    {
      "cell_type": "markdown",
      "metadata": {},
      "source": [
        "# Step 1: Setup prerequisites"
      ]
    },
    {
      "cell_type": "code",
      "execution_count": 1,
      "metadata": {},
      "outputs": [
        {
          "name": "stdout",
          "output_type": "stream",
          "text": [
            "\n",
            "\u001b[1m[\u001b[0m\u001b[34;49mnotice\u001b[0m\u001b[1;39;49m]\u001b[0m\u001b[39;49m A new release of pip is available: \u001b[0m\u001b[31;49m25.1.1\u001b[0m\u001b[39;49m -> \u001b[0m\u001b[32;49m25.2\u001b[0m\n",
            "\u001b[1m[\u001b[0m\u001b[34;49mnotice\u001b[0m\u001b[1;39;49m]\u001b[0m\u001b[39;49m To update, run: \u001b[0m\u001b[32;49mpip install --upgrade pip\u001b[0m\n"
          ]
        }
      ],
      "source": [
        "!pip install -Uq pandas datasets"
      ]
    },
    {
      "cell_type": "code",
      "execution_count": 2,
      "metadata": {},
      "outputs": [
        {
          "name": "stderr",
          "output_type": "stream",
          "text": [
            "/Users/wenjie.teo/Documents/repositories/genai-devday-notebooks/.venv/lib/python3.13/site-packages/tqdm/auto.py:21: TqdmWarning: IProgress not found. Please update jupyter and ipywidgets. See https://ipywidgets.readthedocs.io/en/stable/user_install.html\n",
            "  from .autonotebook import tqdm as notebook_tqdm\n"
          ]
        }
      ],
      "source": [
        "import os\n",
        "from pymongo import MongoClient\n",
        "from utils import track_progress\n",
        "\n",
        "import pandas as pd\n",
        "pd.set_option('display.max_colwidth', 150)\n",
        "\n",
        "from datasets import load_dataset\n",
        "from typing import Dict, List"
      ]
    },
    {
      "cell_type": "code",
      "execution_count": 3,
      "metadata": {},
      "outputs": [
        {
          "data": {
            "text/plain": [
              "{'ok': 1.0,\n",
              " '$clusterTime': {'clusterTime': Timestamp(1759076643, 1),\n",
              "  'signature': {'hash': b'\\x00\\x00\\x00\\x00\\x00\\x00\\x00\\x00\\x00\\x00\\x00\\x00\\x00\\x00\\x00\\x00\\x00\\x00\\x00\\x00',\n",
              "   'keyId': 0}},\n",
              " 'operationTime': Timestamp(1759076643, 1)}"
            ]
          },
          "execution_count": 3,
          "metadata": {},
          "output_type": "execute_result"
        }
      ],
      "source": [
        "# If you are using your own MongoDB Atlas cluster, use the connection string for your cluster here\n",
        "MONGODB_URI = \"mongodb://localhost:50566/?directConnection=true\"\n",
        "# Initialize a MongoDB Python client\n",
        "mongodb_client = MongoClient(MONGODB_URI)\n",
        "# Check the connection to the server\n",
        "mongodb_client.admin.command(\"ping\")"
      ]
    },
    {
      "cell_type": "code",
      "execution_count": null,
      "metadata": {},
      "outputs": [],
      "source": [
        "PROXY_ENDPOINT = os.environ.get(\"PROXY_ENDPOINT\")\n",
        "PASSKEY="
      ]
    },
    {
      "cell_type": "code",
      "execution_count": 7,
      "metadata": {},
      "outputs": [],
      "source": [
        "# Define database and collection names\n",
        "DB_NAME = \"virtual_primary_care_assistant\"\n",
        "DRUG_REVIEW_COLLECTION_NAME = \"drug_reviews\"\n",
        "\n",
        "# Get a reference to the database (creates it if it doesn't exist)\n",
        "db = mongodb_client[DB_NAME]\n",
        "\n",
        "# Get a reference to collections for later use\n",
        "drug_reviews_collection = db[DRUG_REVIEW_COLLECTION_NAME]"
      ]
    },
    {
      "cell_type": "markdown",
      "metadata": {},
      "source": [
        "# Step 2: Load drug reviews dataset"
      ]
    },
    {
      "cell_type": "code",
      "execution_count": 8,
      "metadata": {},
      "outputs": [],
      "source": [
        "# Load the drug reviews dataset from Hugging Face repository\n",
        "# This dataset contains patient reviews of various medications\n",
        "# 'Reboot87/drugs_reviews_dataset' contains structured data about drug experiences\n",
        "drug_reviews_dataset = load_dataset(\n",
        "    \"Reboot87/drugs_reviews_dataset\", streaming=True, split=\"train\"\n",
        ")\n",
        "\n",
        "# Limit the dataset to 10,000 examples to manage memory usage and processing time\n",
        "# This sample size should be sufficient for building our demonstration model\n",
        "# The streaming=True parameter ensures we don't load the entire dataset into memory\n",
        "drug_reviews_dataset = drug_reviews_dataset.take(1000)\n",
        "\n",
        "# Similarly convert the drug reviews dataset to a DataFrame\n",
        "# This enables SQL-like operations, filtering, and statistical analysis\n",
        "# Having both datasets as DataFrames ensures consistent data handling approaches\n",
        "drug_reviews_dataset = pd.DataFrame(drug_reviews_dataset)\n",
        "\n",
        "# Remove the attributes patientId, date, usefulCount and review_length from the drug_reviews_dataset\n",
        "# patientId: Removed to ensure data anonymization and privacy protection\n",
        "# date: Temporal information isn't critical for our current analysis\n",
        "# usefulCount: Engagement metrics aren't relevant for our semantic understanding\n",
        "# review_length: This is a derived feature that can be recalculated if needed\n",
        "drug_reviews_dataset = drug_reviews_dataset.drop(\n",
        "    columns=[\"patientId\", \"date\", \"usefulCount\", \"review_length\"]\n",
        ")"
      ]
    },
    {
      "cell_type": "code",
      "execution_count": 9,
      "metadata": {},
      "outputs": [
        {
          "data": {
            "text/html": [
              "<div>\n",
              "<style scoped>\n",
              "    .dataframe tbody tr th:only-of-type {\n",
              "        vertical-align: middle;\n",
              "    }\n",
              "\n",
              "    .dataframe tbody tr th {\n",
              "        vertical-align: top;\n",
              "    }\n",
              "\n",
              "    .dataframe thead th {\n",
              "        text-align: right;\n",
              "    }\n",
              "</style>\n",
              "<table border=\"1\" class=\"dataframe\">\n",
              "  <thead>\n",
              "    <tr style=\"text-align: right;\">\n",
              "      <th></th>\n",
              "      <th>drugName</th>\n",
              "      <th>condition</th>\n",
              "      <th>review</th>\n",
              "      <th>rating</th>\n",
              "    </tr>\n",
              "  </thead>\n",
              "  <tbody>\n",
              "    <tr>\n",
              "      <th>0</th>\n",
              "      <td>cyclosporine</td>\n",
              "      <td>keratoconjunctivitis sicca</td>\n",
              "      <td>\"I have used Restasis for about a year now and have seen almost no progress.  For most of my life I've had red and bothersome eyes. After trying v...</td>\n",
              "      <td>2</td>\n",
              "    </tr>\n",
              "    <tr>\n",
              "      <th>1</th>\n",
              "      <td>etonogestrel</td>\n",
              "      <td>birth control</td>\n",
              "      <td>\"My experience has been somewhat mixed. I have been using Implanon now for nearly 14 months and have decided to get it removed because I bleed eve...</td>\n",
              "      <td>7</td>\n",
              "    </tr>\n",
              "    <tr>\n",
              "      <th>2</th>\n",
              "      <td>implanon</td>\n",
              "      <td>birth control</td>\n",
              "      <td>\"This is my second Implanon would not recommend at all....first one was okay for the first 2 years until I started bleeding which never stopped wh...</td>\n",
              "      <td>1</td>\n",
              "    </tr>\n",
              "    <tr>\n",
              "      <th>3</th>\n",
              "      <td>hydroxyzine</td>\n",
              "      <td>anxiety</td>\n",
              "      <td>\"I recommend taking as prescribed, and the bottle usually says \"take X amount every X hours\". I think that having a steady stream of any medicatio...</td>\n",
              "      <td>10</td>\n",
              "    </tr>\n",
              "    <tr>\n",
              "      <th>4</th>\n",
              "      <td>dalfampridine</td>\n",
              "      <td>multiple sclerosis</td>\n",
              "      <td>\"I have been on Ampyra for 5 days and have been so happy with this new pill. The first 2 days were NOT good with the side effects, but each day ju...</td>\n",
              "      <td>9</td>\n",
              "    </tr>\n",
              "  </tbody>\n",
              "</table>\n",
              "</div>"
            ],
            "text/plain": [
              "        drugName                   condition  \\\n",
              "0   cyclosporine  keratoconjunctivitis sicca   \n",
              "1   etonogestrel               birth control   \n",
              "2       implanon               birth control   \n",
              "3    hydroxyzine                     anxiety   \n",
              "4  dalfampridine          multiple sclerosis   \n",
              "\n",
              "                                                                                                                                                  review  \\\n",
              "0  \"I have used Restasis for about a year now and have seen almost no progress.  For most of my life I've had red and bothersome eyes. After trying v...   \n",
              "1  \"My experience has been somewhat mixed. I have been using Implanon now for nearly 14 months and have decided to get it removed because I bleed eve...   \n",
              "2  \"This is my second Implanon would not recommend at all....first one was okay for the first 2 years until I started bleeding which never stopped wh...   \n",
              "3  \"I recommend taking as prescribed, and the bottle usually says \"take X amount every X hours\". I think that having a steady stream of any medicatio...   \n",
              "4  \"I have been on Ampyra for 5 days and have been so happy with this new pill. The first 2 days were NOT good with the side effects, but each day ju...   \n",
              "\n",
              "   rating  \n",
              "0       2  \n",
              "1       7  \n",
              "2       1  \n",
              "3      10  \n",
              "4       9  "
            ]
          },
          "execution_count": 9,
          "metadata": {},
          "output_type": "execute_result"
        }
      ],
      "source": [
        "# Preview a document to understand its structure\n",
        "drug_reviews_dataset.head()"
      ]
    },
    {
      "cell_type": "code",
      "execution_count": 10,
      "metadata": {},
      "outputs": [
        {
          "data": {
            "text/plain": [
              "InsertManyResult([ObjectId('68d9618ef39f27886354e76e'), ObjectId('68d9618ef39f27886354e76f'), ObjectId('68d9618ef39f27886354e770'), ObjectId('68d9618ef39f27886354e771'), ObjectId('68d9618ef39f27886354e772'), ObjectId('68d9618ef39f27886354e773'), ObjectId('68d9618ef39f27886354e774'), ObjectId('68d9618ef39f27886354e775'), ObjectId('68d9618ef39f27886354e776'), ObjectId('68d9618ef39f27886354e777'), ObjectId('68d9618ef39f27886354e778'), ObjectId('68d9618ef39f27886354e779'), ObjectId('68d9618ef39f27886354e77a'), ObjectId('68d9618ef39f27886354e77b'), ObjectId('68d9618ef39f27886354e77c'), ObjectId('68d9618ef39f27886354e77d'), ObjectId('68d9618ef39f27886354e77e'), ObjectId('68d9618ef39f27886354e77f'), ObjectId('68d9618ef39f27886354e780'), ObjectId('68d9618ef39f27886354e781'), ObjectId('68d9618ef39f27886354e782'), ObjectId('68d9618ef39f27886354e783'), ObjectId('68d9618ef39f27886354e784'), ObjectId('68d9618ef39f27886354e785'), ObjectId('68d9618ef39f27886354e786'), ObjectId('68d9618ef39f27886354e787'), ObjectId('68d9618ef39f27886354e788'), ObjectId('68d9618ef39f27886354e789'), ObjectId('68d9618ef39f27886354e78a'), ObjectId('68d9618ef39f27886354e78b'), ObjectId('68d9618ef39f27886354e78c'), ObjectId('68d9618ef39f27886354e78d'), ObjectId('68d9618ef39f27886354e78e'), ObjectId('68d9618ef39f27886354e78f'), ObjectId('68d9618ef39f27886354e790'), ObjectId('68d9618ef39f27886354e791'), ObjectId('68d9618ef39f27886354e792'), ObjectId('68d9618ef39f27886354e793'), ObjectId('68d9618ef39f27886354e794'), ObjectId('68d9618ef39f27886354e795'), ObjectId('68d9618ef39f27886354e796'), ObjectId('68d9618ef39f27886354e797'), ObjectId('68d9618ef39f27886354e798'), ObjectId('68d9618ef39f27886354e799'), ObjectId('68d9618ef39f27886354e79a'), ObjectId('68d9618ef39f27886354e79b'), ObjectId('68d9618ef39f27886354e79c'), ObjectId('68d9618ef39f27886354e79d'), ObjectId('68d9618ef39f27886354e79e'), ObjectId('68d9618ef39f27886354e79f'), ObjectId('68d9618ef39f27886354e7a0'), ObjectId('68d9618ef39f27886354e7a1'), ObjectId('68d9618ef39f27886354e7a2'), ObjectId('68d9618ef39f27886354e7a3'), ObjectId('68d9618ef39f27886354e7a4'), ObjectId('68d9618ef39f27886354e7a5'), ObjectId('68d9618ef39f27886354e7a6'), ObjectId('68d9618ef39f27886354e7a7'), ObjectId('68d9618ef39f27886354e7a8'), ObjectId('68d9618ef39f27886354e7a9'), ObjectId('68d9618ef39f27886354e7aa'), ObjectId('68d9618ef39f27886354e7ab'), ObjectId('68d9618ef39f27886354e7ac'), ObjectId('68d9618ef39f27886354e7ad'), ObjectId('68d9618ef39f27886354e7ae'), ObjectId('68d9618ef39f27886354e7af'), ObjectId('68d9618ef39f27886354e7b0'), ObjectId('68d9618ef39f27886354e7b1'), ObjectId('68d9618ef39f27886354e7b2'), ObjectId('68d9618ef39f27886354e7b3'), ObjectId('68d9618ef39f27886354e7b4'), ObjectId('68d9618ef39f27886354e7b5'), ObjectId('68d9618ef39f27886354e7b6'), ObjectId('68d9618ef39f27886354e7b7'), ObjectId('68d9618ef39f27886354e7b8'), ObjectId('68d9618ef39f27886354e7b9'), ObjectId('68d9618ef39f27886354e7ba'), ObjectId('68d9618ef39f27886354e7bb'), ObjectId('68d9618ef39f27886354e7bc'), ObjectId('68d9618ef39f27886354e7bd'), ObjectId('68d9618ef39f27886354e7be'), ObjectId('68d9618ef39f27886354e7bf'), ObjectId('68d9618ef39f27886354e7c0'), ObjectId('68d9618ef39f27886354e7c1'), ObjectId('68d9618ef39f27886354e7c2'), ObjectId('68d9618ef39f27886354e7c3'), ObjectId('68d9618ef39f27886354e7c4'), ObjectId('68d9618ef39f27886354e7c5'), ObjectId('68d9618ef39f27886354e7c6'), ObjectId('68d9618ef39f27886354e7c7'), ObjectId('68d9618ef39f27886354e7c8'), ObjectId('68d9618ef39f27886354e7c9'), ObjectId('68d9618ef39f27886354e7ca'), ObjectId('68d9618ef39f27886354e7cb'), ObjectId('68d9618ef39f27886354e7cc'), ObjectId('68d9618ef39f27886354e7cd'), ObjectId('68d9618ef39f27886354e7ce'), ObjectId('68d9618ef39f27886354e7cf'), ObjectId('68d9618ef39f27886354e7d0'), ObjectId('68d9618ef39f27886354e7d1'), ObjectId('68d9618ef39f27886354e7d2'), ObjectId('68d9618ef39f27886354e7d3'), ObjectId('68d9618ef39f27886354e7d4'), ObjectId('68d9618ef39f27886354e7d5'), ObjectId('68d9618ef39f27886354e7d6'), ObjectId('68d9618ef39f27886354e7d7'), ObjectId('68d9618ef39f27886354e7d8'), ObjectId('68d9618ef39f27886354e7d9'), ObjectId('68d9618ef39f27886354e7da'), ObjectId('68d9618ef39f27886354e7db'), ObjectId('68d9618ef39f27886354e7dc'), ObjectId('68d9618ef39f27886354e7dd'), ObjectId('68d9618ef39f27886354e7de'), ObjectId('68d9618ef39f27886354e7df'), ObjectId('68d9618ef39f27886354e7e0'), ObjectId('68d9618ef39f27886354e7e1'), ObjectId('68d9618ef39f27886354e7e2'), ObjectId('68d9618ef39f27886354e7e3'), ObjectId('68d9618ef39f27886354e7e4'), ObjectId('68d9618ef39f27886354e7e5'), ObjectId('68d9618ef39f27886354e7e6'), ObjectId('68d9618ef39f27886354e7e7'), ObjectId('68d9618ef39f27886354e7e8'), ObjectId('68d9618ef39f27886354e7e9'), ObjectId('68d9618ef39f27886354e7ea'), ObjectId('68d9618ef39f27886354e7eb'), ObjectId('68d9618ef39f27886354e7ec'), ObjectId('68d9618ef39f27886354e7ed'), ObjectId('68d9618ef39f27886354e7ee'), ObjectId('68d9618ef39f27886354e7ef'), ObjectId('68d9618ef39f27886354e7f0'), ObjectId('68d9618ef39f27886354e7f1'), ObjectId('68d9618ef39f27886354e7f2'), ObjectId('68d9618ef39f27886354e7f3'), ObjectId('68d9618ef39f27886354e7f4'), ObjectId('68d9618ef39f27886354e7f5'), ObjectId('68d9618ef39f27886354e7f6'), ObjectId('68d9618ef39f27886354e7f7'), ObjectId('68d9618ef39f27886354e7f8'), ObjectId('68d9618ef39f27886354e7f9'), ObjectId('68d9618ef39f27886354e7fa'), ObjectId('68d9618ef39f27886354e7fb'), ObjectId('68d9618ef39f27886354e7fc'), ObjectId('68d9618ef39f27886354e7fd'), ObjectId('68d9618ef39f27886354e7fe'), ObjectId('68d9618ef39f27886354e7ff'), ObjectId('68d9618ef39f27886354e800'), ObjectId('68d9618ef39f27886354e801'), ObjectId('68d9618ef39f27886354e802'), ObjectId('68d9618ef39f27886354e803'), ObjectId('68d9618ef39f27886354e804'), ObjectId('68d9618ef39f27886354e805'), ObjectId('68d9618ef39f27886354e806'), ObjectId('68d9618ef39f27886354e807'), ObjectId('68d9618ef39f27886354e808'), ObjectId('68d9618ef39f27886354e809'), ObjectId('68d9618ef39f27886354e80a'), ObjectId('68d9618ef39f27886354e80b'), ObjectId('68d9618ef39f27886354e80c'), ObjectId('68d9618ef39f27886354e80d'), ObjectId('68d9618ef39f27886354e80e'), ObjectId('68d9618ef39f27886354e80f'), ObjectId('68d9618ef39f27886354e810'), ObjectId('68d9618ef39f27886354e811'), ObjectId('68d9618ef39f27886354e812'), ObjectId('68d9618ef39f27886354e813'), ObjectId('68d9618ef39f27886354e814'), ObjectId('68d9618ef39f27886354e815'), ObjectId('68d9618ef39f27886354e816'), ObjectId('68d9618ef39f27886354e817'), ObjectId('68d9618ef39f27886354e818'), ObjectId('68d9618ef39f27886354e819'), ObjectId('68d9618ef39f27886354e81a'), ObjectId('68d9618ef39f27886354e81b'), ObjectId('68d9618ef39f27886354e81c'), ObjectId('68d9618ef39f27886354e81d'), ObjectId('68d9618ef39f27886354e81e'), ObjectId('68d9618ef39f27886354e81f'), ObjectId('68d9618ef39f27886354e820'), ObjectId('68d9618ef39f27886354e821'), ObjectId('68d9618ef39f27886354e822'), ObjectId('68d9618ef39f27886354e823'), ObjectId('68d9618ef39f27886354e824'), ObjectId('68d9618ef39f27886354e825'), ObjectId('68d9618ef39f27886354e826'), ObjectId('68d9618ef39f27886354e827'), ObjectId('68d9618ef39f27886354e828'), ObjectId('68d9618ef39f27886354e829'), ObjectId('68d9618ef39f27886354e82a'), ObjectId('68d9618ef39f27886354e82b'), ObjectId('68d9618ef39f27886354e82c'), ObjectId('68d9618ef39f27886354e82d'), ObjectId('68d9618ef39f27886354e82e'), ObjectId('68d9618ef39f27886354e82f'), ObjectId('68d9618ef39f27886354e830'), ObjectId('68d9618ef39f27886354e831'), ObjectId('68d9618ef39f27886354e832'), ObjectId('68d9618ef39f27886354e833'), ObjectId('68d9618ef39f27886354e834'), ObjectId('68d9618ef39f27886354e835'), ObjectId('68d9618ef39f27886354e836'), ObjectId('68d9618ef39f27886354e837'), ObjectId('68d9618ef39f27886354e838'), ObjectId('68d9618ef39f27886354e839'), ObjectId('68d9618ef39f27886354e83a'), ObjectId('68d9618ef39f27886354e83b'), ObjectId('68d9618ef39f27886354e83c'), ObjectId('68d9618ef39f27886354e83d'), ObjectId('68d9618ef39f27886354e83e'), ObjectId('68d9618ef39f27886354e83f'), ObjectId('68d9618ef39f27886354e840'), ObjectId('68d9618ef39f27886354e841'), ObjectId('68d9618ef39f27886354e842'), ObjectId('68d9618ef39f27886354e843'), ObjectId('68d9618ef39f27886354e844'), ObjectId('68d9618ef39f27886354e845'), ObjectId('68d9618ef39f27886354e846'), ObjectId('68d9618ef39f27886354e847'), ObjectId('68d9618ef39f27886354e848'), ObjectId('68d9618ef39f27886354e849'), ObjectId('68d9618ef39f27886354e84a'), ObjectId('68d9618ef39f27886354e84b'), ObjectId('68d9618ef39f27886354e84c'), ObjectId('68d9618ef39f27886354e84d'), ObjectId('68d9618ef39f27886354e84e'), ObjectId('68d9618ef39f27886354e84f'), ObjectId('68d9618ef39f27886354e850'), ObjectId('68d9618ef39f27886354e851'), ObjectId('68d9618ef39f27886354e852'), ObjectId('68d9618ef39f27886354e853'), ObjectId('68d9618ef39f27886354e854'), ObjectId('68d9618ef39f27886354e855'), ObjectId('68d9618ef39f27886354e856'), ObjectId('68d9618ef39f27886354e857'), ObjectId('68d9618ef39f27886354e858'), ObjectId('68d9618ef39f27886354e859'), ObjectId('68d9618ef39f27886354e85a'), ObjectId('68d9618ef39f27886354e85b'), ObjectId('68d9618ef39f27886354e85c'), ObjectId('68d9618ef39f27886354e85d'), ObjectId('68d9618ef39f27886354e85e'), ObjectId('68d9618ef39f27886354e85f'), ObjectId('68d9618ef39f27886354e860'), ObjectId('68d9618ef39f27886354e861'), ObjectId('68d9618ef39f27886354e862'), ObjectId('68d9618ef39f27886354e863'), ObjectId('68d9618ef39f27886354e864'), ObjectId('68d9618ef39f27886354e865'), ObjectId('68d9618ef39f27886354e866'), ObjectId('68d9618ef39f27886354e867'), ObjectId('68d9618ef39f27886354e868'), ObjectId('68d9618ef39f27886354e869'), ObjectId('68d9618ef39f27886354e86a'), ObjectId('68d9618ef39f27886354e86b'), ObjectId('68d9618ef39f27886354e86c'), ObjectId('68d9618ef39f27886354e86d'), ObjectId('68d9618ef39f27886354e86e'), ObjectId('68d9618ef39f27886354e86f'), ObjectId('68d9618ef39f27886354e870'), ObjectId('68d9618ef39f27886354e871'), ObjectId('68d9618ef39f27886354e872'), ObjectId('68d9618ef39f27886354e873'), ObjectId('68d9618ef39f27886354e874'), ObjectId('68d9618ef39f27886354e875'), ObjectId('68d9618ef39f27886354e876'), ObjectId('68d9618ef39f27886354e877'), ObjectId('68d9618ef39f27886354e878'), ObjectId('68d9618ef39f27886354e879'), ObjectId('68d9618ef39f27886354e87a'), ObjectId('68d9618ef39f27886354e87b'), ObjectId('68d9618ef39f27886354e87c'), ObjectId('68d9618ef39f27886354e87d'), ObjectId('68d9618ef39f27886354e87e'), ObjectId('68d9618ef39f27886354e87f'), ObjectId('68d9618ef39f27886354e880'), ObjectId('68d9618ef39f27886354e881'), ObjectId('68d9618ef39f27886354e882'), ObjectId('68d9618ef39f27886354e883'), ObjectId('68d9618ef39f27886354e884'), ObjectId('68d9618ef39f27886354e885'), ObjectId('68d9618ef39f27886354e886'), ObjectId('68d9618ef39f27886354e887'), ObjectId('68d9618ef39f27886354e888'), ObjectId('68d9618ef39f27886354e889'), ObjectId('68d9618ef39f27886354e88a'), ObjectId('68d9618ef39f27886354e88b'), ObjectId('68d9618ef39f27886354e88c'), ObjectId('68d9618ef39f27886354e88d'), ObjectId('68d9618ef39f27886354e88e'), ObjectId('68d9618ef39f27886354e88f'), ObjectId('68d9618ef39f27886354e890'), ObjectId('68d9618ef39f27886354e891'), ObjectId('68d9618ef39f27886354e892'), ObjectId('68d9618ef39f27886354e893'), ObjectId('68d9618ef39f27886354e894'), ObjectId('68d9618ef39f27886354e895'), ObjectId('68d9618ef39f27886354e896'), ObjectId('68d9618ef39f27886354e897'), ObjectId('68d9618ef39f27886354e898'), ObjectId('68d9618ef39f27886354e899'), ObjectId('68d9618ef39f27886354e89a'), ObjectId('68d9618ef39f27886354e89b'), ObjectId('68d9618ef39f27886354e89c'), ObjectId('68d9618ef39f27886354e89d'), ObjectId('68d9618ef39f27886354e89e'), ObjectId('68d9618ef39f27886354e89f'), ObjectId('68d9618ef39f27886354e8a0'), ObjectId('68d9618ef39f27886354e8a1'), ObjectId('68d9618ef39f27886354e8a2'), ObjectId('68d9618ef39f27886354e8a3'), ObjectId('68d9618ef39f27886354e8a4'), ObjectId('68d9618ef39f27886354e8a5'), ObjectId('68d9618ef39f27886354e8a6'), ObjectId('68d9618ef39f27886354e8a7'), ObjectId('68d9618ef39f27886354e8a8'), ObjectId('68d9618ef39f27886354e8a9'), ObjectId('68d9618ef39f27886354e8aa'), ObjectId('68d9618ef39f27886354e8ab'), ObjectId('68d9618ef39f27886354e8ac'), ObjectId('68d9618ef39f27886354e8ad'), ObjectId('68d9618ef39f27886354e8ae'), ObjectId('68d9618ef39f27886354e8af'), ObjectId('68d9618ef39f27886354e8b0'), ObjectId('68d9618ef39f27886354e8b1'), ObjectId('68d9618ef39f27886354e8b2'), ObjectId('68d9618ef39f27886354e8b3'), ObjectId('68d9618ef39f27886354e8b4'), ObjectId('68d9618ef39f27886354e8b5'), ObjectId('68d9618ef39f27886354e8b6'), ObjectId('68d9618ef39f27886354e8b7'), ObjectId('68d9618ef39f27886354e8b8'), ObjectId('68d9618ef39f27886354e8b9'), ObjectId('68d9618ef39f27886354e8ba'), ObjectId('68d9618ef39f27886354e8bb'), ObjectId('68d9618ef39f27886354e8bc'), ObjectId('68d9618ef39f27886354e8bd'), ObjectId('68d9618ef39f27886354e8be'), ObjectId('68d9618ef39f27886354e8bf'), ObjectId('68d9618ef39f27886354e8c0'), ObjectId('68d9618ef39f27886354e8c1'), ObjectId('68d9618ef39f27886354e8c2'), ObjectId('68d9618ef39f27886354e8c3'), ObjectId('68d9618ef39f27886354e8c4'), ObjectId('68d9618ef39f27886354e8c5'), ObjectId('68d9618ef39f27886354e8c6'), ObjectId('68d9618ef39f27886354e8c7'), ObjectId('68d9618ef39f27886354e8c8'), ObjectId('68d9618ef39f27886354e8c9'), ObjectId('68d9618ef39f27886354e8ca'), ObjectId('68d9618ef39f27886354e8cb'), ObjectId('68d9618ef39f27886354e8cc'), ObjectId('68d9618ef39f27886354e8cd'), ObjectId('68d9618ef39f27886354e8ce'), ObjectId('68d9618ef39f27886354e8cf'), ObjectId('68d9618ef39f27886354e8d0'), ObjectId('68d9618ef39f27886354e8d1'), ObjectId('68d9618ef39f27886354e8d2'), ObjectId('68d9618ef39f27886354e8d3'), ObjectId('68d9618ef39f27886354e8d4'), ObjectId('68d9618ef39f27886354e8d5'), ObjectId('68d9618ef39f27886354e8d6'), ObjectId('68d9618ef39f27886354e8d7'), ObjectId('68d9618ef39f27886354e8d8'), ObjectId('68d9618ef39f27886354e8d9'), ObjectId('68d9618ef39f27886354e8da'), ObjectId('68d9618ef39f27886354e8db'), ObjectId('68d9618ef39f27886354e8dc'), ObjectId('68d9618ef39f27886354e8dd'), ObjectId('68d9618ef39f27886354e8de'), ObjectId('68d9618ef39f27886354e8df'), ObjectId('68d9618ef39f27886354e8e0'), ObjectId('68d9618ef39f27886354e8e1'), ObjectId('68d9618ef39f27886354e8e2'), ObjectId('68d9618ef39f27886354e8e3'), ObjectId('68d9618ef39f27886354e8e4'), ObjectId('68d9618ef39f27886354e8e5'), ObjectId('68d9618ef39f27886354e8e6'), ObjectId('68d9618ef39f27886354e8e7'), ObjectId('68d9618ef39f27886354e8e8'), ObjectId('68d9618ef39f27886354e8e9'), ObjectId('68d9618ef39f27886354e8ea'), ObjectId('68d9618ef39f27886354e8eb'), ObjectId('68d9618ef39f27886354e8ec'), ObjectId('68d9618ef39f27886354e8ed'), ObjectId('68d9618ef39f27886354e8ee'), ObjectId('68d9618ef39f27886354e8ef'), ObjectId('68d9618ef39f27886354e8f0'), ObjectId('68d9618ef39f27886354e8f1'), ObjectId('68d9618ef39f27886354e8f2'), ObjectId('68d9618ef39f27886354e8f3'), ObjectId('68d9618ef39f27886354e8f4'), ObjectId('68d9618ef39f27886354e8f5'), ObjectId('68d9618ef39f27886354e8f6'), ObjectId('68d9618ef39f27886354e8f7'), ObjectId('68d9618ef39f27886354e8f8'), ObjectId('68d9618ef39f27886354e8f9'), ObjectId('68d9618ef39f27886354e8fa'), ObjectId('68d9618ef39f27886354e8fb'), ObjectId('68d9618ef39f27886354e8fc'), ObjectId('68d9618ef39f27886354e8fd'), ObjectId('68d9618ef39f27886354e8fe'), ObjectId('68d9618ef39f27886354e8ff'), ObjectId('68d9618ef39f27886354e900'), ObjectId('68d9618ef39f27886354e901'), ObjectId('68d9618ef39f27886354e902'), ObjectId('68d9618ef39f27886354e903'), ObjectId('68d9618ef39f27886354e904'), ObjectId('68d9618ef39f27886354e905'), ObjectId('68d9618ef39f27886354e906'), ObjectId('68d9618ef39f27886354e907'), ObjectId('68d9618ef39f27886354e908'), ObjectId('68d9618ef39f27886354e909'), ObjectId('68d9618ef39f27886354e90a'), ObjectId('68d9618ef39f27886354e90b'), ObjectId('68d9618ef39f27886354e90c'), ObjectId('68d9618ef39f27886354e90d'), ObjectId('68d9618ef39f27886354e90e'), ObjectId('68d9618ef39f27886354e90f'), ObjectId('68d9618ef39f27886354e910'), ObjectId('68d9618ef39f27886354e911'), ObjectId('68d9618ef39f27886354e912'), ObjectId('68d9618ef39f27886354e913'), ObjectId('68d9618ef39f27886354e914'), ObjectId('68d9618ef39f27886354e915'), ObjectId('68d9618ef39f27886354e916'), ObjectId('68d9618ef39f27886354e917'), ObjectId('68d9618ef39f27886354e918'), ObjectId('68d9618ef39f27886354e919'), ObjectId('68d9618ef39f27886354e91a'), ObjectId('68d9618ef39f27886354e91b'), ObjectId('68d9618ef39f27886354e91c'), ObjectId('68d9618ef39f27886354e91d'), ObjectId('68d9618ef39f27886354e91e'), ObjectId('68d9618ef39f27886354e91f'), ObjectId('68d9618ef39f27886354e920'), ObjectId('68d9618ef39f27886354e921'), ObjectId('68d9618ef39f27886354e922'), ObjectId('68d9618ef39f27886354e923'), ObjectId('68d9618ef39f27886354e924'), ObjectId('68d9618ef39f27886354e925'), ObjectId('68d9618ef39f27886354e926'), ObjectId('68d9618ef39f27886354e927'), ObjectId('68d9618ef39f27886354e928'), ObjectId('68d9618ef39f27886354e929'), ObjectId('68d9618ef39f27886354e92a'), ObjectId('68d9618ef39f27886354e92b'), ObjectId('68d9618ef39f27886354e92c'), ObjectId('68d9618ef39f27886354e92d'), ObjectId('68d9618ef39f27886354e92e'), ObjectId('68d9618ef39f27886354e92f'), ObjectId('68d9618ef39f27886354e930'), ObjectId('68d9618ef39f27886354e931'), ObjectId('68d9618ef39f27886354e932'), ObjectId('68d9618ef39f27886354e933'), ObjectId('68d9618ef39f27886354e934'), ObjectId('68d9618ef39f27886354e935'), ObjectId('68d9618ef39f27886354e936'), ObjectId('68d9618ef39f27886354e937'), ObjectId('68d9618ef39f27886354e938'), ObjectId('68d9618ef39f27886354e939'), ObjectId('68d9618ef39f27886354e93a'), ObjectId('68d9618ef39f27886354e93b'), ObjectId('68d9618ef39f27886354e93c'), ObjectId('68d9618ef39f27886354e93d'), ObjectId('68d9618ef39f27886354e93e'), ObjectId('68d9618ef39f27886354e93f'), ObjectId('68d9618ef39f27886354e940'), ObjectId('68d9618ef39f27886354e941'), ObjectId('68d9618ef39f27886354e942'), ObjectId('68d9618ef39f27886354e943'), ObjectId('68d9618ef39f27886354e944'), ObjectId('68d9618ef39f27886354e945'), ObjectId('68d9618ef39f27886354e946'), ObjectId('68d9618ef39f27886354e947'), ObjectId('68d9618ef39f27886354e948'), ObjectId('68d9618ef39f27886354e949'), ObjectId('68d9618ef39f27886354e94a'), ObjectId('68d9618ef39f27886354e94b'), ObjectId('68d9618ef39f27886354e94c'), ObjectId('68d9618ef39f27886354e94d'), ObjectId('68d9618ef39f27886354e94e'), ObjectId('68d9618ef39f27886354e94f'), ObjectId('68d9618ef39f27886354e950'), ObjectId('68d9618ef39f27886354e951'), ObjectId('68d9618ef39f27886354e952'), ObjectId('68d9618ef39f27886354e953'), ObjectId('68d9618ef39f27886354e954'), ObjectId('68d9618ef39f27886354e955'), ObjectId('68d9618ef39f27886354e956'), ObjectId('68d9618ef39f27886354e957'), ObjectId('68d9618ef39f27886354e958'), ObjectId('68d9618ef39f27886354e959'), ObjectId('68d9618ef39f27886354e95a'), ObjectId('68d9618ef39f27886354e95b'), ObjectId('68d9618ef39f27886354e95c'), ObjectId('68d9618ef39f27886354e95d'), ObjectId('68d9618ef39f27886354e95e'), ObjectId('68d9618ef39f27886354e95f'), ObjectId('68d9618ef39f27886354e960'), ObjectId('68d9618ef39f27886354e961'), ObjectId('68d9618ef39f27886354e962'), ObjectId('68d9618ef39f27886354e963'), ObjectId('68d9618ef39f27886354e964'), ObjectId('68d9618ef39f27886354e965'), ObjectId('68d9618ef39f27886354e966'), ObjectId('68d9618ef39f27886354e967'), ObjectId('68d9618ef39f27886354e968'), ObjectId('68d9618ef39f27886354e969'), ObjectId('68d9618ef39f27886354e96a'), ObjectId('68d9618ef39f27886354e96b'), ObjectId('68d9618ef39f27886354e96c'), ObjectId('68d9618ef39f27886354e96d'), ObjectId('68d9618ef39f27886354e96e'), ObjectId('68d9618ef39f27886354e96f'), ObjectId('68d9618ef39f27886354e970'), ObjectId('68d9618ef39f27886354e971'), ObjectId('68d9618ef39f27886354e972'), ObjectId('68d9618ef39f27886354e973'), ObjectId('68d9618ef39f27886354e974'), ObjectId('68d9618ef39f27886354e975'), ObjectId('68d9618ef39f27886354e976'), ObjectId('68d9618ef39f27886354e977'), ObjectId('68d9618ef39f27886354e978'), ObjectId('68d9618ef39f27886354e979'), ObjectId('68d9618ef39f27886354e97a'), ObjectId('68d9618ef39f27886354e97b'), ObjectId('68d9618ef39f27886354e97c'), ObjectId('68d9618ef39f27886354e97d'), ObjectId('68d9618ef39f27886354e97e'), ObjectId('68d9618ef39f27886354e97f'), ObjectId('68d9618ef39f27886354e980'), ObjectId('68d9618ef39f27886354e981'), ObjectId('68d9618ef39f27886354e982'), ObjectId('68d9618ef39f27886354e983'), ObjectId('68d9618ef39f27886354e984'), ObjectId('68d9618ef39f27886354e985'), ObjectId('68d9618ef39f27886354e986'), ObjectId('68d9618ef39f27886354e987'), ObjectId('68d9618ef39f27886354e988'), ObjectId('68d9618ef39f27886354e989'), ObjectId('68d9618ef39f27886354e98a'), ObjectId('68d9618ef39f27886354e98b'), ObjectId('68d9618ef39f27886354e98c'), ObjectId('68d9618ef39f27886354e98d'), ObjectId('68d9618ef39f27886354e98e'), ObjectId('68d9618ef39f27886354e98f'), ObjectId('68d9618ef39f27886354e990'), ObjectId('68d9618ef39f27886354e991'), ObjectId('68d9618ef39f27886354e992'), ObjectId('68d9618ef39f27886354e993'), ObjectId('68d9618ef39f27886354e994'), ObjectId('68d9618ef39f27886354e995'), ObjectId('68d9618ef39f27886354e996'), ObjectId('68d9618ef39f27886354e997'), ObjectId('68d9618ef39f27886354e998'), ObjectId('68d9618ef39f27886354e999'), ObjectId('68d9618ef39f27886354e99a'), ObjectId('68d9618ef39f27886354e99b'), ObjectId('68d9618ef39f27886354e99c'), ObjectId('68d9618ef39f27886354e99d'), ObjectId('68d9618ef39f27886354e99e'), ObjectId('68d9618ef39f27886354e99f'), ObjectId('68d9618ef39f27886354e9a0'), ObjectId('68d9618ef39f27886354e9a1'), ObjectId('68d9618ef39f27886354e9a2'), ObjectId('68d9618ef39f27886354e9a3'), ObjectId('68d9618ef39f27886354e9a4'), ObjectId('68d9618ef39f27886354e9a5'), ObjectId('68d9618ef39f27886354e9a6'), ObjectId('68d9618ef39f27886354e9a7'), ObjectId('68d9618ef39f27886354e9a8'), ObjectId('68d9618ef39f27886354e9a9'), ObjectId('68d9618ef39f27886354e9aa'), ObjectId('68d9618ef39f27886354e9ab'), ObjectId('68d9618ef39f27886354e9ac'), ObjectId('68d9618ef39f27886354e9ad'), ObjectId('68d9618ef39f27886354e9ae'), ObjectId('68d9618ef39f27886354e9af'), ObjectId('68d9618ef39f27886354e9b0'), ObjectId('68d9618ef39f27886354e9b1'), ObjectId('68d9618ef39f27886354e9b2'), ObjectId('68d9618ef39f27886354e9b3'), ObjectId('68d9618ef39f27886354e9b4'), ObjectId('68d9618ef39f27886354e9b5'), ObjectId('68d9618ef39f27886354e9b6'), ObjectId('68d9618ef39f27886354e9b7'), ObjectId('68d9618ef39f27886354e9b8'), ObjectId('68d9618ef39f27886354e9b9'), ObjectId('68d9618ef39f27886354e9ba'), ObjectId('68d9618ef39f27886354e9bb'), ObjectId('68d9618ef39f27886354e9bc'), ObjectId('68d9618ef39f27886354e9bd'), ObjectId('68d9618ef39f27886354e9be'), ObjectId('68d9618ef39f27886354e9bf'), ObjectId('68d9618ef39f27886354e9c0'), ObjectId('68d9618ef39f27886354e9c1'), ObjectId('68d9618ef39f27886354e9c2'), ObjectId('68d9618ef39f27886354e9c3'), ObjectId('68d9618ef39f27886354e9c4'), ObjectId('68d9618ef39f27886354e9c5'), ObjectId('68d9618ef39f27886354e9c6'), ObjectId('68d9618ef39f27886354e9c7'), ObjectId('68d9618ef39f27886354e9c8'), ObjectId('68d9618ef39f27886354e9c9'), ObjectId('68d9618ef39f27886354e9ca'), ObjectId('68d9618ef39f27886354e9cb'), ObjectId('68d9618ef39f27886354e9cc'), ObjectId('68d9618ef39f27886354e9cd'), ObjectId('68d9618ef39f27886354e9ce'), ObjectId('68d9618ef39f27886354e9cf'), ObjectId('68d9618ef39f27886354e9d0'), ObjectId('68d9618ef39f27886354e9d1'), ObjectId('68d9618ef39f27886354e9d2'), ObjectId('68d9618ef39f27886354e9d3'), ObjectId('68d9618ef39f27886354e9d4'), ObjectId('68d9618ef39f27886354e9d5'), ObjectId('68d9618ef39f27886354e9d6'), ObjectId('68d9618ef39f27886354e9d7'), ObjectId('68d9618ef39f27886354e9d8'), ObjectId('68d9618ef39f27886354e9d9'), ObjectId('68d9618ef39f27886354e9da'), ObjectId('68d9618ef39f27886354e9db'), ObjectId('68d9618ef39f27886354e9dc'), ObjectId('68d9618ef39f27886354e9dd'), ObjectId('68d9618ef39f27886354e9de'), ObjectId('68d9618ef39f27886354e9df'), ObjectId('68d9618ef39f27886354e9e0'), ObjectId('68d9618ef39f27886354e9e1'), ObjectId('68d9618ef39f27886354e9e2'), ObjectId('68d9618ef39f27886354e9e3'), ObjectId('68d9618ef39f27886354e9e4'), ObjectId('68d9618ef39f27886354e9e5'), ObjectId('68d9618ef39f27886354e9e6'), ObjectId('68d9618ef39f27886354e9e7'), ObjectId('68d9618ef39f27886354e9e8'), ObjectId('68d9618ef39f27886354e9e9'), ObjectId('68d9618ef39f27886354e9ea'), ObjectId('68d9618ef39f27886354e9eb'), ObjectId('68d9618ef39f27886354e9ec'), ObjectId('68d9618ef39f27886354e9ed'), ObjectId('68d9618ef39f27886354e9ee'), ObjectId('68d9618ef39f27886354e9ef'), ObjectId('68d9618ef39f27886354e9f0'), ObjectId('68d9618ef39f27886354e9f1'), ObjectId('68d9618ef39f27886354e9f2'), ObjectId('68d9618ef39f27886354e9f3'), ObjectId('68d9618ef39f27886354e9f4'), ObjectId('68d9618ef39f27886354e9f5'), ObjectId('68d9618ef39f27886354e9f6'), ObjectId('68d9618ef39f27886354e9f7'), ObjectId('68d9618ef39f27886354e9f8'), ObjectId('68d9618ef39f27886354e9f9'), ObjectId('68d9618ef39f27886354e9fa'), ObjectId('68d9618ef39f27886354e9fb'), ObjectId('68d9618ef39f27886354e9fc'), ObjectId('68d9618ef39f27886354e9fd'), ObjectId('68d9618ef39f27886354e9fe'), ObjectId('68d9618ef39f27886354e9ff'), ObjectId('68d9618ef39f27886354ea00'), ObjectId('68d9618ef39f27886354ea01'), ObjectId('68d9618ef39f27886354ea02'), ObjectId('68d9618ef39f27886354ea03'), ObjectId('68d9618ef39f27886354ea04'), ObjectId('68d9618ef39f27886354ea05'), ObjectId('68d9618ef39f27886354ea06'), ObjectId('68d9618ef39f27886354ea07'), ObjectId('68d9618ef39f27886354ea08'), ObjectId('68d9618ef39f27886354ea09'), ObjectId('68d9618ef39f27886354ea0a'), ObjectId('68d9618ef39f27886354ea0b'), ObjectId('68d9618ef39f27886354ea0c'), ObjectId('68d9618ef39f27886354ea0d'), ObjectId('68d9618ef39f27886354ea0e'), ObjectId('68d9618ef39f27886354ea0f'), ObjectId('68d9618ef39f27886354ea10'), ObjectId('68d9618ef39f27886354ea11'), ObjectId('68d9618ef39f27886354ea12'), ObjectId('68d9618ef39f27886354ea13'), ObjectId('68d9618ef39f27886354ea14'), ObjectId('68d9618ef39f27886354ea15'), ObjectId('68d9618ef39f27886354ea16'), ObjectId('68d9618ef39f27886354ea17'), ObjectId('68d9618ef39f27886354ea18'), ObjectId('68d9618ef39f27886354ea19'), ObjectId('68d9618ef39f27886354ea1a'), ObjectId('68d9618ef39f27886354ea1b'), ObjectId('68d9618ef39f27886354ea1c'), ObjectId('68d9618ef39f27886354ea1d'), ObjectId('68d9618ef39f27886354ea1e'), ObjectId('68d9618ef39f27886354ea1f'), ObjectId('68d9618ef39f27886354ea20'), ObjectId('68d9618ef39f27886354ea21'), ObjectId('68d9618ef39f27886354ea22'), ObjectId('68d9618ef39f27886354ea23'), ObjectId('68d9618ef39f27886354ea24'), ObjectId('68d9618ef39f27886354ea25'), ObjectId('68d9618ef39f27886354ea26'), ObjectId('68d9618ef39f27886354ea27'), ObjectId('68d9618ef39f27886354ea28'), ObjectId('68d9618ef39f27886354ea29'), ObjectId('68d9618ef39f27886354ea2a'), ObjectId('68d9618ef39f27886354ea2b'), ObjectId('68d9618ef39f27886354ea2c'), ObjectId('68d9618ef39f27886354ea2d'), ObjectId('68d9618ef39f27886354ea2e'), ObjectId('68d9618ef39f27886354ea2f'), ObjectId('68d9618ef39f27886354ea30'), ObjectId('68d9618ef39f27886354ea31'), ObjectId('68d9618ef39f27886354ea32'), ObjectId('68d9618ef39f27886354ea33'), ObjectId('68d9618ef39f27886354ea34'), ObjectId('68d9618ef39f27886354ea35'), ObjectId('68d9618ef39f27886354ea36'), ObjectId('68d9618ef39f27886354ea37'), ObjectId('68d9618ef39f27886354ea38'), ObjectId('68d9618ef39f27886354ea39'), ObjectId('68d9618ef39f27886354ea3a'), ObjectId('68d9618ef39f27886354ea3b'), ObjectId('68d9618ef39f27886354ea3c'), ObjectId('68d9618ef39f27886354ea3d'), ObjectId('68d9618ef39f27886354ea3e'), ObjectId('68d9618ef39f27886354ea3f'), ObjectId('68d9618ef39f27886354ea40'), ObjectId('68d9618ef39f27886354ea41'), ObjectId('68d9618ef39f27886354ea42'), ObjectId('68d9618ef39f27886354ea43'), ObjectId('68d9618ef39f27886354ea44'), ObjectId('68d9618ef39f27886354ea45'), ObjectId('68d9618ef39f27886354ea46'), ObjectId('68d9618ef39f27886354ea47'), ObjectId('68d9618ef39f27886354ea48'), ObjectId('68d9618ef39f27886354ea49'), ObjectId('68d9618ef39f27886354ea4a'), ObjectId('68d9618ef39f27886354ea4b'), ObjectId('68d9618ef39f27886354ea4c'), ObjectId('68d9618ef39f27886354ea4d'), ObjectId('68d9618ef39f27886354ea4e'), ObjectId('68d9618ef39f27886354ea4f'), ObjectId('68d9618ef39f27886354ea50'), ObjectId('68d9618ef39f27886354ea51'), ObjectId('68d9618ef39f27886354ea52'), ObjectId('68d9618ef39f27886354ea53'), ObjectId('68d9618ef39f27886354ea54'), ObjectId('68d9618ef39f27886354ea55'), ObjectId('68d9618ef39f27886354ea56'), ObjectId('68d9618ef39f27886354ea57'), ObjectId('68d9618ef39f27886354ea58'), ObjectId('68d9618ef39f27886354ea59'), ObjectId('68d9618ef39f27886354ea5a'), ObjectId('68d9618ef39f27886354ea5b'), ObjectId('68d9618ef39f27886354ea5c'), ObjectId('68d9618ef39f27886354ea5d'), ObjectId('68d9618ef39f27886354ea5e'), ObjectId('68d9618ef39f27886354ea5f'), ObjectId('68d9618ef39f27886354ea60'), ObjectId('68d9618ef39f27886354ea61'), ObjectId('68d9618ef39f27886354ea62'), ObjectId('68d9618ef39f27886354ea63'), ObjectId('68d9618ef39f27886354ea64'), ObjectId('68d9618ef39f27886354ea65'), ObjectId('68d9618ef39f27886354ea66'), ObjectId('68d9618ef39f27886354ea67'), ObjectId('68d9618ef39f27886354ea68'), ObjectId('68d9618ef39f27886354ea69'), ObjectId('68d9618ef39f27886354ea6a'), ObjectId('68d9618ef39f27886354ea6b'), ObjectId('68d9618ef39f27886354ea6c'), ObjectId('68d9618ef39f27886354ea6d'), ObjectId('68d9618ef39f27886354ea6e'), ObjectId('68d9618ef39f27886354ea6f'), ObjectId('68d9618ef39f27886354ea70'), ObjectId('68d9618ef39f27886354ea71'), ObjectId('68d9618ef39f27886354ea72'), ObjectId('68d9618ef39f27886354ea73'), ObjectId('68d9618ef39f27886354ea74'), ObjectId('68d9618ef39f27886354ea75'), ObjectId('68d9618ef39f27886354ea76'), ObjectId('68d9618ef39f27886354ea77'), ObjectId('68d9618ef39f27886354ea78'), ObjectId('68d9618ef39f27886354ea79'), ObjectId('68d9618ef39f27886354ea7a'), ObjectId('68d9618ef39f27886354ea7b'), ObjectId('68d9618ef39f27886354ea7c'), ObjectId('68d9618ef39f27886354ea7d'), ObjectId('68d9618ef39f27886354ea7e'), ObjectId('68d9618ef39f27886354ea7f'), ObjectId('68d9618ef39f27886354ea80'), ObjectId('68d9618ef39f27886354ea81'), ObjectId('68d9618ef39f27886354ea82'), ObjectId('68d9618ef39f27886354ea83'), ObjectId('68d9618ef39f27886354ea84'), ObjectId('68d9618ef39f27886354ea85'), ObjectId('68d9618ef39f27886354ea86'), ObjectId('68d9618ef39f27886354ea87'), ObjectId('68d9618ef39f27886354ea88'), ObjectId('68d9618ef39f27886354ea89'), ObjectId('68d9618ef39f27886354ea8a'), ObjectId('68d9618ef39f27886354ea8b'), ObjectId('68d9618ef39f27886354ea8c'), ObjectId('68d9618ef39f27886354ea8d'), ObjectId('68d9618ef39f27886354ea8e'), ObjectId('68d9618ef39f27886354ea8f'), ObjectId('68d9618ef39f27886354ea90'), ObjectId('68d9618ef39f27886354ea91'), ObjectId('68d9618ef39f27886354ea92'), ObjectId('68d9618ef39f27886354ea93'), ObjectId('68d9618ef39f27886354ea94'), ObjectId('68d9618ef39f27886354ea95'), ObjectId('68d9618ef39f27886354ea96'), ObjectId('68d9618ef39f27886354ea97'), ObjectId('68d9618ef39f27886354ea98'), ObjectId('68d9618ef39f27886354ea99'), ObjectId('68d9618ef39f27886354ea9a'), ObjectId('68d9618ef39f27886354ea9b'), ObjectId('68d9618ef39f27886354ea9c'), ObjectId('68d9618ef39f27886354ea9d'), ObjectId('68d9618ef39f27886354ea9e'), ObjectId('68d9618ef39f27886354ea9f'), ObjectId('68d9618ef39f27886354eaa0'), ObjectId('68d9618ef39f27886354eaa1'), ObjectId('68d9618ef39f27886354eaa2'), ObjectId('68d9618ef39f27886354eaa3'), ObjectId('68d9618ef39f27886354eaa4'), ObjectId('68d9618ef39f27886354eaa5'), ObjectId('68d9618ef39f27886354eaa6'), ObjectId('68d9618ef39f27886354eaa7'), ObjectId('68d9618ef39f27886354eaa8'), ObjectId('68d9618ef39f27886354eaa9'), ObjectId('68d9618ef39f27886354eaaa'), ObjectId('68d9618ef39f27886354eaab'), ObjectId('68d9618ef39f27886354eaac'), ObjectId('68d9618ef39f27886354eaad'), ObjectId('68d9618ef39f27886354eaae'), ObjectId('68d9618ef39f27886354eaaf'), ObjectId('68d9618ef39f27886354eab0'), ObjectId('68d9618ef39f27886354eab1'), ObjectId('68d9618ef39f27886354eab2'), ObjectId('68d9618ef39f27886354eab3'), ObjectId('68d9618ef39f27886354eab4'), ObjectId('68d9618ef39f27886354eab5'), ObjectId('68d9618ef39f27886354eab6'), ObjectId('68d9618ef39f27886354eab7'), ObjectId('68d9618ef39f27886354eab8'), ObjectId('68d9618ef39f27886354eab9'), ObjectId('68d9618ef39f27886354eaba'), ObjectId('68d9618ef39f27886354eabb'), ObjectId('68d9618ef39f27886354eabc'), ObjectId('68d9618ef39f27886354eabd'), ObjectId('68d9618ef39f27886354eabe'), ObjectId('68d9618ef39f27886354eabf'), ObjectId('68d9618ef39f27886354eac0'), ObjectId('68d9618ef39f27886354eac1'), ObjectId('68d9618ef39f27886354eac2'), ObjectId('68d9618ef39f27886354eac3'), ObjectId('68d9618ef39f27886354eac4'), ObjectId('68d9618ef39f27886354eac5'), ObjectId('68d9618ef39f27886354eac6'), ObjectId('68d9618ef39f27886354eac7'), ObjectId('68d9618ef39f27886354eac8'), ObjectId('68d9618ef39f27886354eac9'), ObjectId('68d9618ef39f27886354eaca'), ObjectId('68d9618ef39f27886354eacb'), ObjectId('68d9618ef39f27886354eacc'), ObjectId('68d9618ef39f27886354eacd'), ObjectId('68d9618ef39f27886354eace'), ObjectId('68d9618ef39f27886354eacf'), ObjectId('68d9618ef39f27886354ead0'), ObjectId('68d9618ef39f27886354ead1'), ObjectId('68d9618ef39f27886354ead2'), ObjectId('68d9618ef39f27886354ead3'), ObjectId('68d9618ef39f27886354ead4'), ObjectId('68d9618ef39f27886354ead5'), ObjectId('68d9618ef39f27886354ead6'), ObjectId('68d9618ef39f27886354ead7'), ObjectId('68d9618ef39f27886354ead8'), ObjectId('68d9618ef39f27886354ead9'), ObjectId('68d9618ef39f27886354eada'), ObjectId('68d9618ef39f27886354eadb'), ObjectId('68d9618ef39f27886354eadc'), ObjectId('68d9618ef39f27886354eadd'), ObjectId('68d9618ef39f27886354eade'), ObjectId('68d9618ef39f27886354eadf'), ObjectId('68d9618ef39f27886354eae0'), ObjectId('68d9618ef39f27886354eae1'), ObjectId('68d9618ef39f27886354eae2'), ObjectId('68d9618ef39f27886354eae3'), ObjectId('68d9618ef39f27886354eae4'), ObjectId('68d9618ef39f27886354eae5'), ObjectId('68d9618ef39f27886354eae6'), ObjectId('68d9618ef39f27886354eae7'), ObjectId('68d9618ef39f27886354eae8'), ObjectId('68d9618ef39f27886354eae9'), ObjectId('68d9618ef39f27886354eaea'), ObjectId('68d9618ef39f27886354eaeb'), ObjectId('68d9618ef39f27886354eaec'), ObjectId('68d9618ef39f27886354eaed'), ObjectId('68d9618ef39f27886354eaee'), ObjectId('68d9618ef39f27886354eaef'), ObjectId('68d9618ef39f27886354eaf0'), ObjectId('68d9618ef39f27886354eaf1'), ObjectId('68d9618ef39f27886354eaf2'), ObjectId('68d9618ef39f27886354eaf3'), ObjectId('68d9618ef39f27886354eaf4'), ObjectId('68d9618ef39f27886354eaf5'), ObjectId('68d9618ef39f27886354eaf6'), ObjectId('68d9618ef39f27886354eaf7'), ObjectId('68d9618ef39f27886354eaf8'), ObjectId('68d9618ef39f27886354eaf9'), ObjectId('68d9618ef39f27886354eafa'), ObjectId('68d9618ef39f27886354eafb'), ObjectId('68d9618ef39f27886354eafc'), ObjectId('68d9618ef39f27886354eafd'), ObjectId('68d9618ef39f27886354eafe'), ObjectId('68d9618ef39f27886354eaff'), ObjectId('68d9618ef39f27886354eb00'), ObjectId('68d9618ef39f27886354eb01'), ObjectId('68d9618ef39f27886354eb02'), ObjectId('68d9618ef39f27886354eb03'), ObjectId('68d9618ef39f27886354eb04'), ObjectId('68d9618ef39f27886354eb05'), ObjectId('68d9618ef39f27886354eb06'), ObjectId('68d9618ef39f27886354eb07'), ObjectId('68d9618ef39f27886354eb08'), ObjectId('68d9618ef39f27886354eb09'), ObjectId('68d9618ef39f27886354eb0a'), ObjectId('68d9618ef39f27886354eb0b'), ObjectId('68d9618ef39f27886354eb0c'), ObjectId('68d9618ef39f27886354eb0d'), ObjectId('68d9618ef39f27886354eb0e'), ObjectId('68d9618ef39f27886354eb0f'), ObjectId('68d9618ef39f27886354eb10'), ObjectId('68d9618ef39f27886354eb11'), ObjectId('68d9618ef39f27886354eb12'), ObjectId('68d9618ef39f27886354eb13'), ObjectId('68d9618ef39f27886354eb14'), ObjectId('68d9618ef39f27886354eb15'), ObjectId('68d9618ef39f27886354eb16'), ObjectId('68d9618ef39f27886354eb17'), ObjectId('68d9618ef39f27886354eb18'), ObjectId('68d9618ef39f27886354eb19'), ObjectId('68d9618ef39f27886354eb1a'), ObjectId('68d9618ef39f27886354eb1b'), ObjectId('68d9618ef39f27886354eb1c'), ObjectId('68d9618ef39f27886354eb1d'), ObjectId('68d9618ef39f27886354eb1e'), ObjectId('68d9618ef39f27886354eb1f'), ObjectId('68d9618ef39f27886354eb20'), ObjectId('68d9618ef39f27886354eb21'), ObjectId('68d9618ef39f27886354eb22'), ObjectId('68d9618ef39f27886354eb23'), ObjectId('68d9618ef39f27886354eb24'), ObjectId('68d9618ef39f27886354eb25'), ObjectId('68d9618ef39f27886354eb26'), ObjectId('68d9618ef39f27886354eb27'), ObjectId('68d9618ef39f27886354eb28'), ObjectId('68d9618ef39f27886354eb29'), ObjectId('68d9618ef39f27886354eb2a'), ObjectId('68d9618ef39f27886354eb2b'), ObjectId('68d9618ef39f27886354eb2c'), ObjectId('68d9618ef39f27886354eb2d'), ObjectId('68d9618ef39f27886354eb2e'), ObjectId('68d9618ef39f27886354eb2f'), ObjectId('68d9618ef39f27886354eb30'), ObjectId('68d9618ef39f27886354eb31'), ObjectId('68d9618ef39f27886354eb32'), ObjectId('68d9618ef39f27886354eb33'), ObjectId('68d9618ef39f27886354eb34'), ObjectId('68d9618ef39f27886354eb35'), ObjectId('68d9618ef39f27886354eb36'), ObjectId('68d9618ef39f27886354eb37'), ObjectId('68d9618ef39f27886354eb38'), ObjectId('68d9618ef39f27886354eb39'), ObjectId('68d9618ef39f27886354eb3a'), ObjectId('68d9618ef39f27886354eb3b'), ObjectId('68d9618ef39f27886354eb3c'), ObjectId('68d9618ef39f27886354eb3d'), ObjectId('68d9618ef39f27886354eb3e'), ObjectId('68d9618ef39f27886354eb3f'), ObjectId('68d9618ef39f27886354eb40'), ObjectId('68d9618ef39f27886354eb41'), ObjectId('68d9618ef39f27886354eb42'), ObjectId('68d9618ef39f27886354eb43'), ObjectId('68d9618ef39f27886354eb44'), ObjectId('68d9618ef39f27886354eb45'), ObjectId('68d9618ef39f27886354eb46'), ObjectId('68d9618ef39f27886354eb47'), ObjectId('68d9618ef39f27886354eb48'), ObjectId('68d9618ef39f27886354eb49'), ObjectId('68d9618ef39f27886354eb4a'), ObjectId('68d9618ef39f27886354eb4b'), ObjectId('68d9618ef39f27886354eb4c'), ObjectId('68d9618ef39f27886354eb4d'), ObjectId('68d9618ef39f27886354eb4e'), ObjectId('68d9618ef39f27886354eb4f'), ObjectId('68d9618ef39f27886354eb50'), ObjectId('68d9618ef39f27886354eb51'), ObjectId('68d9618ef39f27886354eb52'), ObjectId('68d9618ef39f27886354eb53'), ObjectId('68d9618ef39f27886354eb54'), ObjectId('68d9618ef39f27886354eb55')], acknowledged=True)"
            ]
          },
          "execution_count": 10,
          "metadata": {},
          "output_type": "execute_result"
        }
      ],
      "source": [
        "# Delete existing records\n",
        "drug_reviews_collection.delete_many({});\n",
        "\n",
        "# Insert new records\n",
        "drug_reviews_dataset = drug_reviews_dataset.to_dict(\"records\")\n",
        "\n",
        "#<CODE_BLOCK_1>\n",
        "drug_reviews_collection.insert_many(drug_reviews_dataset)"
      ]
    },
    {
      "cell_type": "markdown",
      "metadata": {},
      "source": [
        "# Step 3: Implement search on drug reviews"
      ]
    },
    {
      "cell_type": "markdown",
      "metadata": {},
      "source": [
        "### Create a search index\n",
        "\n",
        "📚 https://www.mongodb.com/docs/atlas/atlas-search/define-field-mappings/\n"
      ]
    },
    {
      "cell_type": "code",
      "execution_count": 11,
      "metadata": {},
      "outputs": [],
      "source": [
        "# Define the text search index definition for the drugs_review dataset.\n",
        "# This configuration specifies that only the \"drugName\" and \"condition\" fields will be indexed,\n",
        "# and automatic field detection is disabled.\n",
        "DRUG_REVIEW_SEARCH_INDEX_NAME='drug_review_search_index'\n",
        "\n",
        "drug_review_text_search_model = {\n",
        "    \"name\": DRUG_REVIEW_SEARCH_INDEX_NAME,\n",
        "    \"type\": \"search\",\n",
        "    \"definition\": {\n",
        "        \"analyzer\": \"lucene.english\",\n",
        "        \"mappings\": {\n",
        "            \"dynamic\": False,  # Disable automatic detection; only explicitly defined fields are indexed.\n",
        "            #<CODE_BLOCK_2>\n",
        "            \"fields\": {\n",
        "                \"drugName\": {\n",
        "                    \"type\": \"string\"\n",
        "                },  # Index the \"drugName\" field as searchable text.\n",
        "                \"condition\": {\n",
        "                    \"type\": \"string\"\n",
        "                },  # Index the \"condition\" field as searchable text.\n",
        "            }\n",
        "        }\n",
        "    }\n",
        "}"
      ]
    },
    {
      "cell_type": "code",
      "execution_count": 12,
      "metadata": {},
      "outputs": [
        {
          "data": {
            "text/plain": [
              "'drug_review_search_index'"
            ]
          },
          "execution_count": 12,
          "metadata": {},
          "output_type": "execute_result"
        }
      ],
      "source": [
        "# create search index\n",
        "# <CODE_BLOCK_3>\n",
        "drug_reviews_collection.create_search_index(drug_review_text_search_model)"
      ]
    },
    {
      "cell_type": "markdown",
      "metadata": {},
      "source": [
        "### Perform text search\n",
        "\n",
        "📚 https://www.mongodb.com/docs/atlas/atlas-search/aggregation-stages/search/\n"
      ]
    },
    {
      "cell_type": "code",
      "execution_count": 13,
      "metadata": {},
      "outputs": [],
      "source": [
        "# Definition to perform text search\n",
        "def drug_review_text_search(query_text):\n",
        "    \"\"\"\n",
        "    Perform a text search in the MongoDB collection based on the user query.\n",
        "\n",
        "    Args:\n",
        "        query_text (str): The user's query string.\n",
        "\n",
        "    Returns:\n",
        "        list: A list of matching documents.\n",
        "    \"\"\"\n",
        "\n",
        "    # Define the text search stage using MongoDB's $search operator.\n",
        "    # This is part of Atlas Search and provides more powerful text search capabilities\n",
        "    # than MongoDB's standard text index.\n",
        "    # Perform a text search on the paths \"drugName\" and condition.\n",
        "    # Cater for typo tolerance with 2 maxEdits.\n",
        "    text_search_stage = {\n",
        "        \"$search\": {\n",
        "            \"index\": DRUG_REVIEW_SEARCH_INDEX_NAME,\n",
        "            #<CODE_BLOCK_4>\n",
        "            \"text\": {\n",
        "                \"query\": query_text,  # The actual search term provided by the user.\n",
        "                \"path\": [\"drugName\",\"condition\"], \n",
        "                \"fuzzy\": {\n",
        "                    \"maxEdits\": 2\n",
        "                }\n",
        "            },\n",
        "        }\n",
        "    }\n",
        "\n",
        "    # Limit the number of results returned to improve performance.\n",
        "    # This is especially important for large collections.\n",
        "    limit_stage = {\"$limit\": 5}\n",
        "\n",
        "    # Define which fields to include in the returned documents.\n",
        "    # Excluding unnecessary fields reduces bandwidth and processing overhead.\n",
        "    project_stage = {\n",
        "        \"$project\": {\n",
        "            \"_id\": 0,  # Exclude MongoDB's internal ID field.\n",
        "            \"embedding\": 0,  # Exclude the embedding field.\n",
        "        }\n",
        "    }\n",
        "\n",
        "    # Combine all stages into a MongoDB aggregation pipeline.\n",
        "    # The pipeline will execute stages in sequence: search, limit, then project.\n",
        "    pipeline = [text_search_stage, limit_stage, project_stage]\n",
        "\n",
        "    # Execute the search by running the aggregation pipeline against the specified collection.\n",
        "    # Convert the cursor to a list to ensure results are fully fetched before the function returns.\n",
        "    #results = <CODE_BLOCK_5>\n",
        "    results = drug_reviews_collection.aggregate(pipeline)\n",
        "\n",
        "    return list(results)"
      ]
    },
    {
      "cell_type": "code",
      "execution_count": 14,
      "metadata": {},
      "outputs": [
        {
          "data": {
            "text/html": [
              "<div>\n",
              "<style scoped>\n",
              "    .dataframe tbody tr th:only-of-type {\n",
              "        vertical-align: middle;\n",
              "    }\n",
              "\n",
              "    .dataframe tbody tr th {\n",
              "        vertical-align: top;\n",
              "    }\n",
              "\n",
              "    .dataframe thead th {\n",
              "        text-align: right;\n",
              "    }\n",
              "</style>\n",
              "<table border=\"1\" class=\"dataframe\">\n",
              "  <thead>\n",
              "    <tr style=\"text-align: right;\">\n",
              "      <th></th>\n",
              "      <th>drugName</th>\n",
              "      <th>condition</th>\n",
              "      <th>review</th>\n",
              "      <th>rating</th>\n",
              "    </tr>\n",
              "  </thead>\n",
              "  <tbody>\n",
              "    <tr>\n",
              "      <th>0</th>\n",
              "      <td>dextromethorphan</td>\n",
              "      <td>cough</td>\n",
              "      <td>\"I got some relief from constant dry cough but I wouldn't say it's brilliant although I am asthmatic too.  This cough however  was not my normal n...</td>\n",
              "      <td>5</td>\n",
              "    </tr>\n",
              "    <tr>\n",
              "      <th>1</th>\n",
              "      <td>tessalon perles</td>\n",
              "      <td>cough</td>\n",
              "      <td>\"Have been prescribed tessalon perles several times for bronchitis and they've never once worked for me. I might as well eat a sugar cube. Sadly c...</td>\n",
              "      <td>1</td>\n",
              "    </tr>\n",
              "    <tr>\n",
              "      <th>2</th>\n",
              "      <td>delsym</td>\n",
              "      <td>cough</td>\n",
              "      <td>\"I took this late at night expecting it to work and I should have read the reviews first it didn't stop my cough at all and I think made it worse ...</td>\n",
              "      <td>1</td>\n",
              "    </tr>\n",
              "    <tr>\n",
              "      <th>3</th>\n",
              "      <td>benzonatate</td>\n",
              "      <td>cough</td>\n",
              "      <td>\"My doctor said the pearls did not work for her but other people said they work great. I tried them and in 20 min my cough was gone!! I see they d...</td>\n",
              "      <td>10</td>\n",
              "    </tr>\n",
              "    <tr>\n",
              "      <th>4</th>\n",
              "      <td>dextromethorphan</td>\n",
              "      <td>cough</td>\n",
              "      <td>\"Did absolutely nothing to alleviate my cough. And now I am feeling slightly nauseated. I actually think my cough was better before taking it, as ...</td>\n",
              "      <td>1</td>\n",
              "    </tr>\n",
              "  </tbody>\n",
              "</table>\n",
              "</div>"
            ],
            "text/plain": [
              "           drugName condition  \\\n",
              "0  dextromethorphan     cough   \n",
              "1   tessalon perles     cough   \n",
              "2            delsym     cough   \n",
              "3       benzonatate     cough   \n",
              "4  dextromethorphan     cough   \n",
              "\n",
              "                                                                                                                                                  review  \\\n",
              "0  \"I got some relief from constant dry cough but I wouldn't say it's brilliant although I am asthmatic too.  This cough however  was not my normal n...   \n",
              "1  \"Have been prescribed tessalon perles several times for bronchitis and they've never once worked for me. I might as well eat a sugar cube. Sadly c...   \n",
              "2  \"I took this late at night expecting it to work and I should have read the reviews first it didn't stop my cough at all and I think made it worse ...   \n",
              "3  \"My doctor said the pearls did not work for her but other people said they work great. I tried them and in 20 min my cough was gone!! I see they d...   \n",
              "4  \"Did absolutely nothing to alleviate my cough. And now I am feeling slightly nauseated. I actually think my cough was better before taking it, as ...   \n",
              "\n",
              "   rating  \n",
              "0       5  \n",
              "1       1  \n",
              "2       1  \n",
              "3      10  \n",
              "4       1  "
            ]
          },
          "execution_count": 14,
          "metadata": {},
          "output_type": "execute_result"
        }
      ],
      "source": [
        "temp_results = drug_review_text_search(\"I am coughing\")\n",
        "pd.DataFrame(temp_results).head()"
      ]
    },
    {
      "cell_type": "code",
      "execution_count": 15,
      "metadata": {},
      "outputs": [
        {
          "data": {
            "text/html": [
              "<div>\n",
              "<style scoped>\n",
              "    .dataframe tbody tr th:only-of-type {\n",
              "        vertical-align: middle;\n",
              "    }\n",
              "\n",
              "    .dataframe tbody tr th {\n",
              "        vertical-align: top;\n",
              "    }\n",
              "\n",
              "    .dataframe thead th {\n",
              "        text-align: right;\n",
              "    }\n",
              "</style>\n",
              "<table border=\"1\" class=\"dataframe\">\n",
              "  <thead>\n",
              "    <tr style=\"text-align: right;\">\n",
              "      <th></th>\n",
              "      <th>drugName</th>\n",
              "      <th>condition</th>\n",
              "      <th>review</th>\n",
              "      <th>rating</th>\n",
              "    </tr>\n",
              "  </thead>\n",
              "  <tbody>\n",
              "    <tr>\n",
              "      <th>0</th>\n",
              "      <td>dextromethorphan</td>\n",
              "      <td>cough</td>\n",
              "      <td>\"I got some relief from constant dry cough but I wouldn't say it's brilliant although I am asthmatic too.  This cough however  was not my normal n...</td>\n",
              "      <td>5</td>\n",
              "    </tr>\n",
              "    <tr>\n",
              "      <th>1</th>\n",
              "      <td>dextromethorphan</td>\n",
              "      <td>cough</td>\n",
              "      <td>\"Did absolutely nothing to alleviate my cough. And now I am feeling slightly nauseated. I actually think my cough was better before taking it, as ...</td>\n",
              "      <td>1</td>\n",
              "    </tr>\n",
              "    <tr>\n",
              "      <th>2</th>\n",
              "      <td>atripla</td>\n",
              "      <td>hiv infection</td>\n",
              "      <td>\"Every night at bedtime I take my medication. sometimes its hard to get up and walk to the counter and get a glass of water to take a pill that is...</td>\n",
              "      <td>10</td>\n",
              "    </tr>\n",
              "    <tr>\n",
              "      <th>3</th>\n",
              "      <td>atripla</td>\n",
              "      <td>hiv infection</td>\n",
              "      <td>\"Diagnosed in July 2016. I suspected it was HIV when I broke out in several(roughly 12) canker sores in Mouth. I googled this and HIV was listed a...</td>\n",
              "      <td>10</td>\n",
              "    </tr>\n",
              "    <tr>\n",
              "      <th>4</th>\n",
              "      <td>stribild</td>\n",
              "      <td>hiv infection</td>\n",
              "      <td>\"I have been on Stribild since April 2013 and started with a 57,500 viral load and 328 cd4.  Within a month my viral load was down to 25!  As of O...</td>\n",
              "      <td>10</td>\n",
              "    </tr>\n",
              "  </tbody>\n",
              "</table>\n",
              "</div>"
            ],
            "text/plain": [
              "           drugName      condition  \\\n",
              "0  dextromethorphan          cough   \n",
              "1  dextromethorphan          cough   \n",
              "2           atripla  hiv infection   \n",
              "3           atripla  hiv infection   \n",
              "4          stribild  hiv infection   \n",
              "\n",
              "                                                                                                                                                  review  \\\n",
              "0  \"I got some relief from constant dry cough but I wouldn't say it's brilliant although I am asthmatic too.  This cough however  was not my normal n...   \n",
              "1  \"Did absolutely nothing to alleviate my cough. And now I am feeling slightly nauseated. I actually think my cough was better before taking it, as ...   \n",
              "2  \"Every night at bedtime I take my medication. sometimes its hard to get up and walk to the counter and get a glass of water to take a pill that is...   \n",
              "3  \"Diagnosed in July 2016. I suspected it was HIV when I broke out in several(roughly 12) canker sores in Mouth. I googled this and HIV was listed a...   \n",
              "4  \"I have been on Stribild since April 2013 and started with a 57,500 viral load and 328 cd4.  Within a month my viral load was down to 25!  As of O...   \n",
              "\n",
              "   rating  \n",
              "0       5  \n",
              "1       1  \n",
              "2      10  \n",
              "3      10  \n",
              "4      10  "
            ]
          },
          "execution_count": 15,
          "metadata": {},
          "output_type": "execute_result"
        }
      ],
      "source": [
        "# test our text search by mispelling dextromethorphan\n",
        "temp_results = drug_review_text_search(\"How is dextormethorphan\")\n",
        "\n",
        "# notice the false positives\n",
        "pd.DataFrame(temp_results).head()"
      ]
    },
    {
      "cell_type": "markdown",
      "metadata": {},
      "source": [
        "# Step 4: Generate embeddings on drug reviews"
      ]
    },
    {
      "cell_type": "code",
      "execution_count": 16,
      "metadata": {},
      "outputs": [],
      "source": [
        "# You may see a warning upon running this cell. You can ignore it.\n",
        "from sentence_transformers import SentenceTransformer\n",
        "from tqdm import tqdm"
      ]
    },
    {
      "cell_type": "code",
      "execution_count": 17,
      "metadata": {},
      "outputs": [],
      "source": [
        "# Load the `gte-small` model using the Sentence Transformers library\n",
        "embedding_model = SentenceTransformer(\"thenlper/gte-small\")"
      ]
    },
    {
      "cell_type": "markdown",
      "metadata": {},
      "source": [
        "📚 https://huggingface.co/thenlper/gte-small#usage (See \"Use with sentence-transformers\" under Usage)"
      ]
    },
    {
      "cell_type": "code",
      "execution_count": 18,
      "metadata": {},
      "outputs": [],
      "source": [
        "# Define a function that takes a piece of text (`text`) as input, embeds it using the `embedding_model` instantiated above and returns the embedding as a list\n",
        "# An array can be converted to a list using the `tolist()` method\n",
        "def get_embedding(text: str) -> List[float]:\n",
        "    \"\"\"\n",
        "    Generate the embedding for a piece of text.\n",
        "\n",
        "    Args:\n",
        "        text (str): Text to embed.\n",
        "\n",
        "    Returns:\n",
        "        List[float]: Embedding of the text as a list.\n",
        "    \"\"\"\n",
        "    #embedding = <CODE_BLOCK_6>\n",
        "    embedding = embedding_model.encode(text)\n",
        "    return embedding.tolist()"
      ]
    },
    {
      "cell_type": "code",
      "execution_count": 19,
      "metadata": {},
      "outputs": [
        {
          "name": "stderr",
          "output_type": "stream",
          "text": [
            "  0%|          | 0/1000 [00:00<?, ?it/s]/Users/wenjie.teo/Documents/repositories/genai-devday-notebooks/.venv/lib/python3.13/site-packages/torch/nn/modules/module.py:1762: FutureWarning: `encoder_attention_mask` is deprecated and will be removed in version 4.55.0 for `BertSdpaSelfAttention.forward`.\n",
            "  return forward_call(*args, **kwargs)\n",
            "100%|██████████| 1000/1000 [00:31<00:00, 31.34it/s]\n"
          ]
        }
      ],
      "source": [
        "embedded_docs = []\n",
        "# Add an `embedding` field to each dictionary in `drug_reviews_dataset`\n",
        "# The `embedding` field should correspond to the embedding of the value of the `review` field\n",
        "# Use the `get_embedding` function defined above to generate the embedding\n",
        "# Append the updated dictionaries to `embedded_docs` initialized above.\n",
        "for doc in tqdm(drug_reviews_dataset):\n",
        "\n",
        "    # format doc to proper sentence\n",
        "    record = (\n",
        "        f\"Drug Name: {doc['drugName']}. \"\n",
        "        f\"Condition: {doc['condition']}. \"\n",
        "        f\"Review: {doc['review']}.\"\n",
        "    )\n",
        "    # <CODE_BLOCK_7>\n",
        "    doc['embedding'] = get_embedding(record)\n",
        "    embedded_docs.append(doc)"
      ]
    },
    {
      "cell_type": "code",
      "execution_count": 20,
      "metadata": {},
      "outputs": [
        {
          "data": {
            "text/plain": [
              "1000"
            ]
          },
          "execution_count": 20,
          "metadata": {},
          "output_type": "execute_result"
        }
      ],
      "source": [
        "# Check that the length of `embedded_docs` should be same as the dataset\n",
        "len(embedded_docs)"
      ]
    },
    {
      "cell_type": "markdown",
      "metadata": {},
      "source": [
        "# Step 5: Re-ingest data into MongoDB\n"
      ]
    },
    {
      "cell_type": "code",
      "execution_count": 21,
      "metadata": {},
      "outputs": [
        {
          "data": {
            "text/plain": [
              "DeleteResult({'n': 1000, 'electionId': ObjectId('7fffffff0000000000000003'), 'opTime': {'ts': Timestamp(1759076911, 100), 't': 3}, 'ok': 1.0, '$clusterTime': {'clusterTime': Timestamp(1759076911, 100), 'signature': {'hash': b'\\x00\\x00\\x00\\x00\\x00\\x00\\x00\\x00\\x00\\x00\\x00\\x00\\x00\\x00\\x00\\x00\\x00\\x00\\x00\\x00', 'keyId': 0}}, 'operationTime': Timestamp(1759076911, 100)}, acknowledged=True)"
            ]
          },
          "execution_count": 21,
          "metadata": {},
          "output_type": "execute_result"
        }
      ],
      "source": [
        "drug_reviews_collection.delete_many({})"
      ]
    },
    {
      "cell_type": "code",
      "execution_count": 22,
      "metadata": {},
      "outputs": [
        {
          "name": "stdout",
          "output_type": "stream",
          "text": [
            "Ingested 1000 documents into the drug_reviews collection.\n"
          ]
        }
      ],
      "source": [
        "# Bulk insert `embedded_docs` into the `collection` defined above -- should be a one-liner\n",
        "drug_reviews_collection.insert_many(embedded_docs)\n",
        "print(f\"Ingested {drug_reviews_collection.count_documents({})} documents into the {DRUG_REVIEW_COLLECTION_NAME} collection.\")"
      ]
    },
    {
      "cell_type": "markdown",
      "metadata": {},
      "source": [
        "# Step 6: Implement vector search capability"
      ]
    },
    {
      "cell_type": "markdown",
      "metadata": {},
      "source": [
        "### Create a vector search index\n",
        "\n",
        "📚 https://www.mongodb.com/docs/atlas/atlas-vector-search/vector-search-type/\n"
      ]
    },
    {
      "cell_type": "code",
      "execution_count": 23,
      "metadata": {},
      "outputs": [],
      "source": [
        "# Create vector index definition specifying:\n",
        "# path: Path to the embeddings field\n",
        "# numDimensions: Number of embedding dimensions- depends on the embedding model used\n",
        "# similarity: Similarity metric. One of cosine, euclidean, dotProduct.\n",
        "DRUG_REVIEW_VECTOR_SEARCH_INDEX_NAME='drug_review_vector_search_index'\n",
        "\n",
        "drug_review_vector_search_model = {\n",
        "    \"name\": DRUG_REVIEW_VECTOR_SEARCH_INDEX_NAME,\n",
        "    \"type\": \"vectorSearch\",\n",
        "    \"definition\": {\n",
        "        \"fields\": [\n",
        "            # Define a vector field on the path \"embedding\"\n",
        "            # It has 384 dimensions and uses the cosine similarity\n",
        "            # <CODE_BLOCK_8>\n",
        "            {\n",
        "                \"type\": \"vector\",\n",
        "                \"path\": \"embedding\",\n",
        "                \"numDimensions\": 384,\n",
        "                \"similarity\": \"cosine\",\n",
        "            }\n",
        "        ]\n",
        "    },\n",
        "}"
      ]
    },
    {
      "cell_type": "code",
      "execution_count": 24,
      "metadata": {},
      "outputs": [
        {
          "data": {
            "text/plain": [
              "'drug_review_vector_search_index'"
            ]
          },
          "execution_count": 24,
          "metadata": {},
          "output_type": "execute_result"
        }
      ],
      "source": [
        "# create vector search index\n",
        "# <CODE_BLOCK_9>\n",
        "drug_reviews_collection.create_search_index(drug_review_vector_search_model)"
      ]
    },
    {
      "cell_type": "code",
      "execution_count": 25,
      "metadata": {},
      "outputs": [
        {
          "name": "stdout",
          "output_type": "stream",
          "text": [
            "drug_review_vector_search_index index status: READY\n",
            "drug_review_vector_search_index index definition: {'fields': [{'type': 'vector', 'path': 'embedding', 'numDimensions': 384, 'similarity': 'cosine'}]}\n"
          ]
        }
      ],
      "source": [
        "# Use the `check_index_ready` function from the `utils` module to verify that the index was created and is in READY status before proceeding\n",
        "from utils import check_index_ready\n",
        "check_index_ready(drug_reviews_collection, DRUG_REVIEW_VECTOR_SEARCH_INDEX_NAME)"
      ]
    },
    {
      "cell_type": "markdown",
      "metadata": {},
      "source": [
        "### Define a vector search function\n",
        "\n",
        "📚 https://www.mongodb.com/docs/atlas/atlas-vector-search/vector-search-stage/#ann-examples (Refer to the \"Basic Example\")\n"
      ]
    },
    {
      "cell_type": "code",
      "execution_count": 27,
      "metadata": {},
      "outputs": [],
      "source": [
        "# Define a function to retrieve relevant documents for a user query using vector search\n",
        "def drug_review_vector_search(user_query: str) -> List[Dict]:\n",
        "    \"\"\"\n",
        "    Retrieve relevant documents for a user query using vector search.\n",
        "\n",
        "    Args:\n",
        "    user_query (str): The user's query string.\n",
        "\n",
        "    Returns:\n",
        "    list: A list of matching documents.\n",
        "    \"\"\"\n",
        "\n",
        "    # Generate embedding for the `user_query` using the `get_embedding` function defined in Step 4\n",
        "    query_embedding = get_embedding(user_query)\n",
        "\n",
        "    # Define an aggregation pipeline consisting of a $vectorSearch stage, followed by a $project stage\n",
        "    # Set the number of candidates to 50 and only return the top 5 documents from the vector search\n",
        "    # NOTE: Use variables defined previously for the `index`, `queryVector` and `path` fields in the $vectorSearch stage\n",
        "    pipeline = [\n",
        "    {\n",
        "        #vector search stage\n",
        "        #<CODE_BLOCK_10>\n",
        "        \"$vectorSearch\": {\n",
        "            \"index\": DRUG_REVIEW_VECTOR_SEARCH_INDEX_NAME,\n",
        "            \"queryVector\": query_embedding,\n",
        "            \"path\": \"embedding\",\n",
        "            \"numCandidates\": 50,\n",
        "            \"limit\": 5\n",
        "        }\n",
        "    },\n",
        "    {\n",
        "        \"$project\": {\n",
        "            \"_id\": 0,\n",
        "            \"embedding\": 0,\n",
        "            \"score\": {\"$meta\": \"vectorSearchScore\"}\n",
        "        }\n",
        "    }\n",
        "]\n",
        "\n",
        "    # Execute the aggregation `pipeline` and store the results in `results`\n",
        "    results = drug_reviews_collection.aggregate(pipeline)\n",
        "    return list(results)"
      ]
    },
    {
      "cell_type": "markdown",
      "metadata": {},
      "source": [
        "### Run vector search queries\n"
      ]
    },
    {
      "cell_type": "code",
      "execution_count": 28,
      "metadata": {},
      "outputs": [
        {
          "data": {
            "text/html": [
              "<div>\n",
              "<style scoped>\n",
              "    .dataframe tbody tr th:only-of-type {\n",
              "        vertical-align: middle;\n",
              "    }\n",
              "\n",
              "    .dataframe tbody tr th {\n",
              "        vertical-align: top;\n",
              "    }\n",
              "\n",
              "    .dataframe thead th {\n",
              "        text-align: right;\n",
              "    }\n",
              "</style>\n",
              "<table border=\"1\" class=\"dataframe\">\n",
              "  <thead>\n",
              "    <tr style=\"text-align: right;\">\n",
              "      <th></th>\n",
              "      <th>drugName</th>\n",
              "      <th>condition</th>\n",
              "      <th>review</th>\n",
              "      <th>rating</th>\n",
              "      <th>score</th>\n",
              "    </tr>\n",
              "  </thead>\n",
              "  <tbody>\n",
              "    <tr>\n",
              "      <th>0</th>\n",
              "      <td>dextromethorphan</td>\n",
              "      <td>cough</td>\n",
              "      <td>\"I got some relief from constant dry cough but I wouldn't say it's brilliant although I am asthmatic too.  This cough however  was not my normal n...</td>\n",
              "      <td>5</td>\n",
              "      <td>0.948889</td>\n",
              "    </tr>\n",
              "    <tr>\n",
              "      <th>1</th>\n",
              "      <td>dextromethorphan</td>\n",
              "      <td>cough</td>\n",
              "      <td>\"Did absolutely nothing to alleviate my cough. And now I am feeling slightly nauseated. I actually think my cough was better before taking it, as ...</td>\n",
              "      <td>1</td>\n",
              "      <td>0.939754</td>\n",
              "    </tr>\n",
              "    <tr>\n",
              "      <th>2</th>\n",
              "      <td>dextroamphetamine</td>\n",
              "      <td>narcolepsy</td>\n",
              "      <td>\"I am at the maximum amount per day 60mg. It has helped to a certain extent. I do not need a nap to make it through a normal work day. I still hav...</td>\n",
              "      <td>5</td>\n",
              "      <td>0.925711</td>\n",
              "    </tr>\n",
              "    <tr>\n",
              "      <th>3</th>\n",
              "      <td>dexilant</td>\n",
              "      <td>erosive esophagitis</td>\n",
              "      <td>\"I've been taking Dexilant 60 mg. for 10 days now.  It was given to me because I felt like something was stuck in my throat.....esophagitis.  Well...</td>\n",
              "      <td>10</td>\n",
              "      <td>0.924939</td>\n",
              "    </tr>\n",
              "    <tr>\n",
              "      <th>4</th>\n",
              "      <td>xiidra</td>\n",
              "      <td>dry eye disease</td>\n",
              "      <td>\"I have been using Xiidra for about a month for chronic dry eye disease and chronic keratocojunctivitis. I also use a steroid twice a day. The bur...</td>\n",
              "      <td>9</td>\n",
              "      <td>0.922210</td>\n",
              "    </tr>\n",
              "  </tbody>\n",
              "</table>\n",
              "</div>"
            ],
            "text/plain": [
              "            drugName            condition  \\\n",
              "0   dextromethorphan                cough   \n",
              "1   dextromethorphan                cough   \n",
              "2  dextroamphetamine           narcolepsy   \n",
              "3           dexilant  erosive esophagitis   \n",
              "4             xiidra      dry eye disease   \n",
              "\n",
              "                                                                                                                                                  review  \\\n",
              "0  \"I got some relief from constant dry cough but I wouldn't say it's brilliant although I am asthmatic too.  This cough however  was not my normal n...   \n",
              "1  \"Did absolutely nothing to alleviate my cough. And now I am feeling slightly nauseated. I actually think my cough was better before taking it, as ...   \n",
              "2  \"I am at the maximum amount per day 60mg. It has helped to a certain extent. I do not need a nap to make it through a normal work day. I still hav...   \n",
              "3  \"I've been taking Dexilant 60 mg. for 10 days now.  It was given to me because I felt like something was stuck in my throat.....esophagitis.  Well...   \n",
              "4  \"I have been using Xiidra for about a month for chronic dry eye disease and chronic keratocojunctivitis. I also use a steroid twice a day. The bur...   \n",
              "\n",
              "   rating     score  \n",
              "0       5  0.948889  \n",
              "1       1  0.939754  \n",
              "2       5  0.925711  \n",
              "3      10  0.924939  \n",
              "4       9  0.922210  "
            ]
          },
          "execution_count": 28,
          "metadata": {},
          "output_type": "execute_result"
        }
      ],
      "source": [
        "temp_results = drug_review_vector_search(\"How is dextromethorphan\")\n",
        "\n",
        "pd.DataFrame(temp_results).head()"
      ]
    },
    {
      "cell_type": "markdown",
      "metadata": {},
      "source": [
        "# Step 7: Implementing hybrid search"
      ]
    },
    {
      "cell_type": "code",
      "execution_count": 41,
      "metadata": {},
      "outputs": [],
      "source": [
        "def hybrid_search(\n",
        "    text_search_query,\n",
        "    vector_search_query,\n",
        "    vector_weight=0.5,\n",
        "    full_text_weight=0.5,\n",
        "    top_k=10,\n",
        "    text_search_paths=[\"drugName\",\"condition\"],\n",
        "):\n",
        "    \"\"\"\n",
        "    Conduct a hybrid search on a MongoDB Atlas collection that combines a vector search\n",
        "    and a full-text search using Atlas Search.\n",
        "\n",
        "    Args:\n",
        "        user_query (str): The user's query string.\n",
        "        collection (MongoCollection): The MongoDB collection to search.\n",
        "        vector_search_index_name (str): The name of the vector search index.\n",
        "        text_search_index_name (str): The name of the text search index.\n",
        "        vector_weight (float): The weight of the vector search.\n",
        "        full_text_weight (float): The weight of the full-text search.\n",
        "        top_k (int): Number of results to return.\n",
        "\n",
        "    Returns:\n",
        "        list: A list of documents (dict) with combined scores.\n",
        "    \"\"\"\n",
        "\n",
        "    # Get the pre-computed embedding vector for the user's query\n",
        "    query_vector = get_embedding(vector_search_query)\n",
        "\n",
        "    # Create a MongoDB aggregation pipeline to perform hybrid search\n",
        "    vsPipeline = [{\n",
        "                    \"$vectorSearch\": {\n",
        "                        \"index\": DRUG_REVIEW_VECTOR_SEARCH_INDEX_NAME,  # Name of the vector search index\n",
        "                        \"path\": \"embedding\",  # Field containing document embeddings\n",
        "                        \"queryVector\": query_vector,  # The query vector to compare against\n",
        "                        \"numCandidates\": top_k*10,  # Number of candidates to consider for similarity\n",
        "                        \"limit\": top_k,  # Initial limit of results\n",
        "                    }\n",
        "                }]\n",
        "    \n",
        "    ftsPipeline = [{\n",
        "                    \"$search\": {\n",
        "                        \"index\": DRUG_REVIEW_SEARCH_INDEX_NAME,  # Name of the text search index\n",
        "                        \"text\": {\n",
        "                            \"query\": text_search_query,  # Raw text query from user\n",
        "                            \"path\": text_search_paths,  # Field to search in\n",
        "                            \"fuzzy\": {\n",
        "                                \"maxEdits\": 2\n",
        "                            }\n",
        "                        }\n",
        "                    }\n",
        "                },{\n",
        "                    \"$limit\": top_k\n",
        "                }]\n",
        "\n",
        "    rankFusion = {\n",
        "        \"$rankFusion\": {\n",
        "            \"input\": {\n",
        "                \"pipelines\": {\n",
        "                    \"vs\": vsPipeline,\n",
        "                    \"fts\": ftsPipeline\n",
        "                }\n",
        "            },\n",
        "            \"combination\": {\n",
        "                \"weights\": {\n",
        "                    \"vs\": 0.5,\n",
        "                    \"fts\": 0.5\n",
        "                },     \n",
        "            },\n",
        "            \"scoreDetails\": True\n",
        "        }\n",
        "    }\n",
        "\n",
        "    pipeline = [\n",
        "        rankFusion,\n",
        "        { \"$limit\": top_k },\n",
        "        {\n",
        "            \"$project\": {\n",
        "                \"_id\": 0,\n",
        "                \"scoreDetails\": {\"$meta\": \"scoreDetails\"}\n",
        "            }\n",
        "        }\n",
        "    ]\n",
        "\n",
        "    # Execute the aggregation pipeline and convert results to a list\n",
        "    results = list(drug_reviews_collection.aggregate(pipeline))\n",
        "    return results"
      ]
    },
    {
      "cell_type": "code",
      "execution_count": 42,
      "metadata": {},
      "outputs": [
        {
          "name": "stderr",
          "output_type": "stream",
          "text": [
            "/Users/wenjie.teo/Documents/repositories/genai-devday-notebooks/.venv/lib/python3.13/site-packages/torch/nn/modules/module.py:1762: FutureWarning: `encoder_attention_mask` is deprecated and will be removed in version 4.55.0 for `BertSdpaSelfAttention.forward`.\n",
            "  return forward_call(*args, **kwargs)\n"
          ]
        },
        {
          "data": {
            "text/html": [
              "<div>\n",
              "<style scoped>\n",
              "    .dataframe tbody tr th:only-of-type {\n",
              "        vertical-align: middle;\n",
              "    }\n",
              "\n",
              "    .dataframe tbody tr th {\n",
              "        vertical-align: top;\n",
              "    }\n",
              "\n",
              "    .dataframe thead th {\n",
              "        text-align: right;\n",
              "    }\n",
              "</style>\n",
              "<table border=\"1\" class=\"dataframe\">\n",
              "  <thead>\n",
              "    <tr style=\"text-align: right;\">\n",
              "      <th></th>\n",
              "      <th>scoreDetails</th>\n",
              "    </tr>\n",
              "  </thead>\n",
              "  <tbody>\n",
              "    <tr>\n",
              "      <th>0</th>\n",
              "      <td>{'value': 0.01639344262295082, 'description': 'value output by reciprocal rank fusion algorithm, computed as sum of (weight * (1 / (60 + rank))) a...</td>\n",
              "    </tr>\n",
              "    <tr>\n",
              "      <th>1</th>\n",
              "      <td>{'value': 0.01626123744050767, 'description': 'value output by reciprocal rank fusion algorithm, computed as sum of (weight * (1 / (60 + rank))) a...</td>\n",
              "    </tr>\n",
              "    <tr>\n",
              "      <th>2</th>\n",
              "      <td>{'value': 0.007936507936507936, 'description': 'value output by reciprocal rank fusion algorithm, computed as sum of (weight * (1 / (60 + rank))) ...</td>\n",
              "    </tr>\n",
              "    <tr>\n",
              "      <th>3</th>\n",
              "      <td>{'value': 0.007936507936507936, 'description': 'value output by reciprocal rank fusion algorithm, computed as sum of (weight * (1 / (60 + rank))) ...</td>\n",
              "    </tr>\n",
              "    <tr>\n",
              "      <th>4</th>\n",
              "      <td>{'value': 0.007936507936507936, 'description': 'value output by reciprocal rank fusion algorithm, computed as sum of (weight * (1 / (60 + rank))) ...</td>\n",
              "    </tr>\n",
              "  </tbody>\n",
              "</table>\n",
              "</div>"
            ],
            "text/plain": [
              "                                                                                                                                            scoreDetails\n",
              "0  {'value': 0.01639344262295082, 'description': 'value output by reciprocal rank fusion algorithm, computed as sum of (weight * (1 / (60 + rank))) a...\n",
              "1  {'value': 0.01626123744050767, 'description': 'value output by reciprocal rank fusion algorithm, computed as sum of (weight * (1 / (60 + rank))) a...\n",
              "2  {'value': 0.007936507936507936, 'description': 'value output by reciprocal rank fusion algorithm, computed as sum of (weight * (1 / (60 + rank))) ...\n",
              "3  {'value': 0.007936507936507936, 'description': 'value output by reciprocal rank fusion algorithm, computed as sum of (weight * (1 / (60 + rank))) ...\n",
              "4  {'value': 0.007936507936507936, 'description': 'value output by reciprocal rank fusion algorithm, computed as sum of (weight * (1 / (60 + rank))) ..."
            ]
          },
          "execution_count": 42,
          "metadata": {},
          "output_type": "execute_result"
        }
      ],
      "source": [
        "# query_text = \"I have a cough, what drug would be best?\"\n",
        "query_text = \"How is dextromethorphan?\"\n",
        "\n",
        "# Execute a hybrid search that combines both vector (semantic) and full-text search\n",
        "# We can change the weightage if necessary\n",
        "\n",
        "drug_reviews_hybrid_results = hybrid_search(\n",
        "    query_text,  # Our natural language query\n",
        "    query_text\n",
        ")\n",
        "\n",
        "pd.DataFrame(drug_reviews_hybrid_results).head()"
      ]
    },
    {
      "cell_type": "markdown",
      "metadata": {},
      "source": [
        "# Step 8: Build the RAG application\n"
      ]
    },
    {
      "cell_type": "code",
      "execution_count": 43,
      "metadata": {},
      "outputs": [],
      "source": [
        "import requests"
      ]
    },
    {
      "cell_type": "markdown",
      "metadata": {},
      "source": [
        "### Define a function to create the chat prompt"
      ]
    },
    {
      "cell_type": "code",
      "execution_count": 44,
      "metadata": {},
      "outputs": [],
      "source": [
        "def format_context(context) -> str:\n",
        "    formatted_context = \"\"\n",
        "\n",
        "    # Check if any documents were retrieved.\n",
        "    if context and len(context) > 0:\n",
        "        # Add a header for the context section.\n",
        "        formatted_context = \"\\n\\nRelevant information from drug reviews:\\n\\n\"\n",
        "\n",
        "        # Process each retrieved document and format its content.\n",
        "        for i, doc in enumerate(context):\n",
        "            # Extract key fields from the document.\n",
        "            review = doc.get(\"review\", \"No review available\")\n",
        "            condition = doc.get(\"condition\", \"No condition available\")\n",
        "            drug_name = doc.get(\"drugName\", \"No drug name available\")\n",
        "\n",
        "            # Append the formatted document with a citation reference.\n",
        "            formatted_context += f\"[{i+1}] Review: {review}\\nCondition: {condition}\\nDrug Name: {drug_name}\\n\\n\"\n",
        "    return formatted_context"
      ]
    },
    {
      "cell_type": "code",
      "execution_count": 45,
      "metadata": {},
      "outputs": [],
      "source": [
        "# Define a function to create the user prompt for our RAG application\n",
        "def create_prompt(user_query: str) -> str:\n",
        "    \"\"\"\n",
        "    Create a chat prompt that includes the user query and retrieved context.\n",
        "\n",
        "    Args:\n",
        "        user_query (str): The user's query string.\n",
        "\n",
        "    Returns:\n",
        "        str: The chat prompt string.\n",
        "    \"\"\"\n",
        "    # Retrieve the most relevant documents for the `user_query` using the `vector_search` function defined in Step 7\n",
        "    context = hybrid_search(user_query,user_query)\n",
        "    # 1. Join the retrieved documents into a single string, where each document is separated by two new lines (\"\\n\\n\")\n",
        "    # 2. Format the retrieved documents into context for the LLM.\n",
        "    #formatted_context = <CODE_BLOCK_11>\n",
        "    formatted_context = format_context(context)\n",
        "\n",
        "    # 3. Craft the prompt for the LLM using the user query and the formatted context.\n",
        "    prompt = f\"\"\"\n",
        "Based on the following information, please answer the user's question:\n",
        "User Question: {user_query}\n",
        "{formatted_context}\n",
        "Please provide a comprehensive answer based on the information above.\n",
        "If the provided information does not contain the answer, state that clearly.\n",
        "Include citation numbers [X] to indicate which sources were used for specific details.\n",
        "\"\"\"\n",
        "\n",
        "    # Prompt consisting of the question and relevant context to answer it\n",
        "    return prompt"
      ]
    },
    {
      "cell_type": "markdown",
      "metadata": {},
      "source": [
        "### Define a function to answer user queries"
      ]
    },
    {
      "cell_type": "code",
      "execution_count": 46,
      "metadata": {},
      "outputs": [],
      "source": [
        "# Define a function to answer user queries\n",
        "def generate_answer(user_query: str) -> None:\n",
        "    \"\"\"\n",
        "    Generate an answer to the user query.\n",
        "\n",
        "    Args:\n",
        "        user_query (str): The user's query string.\n",
        "    \"\"\"\n",
        "    # Use the `create_prompt` function above to create a chat prompt\n",
        "    prompt = create_prompt(user_query)\n",
        "    # Format the message to the LLM in the format [{\"role\": <role_value>, \"content\": <content_value>}\n",
        "    # The role value for user messages must be \"user\"\n",
        "    # Use the `prompt` created above to populate the `content` field in the chat message\n",
        "    #messages = <CODE_BLOCK_12>\n",
        "    messages = [{\"role\":\"user\",\"content\":prompt}]\n",
        "    # Send the chat messages to a serverless function to get back an LLM response\n",
        "    response = requests.post(url=SERVERLESS_URL, json={\"task\": \"completion\", \"data\": messages})\n",
        "    # Print the final answer\n",
        "    print(response.json()[\"text\"])"
      ]
    },
    {
      "cell_type": "markdown",
      "metadata": {},
      "source": [
        "### Query the RAG application\n"
      ]
    },
    {
      "cell_type": "code",
      "execution_count": 47,
      "metadata": {},
      "outputs": [
        {
          "name": "stderr",
          "output_type": "stream",
          "text": [
            "/Users/wenjie.teo/Documents/repositories/genai-devday-notebooks/.venv/lib/python3.13/site-packages/torch/nn/modules/module.py:1762: FutureWarning: `encoder_attention_mask` is deprecated and will be removed in version 4.55.0 for `BertSdpaSelfAttention.forward`.\n",
            "  return forward_call(*args, **kwargs)\n"
          ]
        },
        {
          "ename": "MissingSchema",
          "evalue": "Invalid URL 'None': No scheme supplied. Perhaps you meant https://None?",
          "output_type": "error",
          "traceback": [
            "\u001b[31m---------------------------------------------------------------------------\u001b[39m",
            "\u001b[31mMissingSchema\u001b[39m                             Traceback (most recent call last)",
            "\u001b[36mCell\u001b[39m\u001b[36m \u001b[39m\u001b[32mIn[47]\u001b[39m\u001b[32m, line 4\u001b[39m\n\u001b[32m      1\u001b[39m query_text = \u001b[33m\"\u001b[39m\u001b[33mI have a cough, what drug would be best?\u001b[39m\u001b[33m\"\u001b[39m\n\u001b[32m      2\u001b[39m \u001b[38;5;66;03m#query_text = \"How is dextromethorphan?\"\u001b[39;00m\n\u001b[32m----> \u001b[39m\u001b[32m4\u001b[39m \u001b[43mgenerate_answer\u001b[49m\u001b[43m(\u001b[49m\u001b[43mquery_text\u001b[49m\u001b[43m)\u001b[49m\n",
            "\u001b[36mCell\u001b[39m\u001b[36m \u001b[39m\u001b[32mIn[46]\u001b[39m\u001b[32m, line 17\u001b[39m, in \u001b[36mgenerate_answer\u001b[39m\u001b[34m(user_query)\u001b[39m\n\u001b[32m     15\u001b[39m messages = [{\u001b[33m\"\u001b[39m\u001b[33mrole\u001b[39m\u001b[33m\"\u001b[39m:\u001b[33m\"\u001b[39m\u001b[33muser\u001b[39m\u001b[33m\"\u001b[39m,\u001b[33m\"\u001b[39m\u001b[33mcontent\u001b[39m\u001b[33m\"\u001b[39m:prompt}]\n\u001b[32m     16\u001b[39m \u001b[38;5;66;03m# Send the chat messages to a serverless function to get back an LLM response\u001b[39;00m\n\u001b[32m---> \u001b[39m\u001b[32m17\u001b[39m response = \u001b[43mrequests\u001b[49m\u001b[43m.\u001b[49m\u001b[43mpost\u001b[49m\u001b[43m(\u001b[49m\u001b[43murl\u001b[49m\u001b[43m=\u001b[49m\u001b[43mSERVERLESS_URL\u001b[49m\u001b[43m,\u001b[49m\u001b[43m \u001b[49m\u001b[43mjson\u001b[49m\u001b[43m=\u001b[49m\u001b[43m{\u001b[49m\u001b[33;43m\"\u001b[39;49m\u001b[33;43mtask\u001b[39;49m\u001b[33;43m\"\u001b[39;49m\u001b[43m:\u001b[49m\u001b[43m \u001b[49m\u001b[33;43m\"\u001b[39;49m\u001b[33;43mcompletion\u001b[39;49m\u001b[33;43m\"\u001b[39;49m\u001b[43m,\u001b[49m\u001b[43m \u001b[49m\u001b[33;43m\"\u001b[39;49m\u001b[33;43mdata\u001b[39;49m\u001b[33;43m\"\u001b[39;49m\u001b[43m:\u001b[49m\u001b[43m \u001b[49m\u001b[43mmessages\u001b[49m\u001b[43m}\u001b[49m\u001b[43m)\u001b[49m\n\u001b[32m     18\u001b[39m \u001b[38;5;66;03m# Print the final answer\u001b[39;00m\n\u001b[32m     19\u001b[39m \u001b[38;5;28mprint\u001b[39m(response.json()[\u001b[33m\"\u001b[39m\u001b[33mtext\u001b[39m\u001b[33m\"\u001b[39m])\n",
            "\u001b[36mFile \u001b[39m\u001b[32m~/Documents/repositories/genai-devday-notebooks/.venv/lib/python3.13/site-packages/requests/api.py:115\u001b[39m, in \u001b[36mpost\u001b[39m\u001b[34m(url, data, json, **kwargs)\u001b[39m\n\u001b[32m    103\u001b[39m \u001b[38;5;28;01mdef\u001b[39;00m\u001b[38;5;250m \u001b[39m\u001b[34mpost\u001b[39m(url, data=\u001b[38;5;28;01mNone\u001b[39;00m, json=\u001b[38;5;28;01mNone\u001b[39;00m, **kwargs):\n\u001b[32m    104\u001b[39m \u001b[38;5;250m    \u001b[39m\u001b[33mr\u001b[39m\u001b[33;03m\"\"\"Sends a POST request.\u001b[39;00m\n\u001b[32m    105\u001b[39m \n\u001b[32m    106\u001b[39m \u001b[33;03m    :param url: URL for the new :class:`Request` object.\u001b[39;00m\n\u001b[32m   (...)\u001b[39m\u001b[32m    112\u001b[39m \u001b[33;03m    :rtype: requests.Response\u001b[39;00m\n\u001b[32m    113\u001b[39m \u001b[33;03m    \"\"\"\u001b[39;00m\n\u001b[32m--> \u001b[39m\u001b[32m115\u001b[39m     \u001b[38;5;28;01mreturn\u001b[39;00m \u001b[43mrequest\u001b[49m\u001b[43m(\u001b[49m\u001b[33;43m\"\u001b[39;49m\u001b[33;43mpost\u001b[39;49m\u001b[33;43m\"\u001b[39;49m\u001b[43m,\u001b[49m\u001b[43m \u001b[49m\u001b[43murl\u001b[49m\u001b[43m,\u001b[49m\u001b[43m \u001b[49m\u001b[43mdata\u001b[49m\u001b[43m=\u001b[49m\u001b[43mdata\u001b[49m\u001b[43m,\u001b[49m\u001b[43m \u001b[49m\u001b[43mjson\u001b[49m\u001b[43m=\u001b[49m\u001b[43mjson\u001b[49m\u001b[43m,\u001b[49m\u001b[43m \u001b[49m\u001b[43m*\u001b[49m\u001b[43m*\u001b[49m\u001b[43mkwargs\u001b[49m\u001b[43m)\u001b[49m\n",
            "\u001b[36mFile \u001b[39m\u001b[32m~/Documents/repositories/genai-devday-notebooks/.venv/lib/python3.13/site-packages/requests/api.py:59\u001b[39m, in \u001b[36mrequest\u001b[39m\u001b[34m(method, url, **kwargs)\u001b[39m\n\u001b[32m     55\u001b[39m \u001b[38;5;66;03m# By using the 'with' statement we are sure the session is closed, thus we\u001b[39;00m\n\u001b[32m     56\u001b[39m \u001b[38;5;66;03m# avoid leaving sockets open which can trigger a ResourceWarning in some\u001b[39;00m\n\u001b[32m     57\u001b[39m \u001b[38;5;66;03m# cases, and look like a memory leak in others.\u001b[39;00m\n\u001b[32m     58\u001b[39m \u001b[38;5;28;01mwith\u001b[39;00m sessions.Session() \u001b[38;5;28;01mas\u001b[39;00m session:\n\u001b[32m---> \u001b[39m\u001b[32m59\u001b[39m     \u001b[38;5;28;01mreturn\u001b[39;00m \u001b[43msession\u001b[49m\u001b[43m.\u001b[49m\u001b[43mrequest\u001b[49m\u001b[43m(\u001b[49m\u001b[43mmethod\u001b[49m\u001b[43m=\u001b[49m\u001b[43mmethod\u001b[49m\u001b[43m,\u001b[49m\u001b[43m \u001b[49m\u001b[43murl\u001b[49m\u001b[43m=\u001b[49m\u001b[43murl\u001b[49m\u001b[43m,\u001b[49m\u001b[43m \u001b[49m\u001b[43m*\u001b[49m\u001b[43m*\u001b[49m\u001b[43mkwargs\u001b[49m\u001b[43m)\u001b[49m\n",
            "\u001b[36mFile \u001b[39m\u001b[32m~/Documents/repositories/genai-devday-notebooks/.venv/lib/python3.13/site-packages/requests/sessions.py:575\u001b[39m, in \u001b[36mSession.request\u001b[39m\u001b[34m(self, method, url, params, data, headers, cookies, files, auth, timeout, allow_redirects, proxies, hooks, stream, verify, cert, json)\u001b[39m\n\u001b[32m    562\u001b[39m \u001b[38;5;66;03m# Create the Request.\u001b[39;00m\n\u001b[32m    563\u001b[39m req = Request(\n\u001b[32m    564\u001b[39m     method=method.upper(),\n\u001b[32m    565\u001b[39m     url=url,\n\u001b[32m   (...)\u001b[39m\u001b[32m    573\u001b[39m     hooks=hooks,\n\u001b[32m    574\u001b[39m )\n\u001b[32m--> \u001b[39m\u001b[32m575\u001b[39m prep = \u001b[38;5;28;43mself\u001b[39;49m\u001b[43m.\u001b[49m\u001b[43mprepare_request\u001b[49m\u001b[43m(\u001b[49m\u001b[43mreq\u001b[49m\u001b[43m)\u001b[49m\n\u001b[32m    577\u001b[39m proxies = proxies \u001b[38;5;129;01mor\u001b[39;00m {}\n\u001b[32m    579\u001b[39m settings = \u001b[38;5;28mself\u001b[39m.merge_environment_settings(\n\u001b[32m    580\u001b[39m     prep.url, proxies, stream, verify, cert\n\u001b[32m    581\u001b[39m )\n",
            "\u001b[36mFile \u001b[39m\u001b[32m~/Documents/repositories/genai-devday-notebooks/.venv/lib/python3.13/site-packages/requests/sessions.py:484\u001b[39m, in \u001b[36mSession.prepare_request\u001b[39m\u001b[34m(self, request)\u001b[39m\n\u001b[32m    481\u001b[39m     auth = get_netrc_auth(request.url)\n\u001b[32m    483\u001b[39m p = PreparedRequest()\n\u001b[32m--> \u001b[39m\u001b[32m484\u001b[39m \u001b[43mp\u001b[49m\u001b[43m.\u001b[49m\u001b[43mprepare\u001b[49m\u001b[43m(\u001b[49m\n\u001b[32m    485\u001b[39m \u001b[43m    \u001b[49m\u001b[43mmethod\u001b[49m\u001b[43m=\u001b[49m\u001b[43mrequest\u001b[49m\u001b[43m.\u001b[49m\u001b[43mmethod\u001b[49m\u001b[43m.\u001b[49m\u001b[43mupper\u001b[49m\u001b[43m(\u001b[49m\u001b[43m)\u001b[49m\u001b[43m,\u001b[49m\n\u001b[32m    486\u001b[39m \u001b[43m    \u001b[49m\u001b[43murl\u001b[49m\u001b[43m=\u001b[49m\u001b[43mrequest\u001b[49m\u001b[43m.\u001b[49m\u001b[43murl\u001b[49m\u001b[43m,\u001b[49m\n\u001b[32m    487\u001b[39m \u001b[43m    \u001b[49m\u001b[43mfiles\u001b[49m\u001b[43m=\u001b[49m\u001b[43mrequest\u001b[49m\u001b[43m.\u001b[49m\u001b[43mfiles\u001b[49m\u001b[43m,\u001b[49m\n\u001b[32m    488\u001b[39m \u001b[43m    \u001b[49m\u001b[43mdata\u001b[49m\u001b[43m=\u001b[49m\u001b[43mrequest\u001b[49m\u001b[43m.\u001b[49m\u001b[43mdata\u001b[49m\u001b[43m,\u001b[49m\n\u001b[32m    489\u001b[39m \u001b[43m    \u001b[49m\u001b[43mjson\u001b[49m\u001b[43m=\u001b[49m\u001b[43mrequest\u001b[49m\u001b[43m.\u001b[49m\u001b[43mjson\u001b[49m\u001b[43m,\u001b[49m\n\u001b[32m    490\u001b[39m \u001b[43m    \u001b[49m\u001b[43mheaders\u001b[49m\u001b[43m=\u001b[49m\u001b[43mmerge_setting\u001b[49m\u001b[43m(\u001b[49m\n\u001b[32m    491\u001b[39m \u001b[43m        \u001b[49m\u001b[43mrequest\u001b[49m\u001b[43m.\u001b[49m\u001b[43mheaders\u001b[49m\u001b[43m,\u001b[49m\u001b[43m \u001b[49m\u001b[38;5;28;43mself\u001b[39;49m\u001b[43m.\u001b[49m\u001b[43mheaders\u001b[49m\u001b[43m,\u001b[49m\u001b[43m \u001b[49m\u001b[43mdict_class\u001b[49m\u001b[43m=\u001b[49m\u001b[43mCaseInsensitiveDict\u001b[49m\n\u001b[32m    492\u001b[39m \u001b[43m    \u001b[49m\u001b[43m)\u001b[49m\u001b[43m,\u001b[49m\n\u001b[32m    493\u001b[39m \u001b[43m    \u001b[49m\u001b[43mparams\u001b[49m\u001b[43m=\u001b[49m\u001b[43mmerge_setting\u001b[49m\u001b[43m(\u001b[49m\u001b[43mrequest\u001b[49m\u001b[43m.\u001b[49m\u001b[43mparams\u001b[49m\u001b[43m,\u001b[49m\u001b[43m \u001b[49m\u001b[38;5;28;43mself\u001b[39;49m\u001b[43m.\u001b[49m\u001b[43mparams\u001b[49m\u001b[43m)\u001b[49m\u001b[43m,\u001b[49m\n\u001b[32m    494\u001b[39m \u001b[43m    \u001b[49m\u001b[43mauth\u001b[49m\u001b[43m=\u001b[49m\u001b[43mmerge_setting\u001b[49m\u001b[43m(\u001b[49m\u001b[43mauth\u001b[49m\u001b[43m,\u001b[49m\u001b[43m \u001b[49m\u001b[38;5;28;43mself\u001b[39;49m\u001b[43m.\u001b[49m\u001b[43mauth\u001b[49m\u001b[43m)\u001b[49m\u001b[43m,\u001b[49m\n\u001b[32m    495\u001b[39m \u001b[43m    \u001b[49m\u001b[43mcookies\u001b[49m\u001b[43m=\u001b[49m\u001b[43mmerged_cookies\u001b[49m\u001b[43m,\u001b[49m\n\u001b[32m    496\u001b[39m \u001b[43m    \u001b[49m\u001b[43mhooks\u001b[49m\u001b[43m=\u001b[49m\u001b[43mmerge_hooks\u001b[49m\u001b[43m(\u001b[49m\u001b[43mrequest\u001b[49m\u001b[43m.\u001b[49m\u001b[43mhooks\u001b[49m\u001b[43m,\u001b[49m\u001b[43m \u001b[49m\u001b[38;5;28;43mself\u001b[39;49m\u001b[43m.\u001b[49m\u001b[43mhooks\u001b[49m\u001b[43m)\u001b[49m\u001b[43m,\u001b[49m\n\u001b[32m    497\u001b[39m \u001b[43m\u001b[49m\u001b[43m)\u001b[49m\n\u001b[32m    498\u001b[39m \u001b[38;5;28;01mreturn\u001b[39;00m p\n",
            "\u001b[36mFile \u001b[39m\u001b[32m~/Documents/repositories/genai-devday-notebooks/.venv/lib/python3.13/site-packages/requests/models.py:367\u001b[39m, in \u001b[36mPreparedRequest.prepare\u001b[39m\u001b[34m(self, method, url, headers, files, data, params, auth, cookies, hooks, json)\u001b[39m\n\u001b[32m    364\u001b[39m \u001b[38;5;250m\u001b[39m\u001b[33;03m\"\"\"Prepares the entire request with the given parameters.\"\"\"\u001b[39;00m\n\u001b[32m    366\u001b[39m \u001b[38;5;28mself\u001b[39m.prepare_method(method)\n\u001b[32m--> \u001b[39m\u001b[32m367\u001b[39m \u001b[38;5;28;43mself\u001b[39;49m\u001b[43m.\u001b[49m\u001b[43mprepare_url\u001b[49m\u001b[43m(\u001b[49m\u001b[43murl\u001b[49m\u001b[43m,\u001b[49m\u001b[43m \u001b[49m\u001b[43mparams\u001b[49m\u001b[43m)\u001b[49m\n\u001b[32m    368\u001b[39m \u001b[38;5;28mself\u001b[39m.prepare_headers(headers)\n\u001b[32m    369\u001b[39m \u001b[38;5;28mself\u001b[39m.prepare_cookies(cookies)\n",
            "\u001b[36mFile \u001b[39m\u001b[32m~/Documents/repositories/genai-devday-notebooks/.venv/lib/python3.13/site-packages/requests/models.py:438\u001b[39m, in \u001b[36mPreparedRequest.prepare_url\u001b[39m\u001b[34m(self, url, params)\u001b[39m\n\u001b[32m    435\u001b[39m     \u001b[38;5;28;01mraise\u001b[39;00m InvalidURL(*e.args)\n\u001b[32m    437\u001b[39m \u001b[38;5;28;01mif\u001b[39;00m \u001b[38;5;129;01mnot\u001b[39;00m scheme:\n\u001b[32m--> \u001b[39m\u001b[32m438\u001b[39m     \u001b[38;5;28;01mraise\u001b[39;00m MissingSchema(\n\u001b[32m    439\u001b[39m         \u001b[33mf\u001b[39m\u001b[33m\"\u001b[39m\u001b[33mInvalid URL \u001b[39m\u001b[38;5;132;01m{\u001b[39;00murl\u001b[38;5;132;01m!r}\u001b[39;00m\u001b[33m: No scheme supplied. \u001b[39m\u001b[33m\"\u001b[39m\n\u001b[32m    440\u001b[39m         \u001b[33mf\u001b[39m\u001b[33m\"\u001b[39m\u001b[33mPerhaps you meant https://\u001b[39m\u001b[38;5;132;01m{\u001b[39;00murl\u001b[38;5;132;01m}\u001b[39;00m\u001b[33m?\u001b[39m\u001b[33m\"\u001b[39m\n\u001b[32m    441\u001b[39m     )\n\u001b[32m    443\u001b[39m \u001b[38;5;28;01mif\u001b[39;00m \u001b[38;5;129;01mnot\u001b[39;00m host:\n\u001b[32m    444\u001b[39m     \u001b[38;5;28;01mraise\u001b[39;00m InvalidURL(\u001b[33mf\u001b[39m\u001b[33m\"\u001b[39m\u001b[33mInvalid URL \u001b[39m\u001b[38;5;132;01m{\u001b[39;00murl\u001b[38;5;132;01m!r}\u001b[39;00m\u001b[33m: No host supplied\u001b[39m\u001b[33m\"\u001b[39m)\n",
            "\u001b[31mMissingSchema\u001b[39m: Invalid URL 'None': No scheme supplied. Perhaps you meant https://None?"
          ]
        }
      ],
      "source": [
        "query_text = \"I have a cough, what drug would be best?\"\n",
        "#query_text = \"How is dextromethorphan?\"\n",
        "\n",
        "generate_answer(query_text)"
      ]
    },
    {
      "cell_type": "markdown",
      "metadata": {},
      "source": [
        "# 🦹‍♀️ \"Agentic\" Pipeline\n"
      ]
    },
    {
      "cell_type": "code",
      "execution_count": 45,
      "metadata": {},
      "outputs": [],
      "source": [
        "# Use LLM to filter out terms that are medical conditions, symptoms, or drug names\n",
        "def get_terms_from_query(user_query: str) -> str:\n",
        "    prompt = f\"\"\"\n",
        "        For the following query, return me only words associated with medical conditions, symptoms or drug names: {user_query}.\n",
        "        Respond only with the words, space separated.\n",
        "        \"\"\"\n",
        "\n",
        "    messages = [{\"role\":\"user\",\"content\":prompt}]\n",
        "    # Send the chat messages to a serverless function to get back an LLM response\n",
        "    \n",
        "    response = requests.post(url=SERVERLESS_URL, json={\"task\": \"completion\", \"data\": messages})\n",
        "    return response.json()[\"text\"]"
      ]
    },
    {
      "cell_type": "code",
      "execution_count": null,
      "metadata": {},
      "outputs": [],
      "source": [
        "# test the definition\n",
        "get_terms_from_query(\"I have cough and sore throat\")"
      ]
    },
    {
      "cell_type": "code",
      "execution_count": 47,
      "metadata": {},
      "outputs": [],
      "source": [
        "def get_medication_reviews(user_query:str) -> str:\n",
        "    \"\"\"\n",
        "    Retrieves patient reviews and information about medications related to the query.\n",
        "\n",
        "    This tool searches a database of medication reviews to find relevant patient experiences\n",
        "    with drugs that match the symptoms, conditions, or medication names in the user query.\n",
        "    Use this tool when discussing specific medications or treatment options.\n",
        "\n",
        "    Args:\n",
        "        user_query (str): The medication name, condition, or symptom to search for reviews about.\n",
        "\n",
        "    Returns:\n",
        "        str: Patient reviews and experiences with relevant medications.\n",
        "    \"\"\"\n",
        "    \n",
        "    refined_text_search_query = get_terms_from_query(user_query)\n",
        "    \n",
        "   # Execute the hybrid search to find medication reviews\n",
        "    retrieved_context = hybrid_search(\n",
        "        refined_text_search_query,\n",
        "        user_query,\n",
        "    )\n",
        "\n",
        "    return retrieved_context"
      ]
    },
    {
      "cell_type": "code",
      "execution_count": null,
      "metadata": {},
      "outputs": [],
      "source": [
        "temp_results = get_medication_reviews(\"I have a cought and sore throat, what is best for me\")\n",
        "\n",
        "pd.DataFrame(temp_results).head()"
      ]
    },
    {
      "cell_type": "code",
      "execution_count": 50,
      "metadata": {},
      "outputs": [],
      "source": [
        "# Define a function to create the user prompt for our RAG application\n",
        "def create_prompt(user_query: str) -> str:\n",
        "    \"\"\"\n",
        "    Create a chat prompt that includes the user query and retrieved context.\n",
        "\n",
        "    Args:\n",
        "        user_query (str): The user's query string.\n",
        "\n",
        "    Returns:\n",
        "        str: The chat prompt string.\n",
        "    \"\"\"\n",
        "    # Retrieve the most relevant documents for the `user_query` using the `vector_search` function defined in Step 7\n",
        "    context = get_medication_reviews(user_query)\n",
        "    # Join the retrieved documents into a single string, where each document is separated by two new lines (\"\\n\\n\")\n",
        "        # 2. Format the retrieved documents into context for the LLM.\n",
        "    formatted_context = format_context(context)\n",
        "\n",
        "    # 3. Craft the prompt for the LLM using the user query and the formatted context.\n",
        "    prompt = f\"\"\"\n",
        "Based on the following information, please answer the user's question:\n",
        "User Question: {user_query}\n",
        "{formatted_context}\n",
        "Please provide a comprehensive answer based on the information above.\n",
        "If the provided information does not contain the answer, state that clearly.\n",
        "Include citation numbers [X] to indicate which sources were used for specific details.\n",
        "\"\"\"\n",
        "\n",
        "    # Prompt consisting of the question and relevant context to answer it\n",
        "    return prompt"
      ]
    },
    {
      "cell_type": "code",
      "execution_count": null,
      "metadata": {},
      "outputs": [],
      "source": [
        "# Use this if you have not completed \"adding memory\"\n",
        "# generate_answer(\"I have a flu\")\n",
        "\n",
        "# Use this if you have completed \"adding memory\"\n",
        "generate_answer(\"session\", \"I have a flu\")"
      ]
    },
    {
      "cell_type": "markdown",
      "metadata": {},
      "source": [
        "# Step 9: Add memory to the RAG application\n"
      ]
    },
    {
      "cell_type": "code",
      "execution_count": 37,
      "metadata": {},
      "outputs": [],
      "source": [
        "from datetime import datetime"
      ]
    },
    {
      "cell_type": "code",
      "execution_count": 38,
      "metadata": {},
      "outputs": [],
      "source": [
        "history_collection = mongodb_client[DB_NAME][\"chat_history\"]"
      ]
    },
    {
      "cell_type": "markdown",
      "metadata": {},
      "source": [
        "📚 https://pymongo.readthedocs.io/en/stable/api/pymongo/collection.html#pymongo.collection.Collection.create_index\n"
      ]
    },
    {
      "cell_type": "code",
      "execution_count": null,
      "metadata": {},
      "outputs": [],
      "source": [
        "# Create an index on the key `session_id` for the `history_collection` collection\n",
        "history_collection.create_index(\"session_id\")"
      ]
    },
    {
      "cell_type": "markdown",
      "metadata": {},
      "source": [
        "### Define a function to store chat messages in MongoDB\n",
        "\n",
        "📚 https://pymongo.readthedocs.io/en/stable/api/pymongo/collection.html#pymongo.collection.Collection.insert_one"
      ]
    },
    {
      "cell_type": "code",
      "execution_count": 40,
      "metadata": {},
      "outputs": [],
      "source": [
        "def store_chat_message(session_id: str, role: str, content: str) -> None:\n",
        "    \"\"\"\n",
        "    Store a chat message in a MongoDB collection.\n",
        "\n",
        "    Args:\n",
        "        session_id (str): Session ID of the message.\n",
        "        role (str): Role for the message. One of `system`, `user` or `assistant`.\n",
        "        content (str): Content of the message.\n",
        "    \"\"\"\n",
        "    # Create a message object with `session_id`, `role`, `content` and `timestamp` fields\n",
        "    # `timestamp` should be set the current timestamp\n",
        "    message = {\n",
        "        \"session_id\": session_id,\n",
        "        \"role\": role,\n",
        "        \"content\": content,\n",
        "        \"timestamp\": datetime.now(),\n",
        "    }\n",
        "    # Insert the `message` into the `history_collection` collection\n",
        "    history_collection.insert_one(message)"
      ]
    },
    {
      "cell_type": "markdown",
      "metadata": {},
      "source": [
        "### Define a function to retrieve chat history from MongoDB\n",
        "\n",
        "📚 https://pymongo.readthedocs.io/en/stable/api/pymongo/cursor.html#pymongo.cursor.Cursor.sort"
      ]
    },
    {
      "cell_type": "code",
      "execution_count": 41,
      "metadata": {},
      "outputs": [],
      "source": [
        "def retrieve_session_history(session_id: str) -> List:\n",
        "    \"\"\"\n",
        "    Retrieve chat message history for a particular session.\n",
        "\n",
        "    Args:\n",
        "        session_id (str): Session ID to retrieve chat message history for.\n",
        "\n",
        "    Returns:\n",
        "        List: List of chat messages.\n",
        "    \"\"\"\n",
        "    # Query the `history_collection` collection for documents where the \"session_id\" field has the value of the input `session_id`\n",
        "    # Sort the results in increasing order of the values in `timestamp` field\n",
        "    cursor = history_collection.find({\"session_id\": session_id}).sort(\"timestamp\", 1)\n",
        "\n",
        "    if cursor:\n",
        "        # Iterate through the cursor and extract the `role` and `content` field from each entry\n",
        "        # Then format each entry as: {\"role\": <role_value>, \"content\": <content_value>}\n",
        "        messages = [{\"role\": msg[\"role\"], \"content\": msg[\"content\"]} for msg in cursor]\n",
        "    else:\n",
        "        # If cursor is empty, return an empty list\n",
        "        messages = []\n",
        "\n",
        "    return messages"
      ]
    },
    {
      "cell_type": "markdown",
      "metadata": {},
      "source": [
        "### Handle chat history in the `generate_answer` function"
      ]
    },
    {
      "cell_type": "code",
      "execution_count": 42,
      "metadata": {},
      "outputs": [],
      "source": [
        "def generate_answer(session_id: str, user_query: str) -> None:\n",
        "    \"\"\"\n",
        "    Generate an answer to the user's query taking chat history into account.\n",
        "\n",
        "    Args:\n",
        "        session_id (str): Session ID to retrieve chat history for.\n",
        "        user_query (str): The user's query string.\n",
        "    \"\"\"\n",
        "    # Initialize list of messages to pass to the chat completion model\n",
        "    messages = []\n",
        "\n",
        "    # Retrieve documents relevant to the user query and convert them to a single string\n",
        "    prompt = create_prompt(user_query)\n",
        "    # Create a system prompt containing the retrieved context\n",
        "    system_message = {\n",
        "        \"role\": \"user\",\n",
        "        \"content\": prompt\n",
        "    }\n",
        "    # Append the system prompt to the `messages` list\n",
        "    messages.append(system_message)\n",
        "\n",
        "    # Use the `retrieve_session_history` function to retrieve message history from MongoDB for the session ID `session_id` \n",
        "    # And add all messages in the message history to the `messages` list \n",
        "    message_history = retrieve_session_history(session_id)\n",
        "    messages.extend(message_history)\n",
        "\n",
        "    # Format the user query in the format {\"role\": <role_value>, \"content\": <content_value>}\n",
        "    # The role value for user messages must be \"user\"\n",
        "    # And append the user message to the `messages` list\n",
        "    user_message = {\"role\": \"user\", \"content\": user_query}\n",
        "    messages.append(user_message)\n",
        "\n",
        "    # Send the chat messages to a serverless function to get back an LLM response\n",
        "    response = requests.post(url=SERVERLESS_URL, json={\"task\": \"completion\", \"data\": messages})\n",
        "\n",
        "    # Extract the answer from the response\n",
        "    answer = response.json()[\"text\"]\n",
        "\n",
        "    # Use the `store_chat_message` function to store the user message and also the generated answer in the message history collection\n",
        "    # The role value for user messages is \"user\", and \"assistant\" for the generated answer\n",
        "    store_chat_message(session_id, \"user\", user_query)\n",
        "    store_chat_message(session_id, \"assistant\", answer)\n",
        "\n",
        "    print(answer)"
      ]
    },
    {
      "cell_type": "code",
      "execution_count": null,
      "metadata": {},
      "outputs": [],
      "source": [
        "generate_answer(\n",
        "    session_id=\"1\",\n",
        "    user_query=\"I have a sore throat\",\n",
        ")"
      ]
    },
    {
      "cell_type": "code",
      "execution_count": null,
      "metadata": {},
      "outputs": [],
      "source": [
        "generate_answer(\n",
        "    session_id=\"1\",\n",
        "    user_query=\"What if i have a cough too\",\n",
        ")"
      ]
    }
  ],
  "metadata": {
    "kernelspec": {
      "display_name": ".venv",
      "language": "python",
      "name": "python3"
    },
    "language_info": {
      "codemirror_mode": {
        "name": "ipython",
        "version": 3
      },
      "file_extension": ".py",
      "mimetype": "text/x-python",
      "name": "python",
      "nbconvert_exporter": "python",
      "pygments_lexer": "ipython3",
      "version": "3.13.2"
    },
    "widgets": {
      "application/vnd.jupyter.widget-state+json": {
        "state": {}
      }
    }
  },
  "nbformat": 4,
  "nbformat_minor": 2
}
