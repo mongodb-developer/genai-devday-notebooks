{
  "cells": [
    {
      "cell_type": "markdown",
      "metadata": {},
      "source": [
        "[![Lab Documentation and Solutions](https://img.shields.io/badge/Lab%20Documentation%20and%20Solutions-purple)](https://mongodb-developer.github.io/ai-rag-lab/)\n"
      ]
    },
    {
      "cell_type": "markdown",
      "metadata": {},
      "source": [
        "# Step 1: Setup prerequisites"
      ]
    },
    {
      "cell_type": "code",
      "execution_count": 1,
      "metadata": {},
      "outputs": [],
      "source": [
        "import os\n",
        "from pymongo import MongoClient\n",
        "from utils import track_progress, set_env"
      ]
    },
    {
      "cell_type": "code",
      "execution_count": 2,
      "metadata": {},
      "outputs": [
        {
          "data": {
            "text/plain": [
              "{'ok': 1.0,\n",
              " '$clusterTime': {'clusterTime': Timestamp(1756153591, 1),\n",
              "  'signature': {'hash': b'\\xda^\\xd7\\x8em\\xfbi\\xbbD\\xb2\\x0c\\xedZ\\xb4\\xb9\\x1b`7?T',\n",
              "   'keyId': 7541088992607862791}},\n",
              " 'operationTime': Timestamp(1756153591, 1)}"
            ]
          },
          "execution_count": 2,
          "metadata": {},
          "output_type": "execute_result"
        }
      ],
      "source": [
        "# If you are using your own MongoDB Atlas cluster, use the connection string for your cluster here\n",
        "MONGODB_URI = os.environ.get(\"MONGODB_URI\")\n",
        "# Initialize a MongoDB Python client\n",
        "mongodb_client = MongoClient(MONGODB_URI)\n",
        "# Check the connection to the server\n",
        "mongodb_client.admin.command(\"ping\")"
      ]
    },
    {
      "cell_type": "code",
      "execution_count": 3,
      "metadata": {},
      "outputs": [
        {
          "name": "stdout",
          "output_type": "stream",
          "text": [
            "Tracking progress for task cluster_creation\n"
          ]
        }
      ],
      "source": [
        "# Track progress of key steps-- DO NOT CHANGE\n",
        "track_progress(\"cluster_creation\", \"ai_rag_lab\")"
      ]
    },
    {
      "cell_type": "code",
      "execution_count": 4,
      "metadata": {},
      "outputs": [],
      "source": [
        "# Set the URL for our AI model proxy endpoint\n",
        "SERVERLESS_URL = os.environ.get(\"SERVERLESS_URL\")"
      ]
    },
    {
      "cell_type": "code",
      "execution_count": null,
      "metadata": {},
      "outputs": [],
      "source": [
        "# Set the passkey provided by your workshop instructor\n",
        "PASSKEY = \"replace-with-passkey\""
      ]
    },
    {
      "cell_type": "code",
      "execution_count": 6,
      "metadata": {},
      "outputs": [
        {
          "name": "stdout",
          "output_type": "stream",
          "text": [
            "Setting VOYAGE_API_KEY environment variable successful.\n"
          ]
        }
      ],
      "source": [
        "# Obtain Voyage API key using the passkey and set it as an environment variable-- DO NOT CHANGE\n",
        "set_env(\"VOYAGE_API_KEY\", PASSKEY)"
      ]
    },
    {
      "cell_type": "markdown",
      "metadata": {},
      "source": [
        "# Step 2: Load the dataset"
      ]
    },
    {
      "cell_type": "code",
      "execution_count": 7,
      "metadata": {},
      "outputs": [],
      "source": [
        "import json"
      ]
    },
    {
      "cell_type": "code",
      "execution_count": 8,
      "metadata": {},
      "outputs": [],
      "source": [
        "with open(\"../data/mongodb_docs.json\", \"r\") as data_file:\n",
        "    json_data = data_file.read()\n",
        "\n",
        "docs = json.loads(json_data)"
      ]
    },
    {
      "cell_type": "code",
      "execution_count": 9,
      "metadata": {},
      "outputs": [
        {
          "data": {
            "text/plain": [
              "20"
            ]
          },
          "execution_count": 9,
          "metadata": {},
          "output_type": "execute_result"
        }
      ],
      "source": [
        "# Note the number of documents in the dataset\n",
        "len(docs)"
      ]
    },
    {
      "cell_type": "code",
      "execution_count": 10,
      "metadata": {},
      "outputs": [
        {
          "data": {
            "text/plain": [
              "{'updated': '2024-05-20T17:30:49.148Z',\n",
              " 'metadata': {'contentType': None,\n",
              "  'productName': 'MongoDB Atlas',\n",
              "  'tags': ['atlas', 'docs'],\n",
              "  'version': None},\n",
              " 'action': 'created',\n",
              " 'sourceName': 'snooty-cloud-docs',\n",
              " 'body': '# View Database Access History\\n\\n- This feature is not available for `M0` free clusters, `M2`, and `M5` clusters. To learn more, see Atlas M0 (Free Cluster), M2, and M5 Limits.\\n\\n- This feature is not supported on Serverless instances at this time. To learn more, see Serverless Instance Limitations.\\n\\n## Overview\\n\\nAtlas parses the MongoDB database logs to collect a list of authentication requests made against your clusters through the following methods:\\n\\n- `mongosh`\\n\\n- Compass\\n\\n- Drivers\\n\\nAuthentication requests made with API Keys through the Atlas Administration API are not logged.\\n\\nAtlas logs the following information for each authentication request within the last 7 days:\\n\\n<table>\\n<tr>\\n<th id=\"Field\">\\nField\\n\\n</th>\\n<th id=\"Description\">\\nDescription\\n\\n</th>\\n</tr>\\n<tr>\\n<td headers=\"Field\">\\nTimestamp\\n\\n</td>\\n<td headers=\"Description\">\\nThe date and time of the authentication request.\\n\\n</td>\\n</tr>\\n<tr>\\n<td headers=\"Field\">\\nUsername\\n\\n</td>\\n<td headers=\"Description\">\\nThe username associated with the database user who made the authentication request.\\n\\nFor LDAP usernames, the UI displays the resolved LDAP name. Hover over the name to see the full LDAP username.\\n\\n</td>\\n</tr>\\n<tr>\\n<td headers=\"Field\">\\nIP Address\\n\\n</td>\\n<td headers=\"Description\">\\nThe IP address of the machine that sent the authentication request.\\n\\n</td>\\n</tr>\\n<tr>\\n<td headers=\"Field\">\\nHost\\n\\n</td>\\n<td headers=\"Description\">\\nThe target server that processed the authentication request.\\n\\n</td>\\n</tr>\\n<tr>\\n<td headers=\"Field\">\\nAuthentication Source\\n\\n</td>\\n<td headers=\"Description\">\\nThe database that the authentication request was made against. `admin` is the authentication source for SCRAM-SHA users and `$external` for LDAP users.\\n\\n</td>\\n</tr>\\n<tr>\\n<td headers=\"Field\">\\nAuthentication Result\\n\\n</td>\\n<td headers=\"Description\">\\nThe success or failure of the authentication request. A reason code is displayed for the failed authentication requests.\\n\\n</td>\\n</tr>\\n</table>Authentication requests are pre-sorted by descending timestamp with 25 entries per page.\\n\\n### Logging Limitations\\n\\nIf a cluster experiences an activity spike and generates an extremely large quantity of log messages, Atlas may stop collecting and storing new logs for a period of time.\\n\\nLog analysis rate limits apply only to the Performance Advisor UI, the Query Insights UI, the Access Tracking UI, and the Atlas Search Query Analytics UI. Downloadable log files are always complete.\\n\\nIf authentication requests occur during a period when logs are not collected, they will not appear in the database access history.\\n\\n## Required Access\\n\\nTo view database access history, you must have `Project Owner` or `Organization Owner` access to Atlas.\\n\\n## Procedure\\n\\n<Tabs>\\n\\n<Tab name=\"Atlas CLI\">\\n\\nTo return the access logs for a cluster using the Atlas CLI, run the following command:\\n\\n```sh\\n\\natlas accessLogs list [options]\\n\\n```\\n\\nTo learn more about the command syntax and parameters, see the Atlas CLI documentation for atlas accessLogs list.\\n\\n- Install the Atlas CLI\\n\\n- Connect to the Atlas CLI\\n\\n</Tab>\\n\\n<Tab name=\"Atlas Administration API\">\\n\\nTo view the database access history using the API, see Access Tracking.\\n\\n</Tab>\\n\\n<Tab name=\"Atlas UI\">\\n\\nUse the following procedure to view your database access history using the Atlas UI:\\n\\n### Navigate to the Clusters page for your project.\\n\\n- If it is not already displayed, select the organization that contains your desired project from the  Organizations menu in the navigation bar.\\n\\n- If it is not already displayed, select your desired project from the Projects menu in the navigation bar.\\n\\n- If the Clusters page is not already displayed, click Database in the sidebar.\\n\\n### View the cluster\\'s database access history.\\n\\n- On the cluster card, click .\\n\\n- Select View Database Access History.\\n\\nor\\n\\n- Click the cluster name.\\n\\n- Click .\\n\\n- Select View Database Access History.\\n\\n</Tab>\\n\\n</Tabs>\\n\\n',\n",
              " 'url': 'https://mongodb.com/docs/atlas/access-tracking/',\n",
              " 'format': 'md',\n",
              " 'title': 'View Database Access History'}"
            ]
          },
          "execution_count": 10,
          "metadata": {},
          "output_type": "execute_result"
        }
      ],
      "source": [
        "# Preview a document to understand its structure\n",
        "docs[0]"
      ]
    },
    {
      "cell_type": "markdown",
      "metadata": {},
      "source": [
        "# Step 3: Chunk up and embed the data\n"
      ]
    },
    {
      "cell_type": "code",
      "execution_count": null,
      "metadata": {},
      "outputs": [],
      "source": [
        "# You might see a warning after running this cell-- You can ignore it\n",
        "from langchain.text_splitter import RecursiveCharacterTextSplitter\n",
        "from typing import Dict, List\n",
        "import voyageai\n",
        "from tqdm import tqdm"
      ]
    },
    {
      "cell_type": "code",
      "execution_count": 22,
      "metadata": {},
      "outputs": [],
      "source": [
        "# Common list of separators for text data\n",
        "separators = [\"\\n\\n\", \"\\n\", \" \", \"\", \"#\", \"##\", \"###\"]"
      ]
    },
    {
      "cell_type": "code",
      "execution_count": 55,
      "metadata": {},
      "outputs": [],
      "source": [
        "# Use the `RecursiveCharacterTextSplitter` from LangChain to first split a piece of text on the list of `separators` above.\n",
        "# Then recursively merge them into tokens until the specified chunk size is reached.\n",
        "# For text data, you typically want to keep 1-2 paragraphs (~200 tokens) in a single chunk.\n",
        "# Set chunk overlap to 0 for contextualized embeddings, otherwise 15-20% of chunk size.\n",
        "# The `model_name` parameter indicates which encoder to use for tokenization, in this case GPT-4's encoder.\n",
        "text_splitter = RecursiveCharacterTextSplitter.from_tiktoken_encoder(\n",
        "    model_name=\"gpt-4\", separators=separators, chunk_size=200, chunk_overlap=0\n",
        ")"
      ]
    },
    {
      "cell_type": "markdown",
      "metadata": {},
      "source": [
        "📚 https://api.python.langchain.com/en/latest/character/langchain_text_splitters.character.RecursiveCharacterTextSplitter.html"
      ]
    },
    {
      "cell_type": "code",
      "execution_count": 57,
      "metadata": {},
      "outputs": [],
      "source": [
        "def get_chunks(doc: Dict, text_field: str) -> List[Dict]:\n",
        "    \"\"\"\n",
        "    Chunk up a document.\n",
        "\n",
        "    Args:\n",
        "        doc (Dict): Parent document to generate chunks from.\n",
        "        text_field (str): Text field to chunk.\n",
        "\n",
        "    Returns:\n",
        "        List[Dict]: List of chunked documents.\n",
        "    \"\"\"\n",
        "    # Extract the field to chunk from `doc`\n",
        "    text = doc[text_field]\n",
        "    # Split `text` using the `split_text` method of the `text_splitter` object\n",
        "    chunks = text_splitter.split_text(text)\n",
        "    return chunks"
      ]
    },
    {
      "cell_type": "code",
      "execution_count": null,
      "metadata": {},
      "outputs": [],
      "source": [
        "# Initialize the Voyage AI client\n",
        "vo = voyageai.Client()"
      ]
    },
    {
      "cell_type": "markdown",
      "metadata": {},
      "source": [
        "📚 https://docs.voyageai.com/docs/contextualized-chunk-embeddings#approach-2-contextualized-chunk-embeddings"
      ]
    },
    {
      "cell_type": "code",
      "execution_count": 106,
      "metadata": {},
      "outputs": [],
      "source": [
        "def get_embeddings(content: List[str], input_type: str) -> List[List[float]]:\n",
        "    \"\"\"\n",
        "    Get contextualized embeddings for each chunk.\n",
        "\n",
        "    Args:\n",
        "        content (List[str]): List of chunked texts or the user query as a list\n",
        "        input_type (str): Type of input, either \"document\" or \"query\" \n",
        "\n",
        "    Returns:\n",
        "        List[List[float]]: Contextualized embeddings\n",
        "    \"\"\"\n",
        "    # Use the `contextualized_embed` method of the Voyage AI API to get contextualized embeddings for each chunk with the following arguments:\n",
        "    # inputs: `content` wrapped in another list\n",
        "    # model: `voyage-context-3`\n",
        "    # input_type: `input_type`\n",
        "    embds_obj = vo.contextualized_embed(inputs=[content], model=\"voyage-context-3\", input_type=input_type)\n",
        "     # If `input_type` is \"document\", there is a single result with multiple embeddings, one for each chunk\n",
        "    if input_type == \"document\":\n",
        "        embeddings = [emb for r in embds_obj.results for emb in r.embeddings]\n",
        "    # If `input_type` is \"query\", there is a single result with a single embedding\n",
        "    if input_type == \"query\":\n",
        "        embeddings = embds_obj.results[0].embeddings[0]\n",
        "    return embeddings"
      ]
    },
    {
      "cell_type": "code",
      "execution_count": 107,
      "metadata": {},
      "outputs": [
        {
          "name": "stderr",
          "output_type": "stream",
          "text": [
            "  0%|          | 0/20 [00:00<?, ?it/s]"
          ]
        },
        {
          "name": "stderr",
          "output_type": "stream",
          "text": [
            "100%|██████████| 20/20 [00:06<00:00,  3.20it/s]\n"
          ]
        }
      ],
      "source": [
        "embedded_docs = []\n",
        "# Iterate through `docs` from Step 2\n",
        "for doc in tqdm(docs):\n",
        "    # Use the `get_chunks` function to chunk up the \"body\" field in each document\n",
        "    chunks = get_chunks(doc, \"body\")\n",
        "    # Pass all the `chunks` to the `get_embeddings` function to get contextualized embeddings for each chunk\n",
        "    # `input_type` should be set to \"document\" since we are embedding the \"documents\" for RAG\n",
        "    chunk_embeddings = get_embeddings(chunks, \"document\")\n",
        "    # For each chunk, create a new document with original metadata but replace the `body` and add an `embedding` field\n",
        "    for chunk, embedding in zip(chunks, chunk_embeddings):\n",
        "        # Create a new document by copying the original document\n",
        "        chunk_doc = doc.copy()\n",
        "        # Replace the `body` field with the chunk content\n",
        "        chunk_doc[\"body\"] = chunk\n",
        "        # Add an `embedding` field containing the embedding for this chunk\n",
        "        chunk_doc[\"embedding\"] = embedding\n",
        "        # Append `chunk_doc` to `embedded_docs`\n",
        "        embedded_docs.append(chunk_doc)"
      ]
    },
    {
      "cell_type": "code",
      "execution_count": null,
      "metadata": {},
      "outputs": [
        {
          "data": {
            "text/plain": [
              "101"
            ]
          },
          "execution_count": 108,
          "metadata": {},
          "output_type": "execute_result"
        }
      ],
      "source": [
        "# Notice that the length of `embedded_docs` is greater than the length of `docs` from Step 2 above\n",
        "# This is because each document in `docs` has been split into multiple chunks\n",
        "len(embedded_docs)"
      ]
    },
    {
      "cell_type": "code",
      "execution_count": null,
      "metadata": {},
      "outputs": [
        {
          "data": {
            "text/plain": [
              "{'updated': '2024-05-20T17:30:49.148Z',\n",
              " 'metadata': {'contentType': None,\n",
              "  'productName': 'MongoDB Atlas',\n",
              "  'tags': ['atlas', 'docs'],\n",
              "  'version': None},\n",
              " 'action': 'created',\n",
              " 'sourceName': 'snooty-cloud-docs',\n",
              " 'body': '# View Database Access History\\n\\n- This feature is not available for `M0` free clusters, `M2`, and `M5` clusters. To learn more, see Atlas M0 (Free Cluster), M2, and M5 Limits.\\n\\n- This feature is not supported on Serverless instances at this time. To learn more, see Serverless Instance Limitations.\\n\\n## Overview\\n\\nAtlas parses the MongoDB database logs to collect a list of authentication requests made against your clusters through the following methods:\\n\\n- `mongosh`\\n\\n- Compass\\n\\n- Drivers\\n\\nAuthentication requests made with API Keys through the Atlas Administration API are not logged.\\n\\nAtlas logs the following information for each authentication request within the last 7 days:\\n\\n<table>\\n<tr>\\n<th id=\"Field\">\\nField\\n\\n</th>\\n<th id=\"Description\">\\nDescription\\n\\n</th>\\n</tr>\\n<tr>\\n<td headers=\"Field\">\\nTimestamp',\n",
              " 'url': 'https://mongodb.com/docs/atlas/access-tracking/',\n",
              " 'format': 'md',\n",
              " 'title': 'View Database Access History',\n",
              " 'embedding': [-0.0273362435400486,\n",
              "  0.03326879069209099,\n",
              "  -0.043970637023448944,\n",
              "  -0.012563038617372513,\n",
              "  0.005263680592179298,\n",
              "  -0.014773203060030937,\n",
              "  -0.06793347001075745,\n",
              "  0.01395893283188343,\n",
              "  -0.007561088539659977,\n",
              "  0.015587474219501019,\n",
              "  0.001962974900379777,\n",
              "  0.036060575395822525,\n",
              "  0.054439838975667953,\n",
              "  -0.03350143879652023,\n",
              "  -0.032105542719364166,\n",
              "  0.019542505964636803,\n",
              "  0.004769301973283291,\n",
              "  0.010294713079929352,\n",
              "  0.029779057949781418,\n",
              "  0.0262893233448267,\n",
              "  0.04722772166132927,\n",
              "  -0.03815441578626633,\n",
              "  -0.008084548637270927,\n",
              "  0.10096961259841919,\n",
              "  -0.00012904741743113846,\n",
              "  -0.014482391998171806,\n",
              "  0.07072525471448898,\n",
              "  -0.018262935802340508,\n",
              "  -0.039085011929273605,\n",
              "  0.050484806299209595,\n",
              "  -0.036060575395822525,\n",
              "  0.04722772166132927,\n",
              "  0.0184955857694149,\n",
              "  -0.008782494813203812,\n",
              "  0.015122177079319954,\n",
              "  0.029430082067847252,\n",
              "  0.006339681800454855,\n",
              "  0.04722772166132927,\n",
              "  -0.0006397844408638775,\n",
              "  -0.0164017453789711,\n",
              "  -0.031640246510505676,\n",
              "  -0.017564989626407623,\n",
              "  -0.0262893233448267,\n",
              "  0.0262893233448267,\n",
              "  0.01791396364569664,\n",
              "  -0.04234209656715393,\n",
              "  -0.022450614720582962,\n",
              "  0.02396283484995365,\n",
              "  -0.029662732034921646,\n",
              "  0.014598716050386429,\n",
              "  -0.05699897184967995,\n",
              "  -0.0369911715388298,\n",
              "  0.025009753182530403,\n",
              "  -0.013493634760379791,\n",
              "  0.0874759703874588,\n",
              "  -0.09864312410354614,\n",
              "  -0.01930985599756241,\n",
              "  -0.05653367564082146,\n",
              "  0.022101642563939095,\n",
              "  0.009887577034533024,\n",
              "  -0.07351704686880112,\n",
              "  0.05769691988825798,\n",
              "  -0.07351704686880112,\n",
              "  0.0136681217700243,\n",
              "  -0.061884600669145584,\n",
              "  -0.053509242832660675,\n",
              "  0.0416441485285759,\n",
              "  0.010527361184358597,\n",
              "  0.025475051254034042,\n",
              "  -0.012504876591265202,\n",
              "  -0.018030287697911263,\n",
              "  -0.04117885231971741,\n",
              "  0.032570842653512955,\n",
              "  0.0739823430776596,\n",
              "  0.012272228486835957,\n",
              "  -0.032105542719364166,\n",
              "  0.02535872720181942,\n",
              "  -0.021054722368717194,\n",
              "  -0.003576976479962468,\n",
              "  -0.02338121272623539,\n",
              "  -0.005990708712488413,\n",
              "  -0.025475051254034042,\n",
              "  -0.013028336688876152,\n",
              "  -0.03861971199512482,\n",
              "  -0.019077207893133163,\n",
              "  -0.055370431393384933,\n",
              "  -0.01314466167241335,\n",
              "  0.02140369638800621,\n",
              "  -0.02884845994412899,\n",
              "  0.030477004125714302,\n",
              "  5.566305844695307e-05,\n",
              "  0.005583572667092085,\n",
              "  0.043505337089300156,\n",
              "  -0.0005343654192984104,\n",
              "  0.0026172997895628214,\n",
              "  0.04280739277601242,\n",
              "  -0.0786353200674057,\n",
              "  0.032570842653512955,\n",
              "  -0.08980245888233185,\n",
              "  -0.009015143848955631,\n",
              "  -0.0011050821049138904,\n",
              "  -0.01791396364569664,\n",
              "  -0.0015049474313855171,\n",
              "  0.0030535163823515177,\n",
              "  0.0049728695303201675,\n",
              "  0.006368762813508511,\n",
              "  -0.018262935802340508,\n",
              "  0.023497536778450012,\n",
              "  0.025126077234745026,\n",
              "  0.023730184882879257,\n",
              "  -0.02582402341067791,\n",
              "  -0.0656069815158844,\n",
              "  -0.030709652230143547,\n",
              "  0.011225307360291481,\n",
              "  0.015122177079319954,\n",
              "  -0.00607795175164938,\n",
              "  -0.061419304460287094,\n",
              "  -0.015820123255252838,\n",
              "  -0.0041585988365113735,\n",
              "  -0.018728233873844147,\n",
              "  0.033036138862371445,\n",
              "  -0.0064560058526694775,\n",
              "  -0.00948044192045927,\n",
              "  0.03443203493952751,\n",
              "  0.002849948825314641,\n",
              "  0.049554210156202316,\n",
              "  -0.030709652230143547,\n",
              "  0.015005853027105331,\n",
              "  -0.0369911715388298,\n",
              "  -0.030011706054210663,\n",
              "  0.04327268898487091,\n",
              "  0.0546724870800972,\n",
              "  -0.014656879007816315,\n",
              "  -0.006921303924173117,\n",
              "  -0.04117885231971741,\n",
              "  -0.031174948439002037,\n",
              "  0.005496329627931118,\n",
              "  -0.029546406120061874,\n",
              "  -0.0007052168366499245,\n",
              "  -0.007386601530015469,\n",
              "  0.02082207426428795,\n",
              "  0.013726283796131611,\n",
              "  0.007270277012139559,\n",
              "  0.016750719398260117,\n",
              "  0.07537823915481567,\n",
              "  -0.005292762070894241,\n",
              "  0.029081108048558235,\n",
              "  0.0369911715388298,\n",
              "  -0.05025215446949005,\n",
              "  0.0070376284420490265,\n",
              "  0.11539383977651596,\n",
              "  -0.007124871481209993,\n",
              "  0.03326879069209099,\n",
              "  -0.02535872720181942,\n",
              "  0.044901229441165924,\n",
              "  0.0567663237452507,\n",
              "  0.028964783996343613,\n",
              "  -0.025940347462892532,\n",
              "  -0.03512997925281525,\n",
              "  0.004885626491159201,\n",
              "  0.028615811839699745,\n",
              "  0.04513387754559517,\n",
              "  -0.028034189715981483,\n",
              "  -0.03466468304395676,\n",
              "  0.059558115899562836,\n",
              "  0.051415398716926575,\n",
              "  -0.01221406552940607,\n",
              "  0.07723942399024963,\n",
              "  -0.12283860892057419,\n",
              "  -0.03582792729139328,\n",
              "  0.019542505964636803,\n",
              "  0.03396673500537872,\n",
              "  0.040015604346990585,\n",
              "  -0.01896088384091854,\n",
              "  -0.049554210156202316,\n",
              "  -0.0020502181723713875,\n",
              "  -0.040480904281139374,\n",
              "  -0.024079158902168274,\n",
              "  0.013726283796131611,\n",
              "  0.03536262735724449,\n",
              "  0.005234599579125643,\n",
              "  0.0038968685548752546,\n",
              "  0.016634395346045494,\n",
              "  0.06328049302101135,\n",
              "  -0.04141150042414665,\n",
              "  -0.012737525627017021,\n",
              "  0.03326879069209099,\n",
              "  0.04839096590876579,\n",
              "  0.05513778328895569,\n",
              "  -0.04513387754559517,\n",
              "  -0.024544456973671913,\n",
              "  -0.014191580936312675,\n",
              "  -0.06746817380189896,\n",
              "  -0.054439838975667953,\n",
              "  0.000361696322215721,\n",
              "  0.05374189093708992,\n",
              "  0.03350143879652023,\n",
              "  0.03559527546167374,\n",
              "  -0.003402489935979247,\n",
              "  -0.024079158902168274,\n",
              "  0.039085011929273605,\n",
              "  0.08096180856227875,\n",
              "  -0.057929567992687225,\n",
              "  0.009829415008425713,\n",
              "  -0.019658830016851425,\n",
              "  -0.018611909821629524,\n",
              "  -0.009945739060640335,\n",
              "  -0.00028717596433125436,\n",
              "  -0.013784445822238922,\n",
              "  -0.06467638909816742,\n",
              "  0.004187679849565029,\n",
              "  0.013086499646306038,\n",
              "  -0.03443203493952751,\n",
              "  0.021985318511724472,\n",
              "  0.019658830016851425,\n",
              "  0.033036138862371445,\n",
              "  0.017448665574193,\n",
              "  -0.0037223822437226772,\n",
              "  -0.010818172246217728,\n",
              "  -0.05327659472823143,\n",
              "  -0.006804979871958494,\n",
              "  -0.02931375801563263,\n",
              "  0.01221406552940607,\n",
              "  -0.01093449629843235,\n",
              "  -0.05025215446949005,\n",
              "  0.00895698182284832,\n",
              "  -0.021752668544650078,\n",
              "  -0.11678972840309143,\n",
              "  0.021054722368717194,\n",
              "  -0.011283469386398792,\n",
              "  -0.01686704345047474,\n",
              "  -0.00436216639354825,\n",
              "  -0.0027336240746080875,\n",
              "  -0.05118275061249733,\n",
              "  -0.007793737109750509,\n",
              "  0.04466858133673668,\n",
              "  -0.06421108543872833,\n",
              "  -0.0020502181723713875,\n",
              "  -0.01698336750268936,\n",
              "  -0.04234209656715393,\n",
              "  -0.05513778328895569,\n",
              "  -0.05025215446949005,\n",
              "  -0.01896088384091854,\n",
              "  -0.05025215446949005,\n",
              "  0.046995073556900024,\n",
              "  -0.0006615952588617802,\n",
              "  -0.0032716249115765095,\n",
              "  0.02535872720181942,\n",
              "  -0.011690606363117695,\n",
              "  0.062349896878004074,\n",
              "  0.05723162367939949,\n",
              "  -0.0014322446659207344,\n",
              "  0.028034189715981483,\n",
              "  0.06281519681215286,\n",
              "  -0.05513778328895569,\n",
              "  0.015703799203038216,\n",
              "  -0.039085011929273605,\n",
              "  -0.0027772458270192146,\n",
              "  0.017216017469763756,\n",
              "  -0.017216017469763756,\n",
              "  0.0037805442698299885,\n",
              "  0.0006070681265555322,\n",
              "  -0.0013886229135096073,\n",
              "  -0.009131467901170254,\n",
              "  -0.022683266550302505,\n",
              "  -0.008549846708774567,\n",
              "  -0.03536262735724449,\n",
              "  -0.0038096255157142878,\n",
              "  0.03722381964325905,\n",
              "  0.050950102508068085,\n",
              "  0.015587474219501019,\n",
              "  0.010352875106036663,\n",
              "  -0.04722772166132927,\n",
              "  0.0164017453789711,\n",
              "  -0.01023655105382204,\n",
              "  -0.040480904281139374,\n",
              "  0.026754621416330338,\n",
              "  0.0056126536801457405,\n",
              "  0.02082207426428795,\n",
              "  -0.059558115899562836,\n",
              "  -0.012039579451084137,\n",
              "  -0.0031698409002274275,\n",
              "  -0.009713090024888515,\n",
              "  0.02582402341067791,\n",
              "  -0.024777105078101158,\n",
              "  -0.02291591465473175,\n",
              "  -0.06467638909816742,\n",
              "  0.004071355331689119,\n",
              "  0.03722381964325905,\n",
              "  0.020007802173495293,\n",
              "  -0.019077207893133163,\n",
              "  0.020124128088355064,\n",
              "  0.014482391998171806,\n",
              "  -0.011923255398869514,\n",
              "  0.044901229441165924,\n",
              "  -0.015238502062857151,\n",
              "  0.03629322350025177,\n",
              "  -0.02233429066836834,\n",
              "  -0.0011341632343828678,\n",
              "  0.013900769874453545,\n",
              "  -0.023613860830664635,\n",
              "  -0.03815441578626633,\n",
              "  -0.03233819454908371,\n",
              "  0.06281519681215286,\n",
              "  0.051880694925785065,\n",
              "  0.03722381964325905,\n",
              "  -0.0010469199623912573,\n",
              "  -0.00010405584907857701,\n",
              "  -0.009073305875062943,\n",
              "  0.007502926513552666,\n",
              "  -0.033036138862371445,\n",
              "  -3.680578083731234e-05,\n",
              "  -0.01791396364569664,\n",
              "  -0.05327659472823143,\n",
              "  0.05513778328895569,\n",
              "  0.04024825617671013,\n",
              "  -0.025475051254034042,\n",
              "  -0.016518069431185722,\n",
              "  -0.016634395346045494,\n",
              "  0.0744476392865181,\n",
              "  0.049088913947343826,\n",
              "  0.043040040880441666,\n",
              "  0.03233819454908371,\n",
              "  0.0002580948348622769,\n",
              "  0.005409086123108864,\n",
              "  0.012853849679231644,\n",
              "  -0.02035677619278431,\n",
              "  -0.046529777348041534,\n",
              "  -0.01837926171720028,\n",
              "  -0.040015604346990585,\n",
              "  0.020124128088355064,\n",
              "  -0.01593644730746746,\n",
              "  -0.024195482954382896,\n",
              "  0.016052771359682083,\n",
              "  -0.054905135184526443,\n",
              "  -0.0006506898207589984,\n",
              "  0.02826683782041073,\n",
              "  0.04536653310060501,\n",
              "  0.04932156205177307,\n",
              "  0.0026463810354471207,\n",
              "  0.01791396364569664,\n",
              "  0.040015604346990585,\n",
              "  0.006485086865723133,\n",
              "  -0.044435933232307434,\n",
              "  0.023613860830664635,\n",
              "  -0.04978685826063156,\n",
              "  0.0020356776658445597,\n",
              "  0.021752668544650078,\n",
              "  0.009771252982318401,\n",
              "  -0.0416441485285759,\n",
              "  0.010643686167895794,\n",
              "  -0.04885626211762428,\n",
              "  0.008549846708774567,\n",
              "  -0.004449409432709217,\n",
              "  -0.027685215696692467,\n",
              "  -0.007357520516961813,\n",
              "  0.03582792729139328,\n",
              "  0.004333085380494595,\n",
              "  0.036525871604681015,\n",
              "  0.004129517357796431,\n",
              "  -0.06932936608791351,\n",
              "  -0.036060575395822525,\n",
              "  -0.024195482954382896,\n",
              "  -0.011225307360291481,\n",
              "  0.004129517357796431,\n",
              "  0.00607795175164938,\n",
              "  0.011748768389225006,\n",
              "  0.040015604346990585,\n",
              "  -0.030011706054210663,\n",
              "  0.05118275061249733,\n",
              "  0.03396673500537872,\n",
              "  -0.05234599858522415,\n",
              "  0.03978295624256134,\n",
              "  0.06328049302101135,\n",
              "  -0.009364116936922073,\n",
              "  0.0273362435400486,\n",
              "  -0.005728978663682938,\n",
              "  0.051880694925785065,\n",
              "  -0.004856545012444258,\n",
              "  0.01116714533418417,\n",
              "  0.01989147812128067,\n",
              "  -0.07584353536367416,\n",
              "  0.03140759840607643,\n",
              "  0.028034189715981483,\n",
              "  0.0029808138497173786,\n",
              "  -0.06514168530702591,\n",
              "  -0.021985318511724472,\n",
              "  -0.04187679663300514,\n",
              "  0.0034315709490329027,\n",
              "  0.07910061627626419,\n",
              "  -0.016518069431185722,\n",
              "  0.002195623703300953,\n",
              "  0.01023655105382204,\n",
              "  0.00924779288470745,\n",
              "  0.03350143879652023,\n",
              "  -0.04839096590876579,\n",
              "  0.0013886229135096073,\n",
              "  0.014191580936312675,\n",
              "  -0.04024825617671013,\n",
              "  0.012330390512943268,\n",
              "  0.008782494813203812,\n",
              "  0.0037805442698299885,\n",
              "  0.04420328512787819,\n",
              "  -0.030942300334572792,\n",
              "  0.021287372335791588,\n",
              "  -0.002181083196774125,\n",
              "  -0.00918963085860014,\n",
              "  -0.029430082067847252,\n",
              "  -0.027452567592263222,\n",
              "  -0.040480904281139374,\n",
              "  -0.06886406987905502,\n",
              "  0.03675852343440056,\n",
              "  0.03582792729139328,\n",
              "  0.0008251765393652022,\n",
              "  -0.036525871604681015,\n",
              "  -0.0003853247035294771,\n",
              "  0.011923255398869514,\n",
              "  0.036060575395822525,\n",
              "  0.031174948439002037,\n",
              "  0.043505337089300156,\n",
              "  -0.006426924839615822,\n",
              "  -0.03745646774768829,\n",
              "  0.027685215696692467,\n",
              "  0.005031032022088766,\n",
              "  -0.013086499646306038,\n",
              "  0.005787141155451536,\n",
              "  0.019542505964636803,\n",
              "  -0.011806930415332317,\n",
              "  -0.03815441578626633,\n",
              "  -0.014191580936312675,\n",
              "  -0.039085011929273605,\n",
              "  -0.03931766003370285,\n",
              "  -0.028732135891914368,\n",
              "  0.0019338937709107995,\n",
              "  0.0016067312099039555,\n",
              "  -0.019775154069066048,\n",
              "  0.01221406552940607,\n",
              "  0.03978295624256134,\n",
              "  -0.0262893233448267,\n",
              "  0.011690606363117695,\n",
              "  0.0072121149860322475,\n",
              "  0.006165195256471634,\n",
              "  0.006426924839615822,\n",
              "  -0.008898818865418434,\n",
              "  0.03187289461493492,\n",
              "  0.012504876591265202,\n",
              "  0.022101642563939095,\n",
              "  -0.020705750212073326,\n",
              "  -0.050019506365060806,\n",
              "  0.04187679663300514,\n",
              "  -0.002413731999695301,\n",
              "  -0.025126077234745026,\n",
              "  -0.0416441485285759,\n",
              "  -0.025707699358463287,\n",
              "  0.0076192510314285755,\n",
              "  0.03512997925281525,\n",
              "  0.011516119353473186,\n",
              "  -0.017448665574193,\n",
              "  -0.007910061627626419,\n",
              "  0.011748768389225006,\n",
              "  -0.004740220960229635,\n",
              "  -0.0369911715388298,\n",
              "  0.0033297871705144644,\n",
              "  -0.040015604346990585,\n",
              "  -0.0021083804313093424,\n",
              "  -0.023148564621806145,\n",
              "  0.039085011929273605,\n",
              "  -0.03815441578626633,\n",
              "  -0.03885236009955406,\n",
              "  0.0029371920973062515,\n",
              "  0.010527361184358597,\n",
              "  0.014598716050386429,\n",
              "  -0.017216017469763756,\n",
              "  0.02384651079773903,\n",
              "  0.011399795301258564,\n",
              "  0.044901229441165924,\n",
              "  0.010411037132143974,\n",
              "  -0.026056673377752304,\n",
              "  0.027452567592263222,\n",
              "  -0.021520020440220833,\n",
              "  0.031174948439002037,\n",
              "  -0.03861971199512482,\n",
              "  0.023148564621806145,\n",
              "  -0.02640564925968647,\n",
              "  -0.012388552539050579,\n",
              "  0.01267936360090971,\n",
              "  -0.013202824629843235,\n",
              "  0.004827463999390602,\n",
              "  -0.025009753182530403,\n",
              "  0.030011706054210663,\n",
              "  -0.007502926513552666,\n",
              "  -0.010178388096392155,\n",
              "  -0.0024428132455796003,\n",
              "  0.0033152466639876366,\n",
              "  0.00016449001850560308,\n",
              "  0.007735575083643198,\n",
              "  -0.01343547273427248,\n",
              "  -0.023032238706946373,\n",
              "  -0.017216017469763756,\n",
              "  0.00895698182284832,\n",
              "  -0.015354826115071774,\n",
              "  0.00255913776345551,\n",
              "  0.002631840296089649,\n",
              "  0.011341633275151253,\n",
              "  0.050484806299209595,\n",
              "  0.032105542719364166,\n",
              "  -0.009887577034533024,\n",
              "  -0.05025215446949005,\n",
              "  -0.06607227772474289,\n",
              "  -0.004856545012444258,\n",
              "  0.03536262735724449,\n",
              "  -0.01930985599756241,\n",
              "  0.026172999292612076,\n",
              "  0.004042274318635464,\n",
              "  0.012970173731446266,\n",
              "  -0.012504876591265202,\n",
              "  0.005031032022088766,\n",
              "  0.011923255398869514,\n",
              "  0.03140759840607643,\n",
              "  0.015354826115071774,\n",
              "  -0.04187679663300514,\n",
              "  -0.02035677619278431,\n",
              "  0.00948044192045927,\n",
              "  0.013609959743916988,\n",
              "  -0.007270277012139559,\n",
              "  0.02826683782041073,\n",
              "  0.013377310708165169,\n",
              "  0.032570842653512955,\n",
              "  0.05862751603126526,\n",
              "  0.030942300334572792,\n",
              "  0.028499485924839973,\n",
              "  -0.01930985599756241,\n",
              "  -0.011225307360291481,\n",
              "  -0.0018902721349149942,\n",
              "  -0.010062064044177532,\n",
              "  -0.021636344492435455,\n",
              "  -0.0273362435400486,\n",
              "  0.021171048283576965,\n",
              "  -0.0037223822437226772,\n",
              "  -0.042574744671583176,\n",
              "  -0.016634395346045494,\n",
              "  0.03629322350025177,\n",
              "  -0.0005743519286625087,\n",
              "  -0.015587474219501019,\n",
              "  -0.05164804682135582,\n",
              "  -0.04327268898487091,\n",
              "  -0.021171048283576965,\n",
              "  -0.023613860830664635,\n",
              "  -0.032570842653512955,\n",
              "  -0.0007415682775899768,\n",
              "  -0.007561088539659977,\n",
              "  -0.004216760862618685,\n",
              "  -0.010352875106036663,\n",
              "  0.0479256696999073,\n",
              "  0.01733234152197838,\n",
              "  0.04722772166132927,\n",
              "  -0.0012214066227898002,\n",
              "  -0.04117885231971741,\n",
              "  0.0013813526602461934,\n",
              "  -0.04234209656715393,\n",
              "  -0.060023412108421326,\n",
              "  0.030011706054210663,\n",
              "  -0.023730184882879257,\n",
              "  -0.002893570577725768,\n",
              "  -0.01314466167241335,\n",
              "  0.028964783996343613,\n",
              "  0.00820087268948555,\n",
              "  -0.022450614720582962,\n",
              "  -0.06374578922986984,\n",
              "  -0.03419938683509827,\n",
              "  0.05653367564082146,\n",
              "  0.025126077234745026,\n",
              "  0.02431180700659752,\n",
              "  -0.0047983829863369465,\n",
              "  -0.0010469199623912573,\n",
              "  0.0006216086912900209,\n",
              "  -0.008840656839311123,\n",
              "  -0.00924779288470745,\n",
              "  -0.015122177079319954,\n",
              "  -0.02140369638800621,\n",
              "  -0.016634395346045494,\n",
              "  0.014715041033923626,\n",
              "  0.03838706389069557,\n",
              "  0.015005853027105331,\n",
              "  -0.0007415682775899768,\n",
              "  0.0039550308138132095,\n",
              "  0.016052771359682083,\n",
              "  -0.047460369765758514,\n",
              "  -0.02291591465473175,\n",
              "  -0.016169097274541855,\n",
              "  0.0012068659998476505,\n",
              "  -0.013377310708165169,\n",
              "  -0.012970173731446266,\n",
              "  0.01093449629843235,\n",
              "  -0.014307905919849873,\n",
              "  -0.030709652230143547,\n",
              "  -0.0026609215419739485,\n",
              "  0.0049728695303201675,\n",
              "  -0.0020647586788982153,\n",
              "  0.01791396364569664,\n",
              "  0.0012068659998476505,\n",
              "  0.008259034715592861,\n",
              "  0.03187289461493492,\n",
              "  -0.026638297364115715,\n",
              "  -0.05909281224012375,\n",
              "  0.005787141155451536,\n",
              "  -0.0458318293094635,\n",
              "  -0.018262935802340508,\n",
              "  0.014773203060030937,\n",
              "  0.040480904281139374,\n",
              "  -0.009829415008425713,\n",
              "  0.03559527546167374,\n",
              "  0.05025215446949005,\n",
              "  -0.059558115899562836,\n",
              "  0.01884455978870392,\n",
              "  0.006426924839615822,\n",
              "  -0.01942618004977703,\n",
              "  -0.006892222911119461,\n",
              "  0.011923255398869514,\n",
              "  -0.009538603946566582,\n",
              "  -0.030477004125714302,\n",
              "  -0.01930985599756241,\n",
              "  0.011341633275151253,\n",
              "  -0.06281519681215286,\n",
              "  0.014424229972064495,\n",
              "  0.006397843826562166,\n",
              "  0.007299358025193214,\n",
              "  -0.021752668544650078,\n",
              "  -0.011574282310903072,\n",
              "  0.010992659255862236,\n",
              "  -0.020589426159858704,\n",
              "  -0.07305174320936203,\n",
              "  0.017448665574193,\n",
              "  0.010760010220110416,\n",
              "  0.0019193532643839717,\n",
              "  0.027219919487833977,\n",
              "  0.0437379851937294,\n",
              "  0.014249742962419987,\n",
              "  0.02082207426428795,\n",
              "  -0.0458318293094635,\n",
              "  0.025009753182530403,\n",
              "  -0.010469199158251286,\n",
              "  0.025940347462892532,\n",
              "  -0.012388552539050579,\n",
              "  0.04210944473743439,\n",
              "  -0.024660781025886536,\n",
              "  0.01837926171720028,\n",
              "  -0.009887577034533024,\n",
              "  -0.009131467901170254,\n",
              "  0.0262893233448267,\n",
              "  0.01215590350329876,\n",
              "  -0.016285421326756477,\n",
              "  0.04327268898487091,\n",
              "  0.049554210156202316,\n",
              "  -0.0416441485285759,\n",
              "  0.0013886229135096073,\n",
              "  -0.060023412108421326,\n",
              "  0.0025445970240980387,\n",
              "  0.0437379851937294,\n",
              "  0.019193531945347786,\n",
              "  0.03466468304395676,\n",
              "  0.06281519681215286,\n",
              "  0.0006325141293928027,\n",
              "  -0.0038968685548752546,\n",
              "  0.008084548637270927,\n",
              "  -0.03885236009955406,\n",
              "  0.005641734693199396,\n",
              "  0.02838316187262535,\n",
              "  -0.012330390512943268,\n",
              "  0.0184955857694149,\n",
              "  0.015122177079319954,\n",
              "  -0.043505337089300156,\n",
              "  -0.0458318293094635,\n",
              "  0.0070376284420490265,\n",
              "  0.013551796786487103,\n",
              "  -0.02431180700659752,\n",
              "  0.054905135184526443,\n",
              "  -0.004187679849565029,\n",
              "  -0.02489342913031578,\n",
              "  -0.021171048283576965,\n",
              "  0.03745646774768829,\n",
              "  -0.005031032022088766,\n",
              "  0.005205518566071987,\n",
              "  0.0546724870800972,\n",
              "  0.020589426159858704,\n",
              "  0.030477004125714302,\n",
              "  -0.030942300334572792,\n",
              "  -0.05583573132753372,\n",
              "  0.006659574341028929,\n",
              "  0.042574744671583176,\n",
              "  0.0011705146171152592,\n",
              "  0.027103593572974205,\n",
              "  -0.0051764375530183315,\n",
              "  0.027103593572974205,\n",
              "  0.0027190835680812597,\n",
              "  -0.08840657025575638,\n",
              "  -0.032570842653512955,\n",
              "  0.031640246510505676,\n",
              "  0.03722381964325905,\n",
              "  0.016634395346045494,\n",
              "  0.017448665574193,\n",
              "  0.03187289461493492,\n",
              "  -0.02489342913031578,\n",
              "  -0.0164017453789711,\n",
              "  -0.015122177079319954,\n",
              "  0.03861971199512482,\n",
              "  0.000843352172523737,\n",
              "  -0.01930985599756241,\n",
              "  0.008375359699130058,\n",
              "  0.003984111826866865,\n",
              "  0.030011706054210663,\n",
              "  0.003751463256776333,\n",
              "  0.03536262735724449,\n",
              "  -0.014773203060030937,\n",
              "  -0.01791396364569664,\n",
              "  -0.0832882970571518,\n",
              "  -0.032570842653512955,\n",
              "  0.0958513393998146,\n",
              "  0.04536653310060501,\n",
              "  -0.0328034907579422,\n",
              "  0.01779763773083687,\n",
              "  0.008549846708774567,\n",
              "  -0.029430082067847252,\n",
              "  -0.01837926171720028,\n",
              "  -0.0019193532643839717,\n",
              "  0.032105542719364166,\n",
              "  0.02780153974890709,\n",
              "  0.0136681217700243,\n",
              "  0.024079158902168274,\n",
              "  0.00424584187567234,\n",
              "  -0.017216017469763756,\n",
              "  -0.014424229972064495,\n",
              "  -0.06607227772474289,\n",
              "  0.00866617076098919,\n",
              "  0.02931375801563263,\n",
              "  0.03419938683509827,\n",
              "  0.013028336688876152,\n",
              "  -0.00424584187567234,\n",
              "  0.01942618004977703,\n",
              "  -0.0164017453789711,\n",
              "  -0.026987269520759583,\n",
              "  -0.004013192839920521,\n",
              "  -0.03373408690094948,\n",
              "  0.04210944473743439,\n",
              "  0.03768911957740784,\n",
              "  0.025707699358463287,\n",
              "  -0.018728233873844147,\n",
              "  0.00849168375134468,\n",
              "  0.03443203493952751,\n",
              "  -0.0008869738085195422,\n",
              "  -0.02396283484995365,\n",
              "  0.014831366017460823,\n",
              "  -0.021520020440220833,\n",
              "  -0.010062064044177532,\n",
              "  -0.040480904281139374,\n",
              "  0.011806930415332317,\n",
              "  0.012388552539050579,\n",
              "  0.016052771359682083,\n",
              "  0.046995073556900024,\n",
              "  0.013028336688876152,\n",
              "  -0.02384651079773903,\n",
              "  -0.0006797708920203149,\n",
              "  0.012737525627017021,\n",
              "  -0.032105542719364166,\n",
              "  -0.01023655105382204,\n",
              "  0.030477004125714302,\n",
              "  0.018728233873844147,\n",
              "  0.005321843083947897,\n",
              "  -0.0437379851937294,\n",
              "  -0.02338121272623539,\n",
              "  -0.0034315709490329027,\n",
              "  -0.04141150042414665,\n",
              "  -0.004187679849565029,\n",
              "  0.03582792729139328,\n",
              "  -0.05025215446949005,\n",
              "  0.024660781025886536,\n",
              "  -0.0136681217700243,\n",
              "  0.002762705320492387,\n",
              "  -0.023032238706946373,\n",
              "  0.011690606363117695,\n",
              "  -0.018262935802340508,\n",
              "  -0.043970637023448944,\n",
              "  0.011806930415332317,\n",
              "  0.0032425434328615665,\n",
              "  0.0002026589645538479,\n",
              "  -0.012388552539050579,\n",
              "  0.009654927998781204,\n",
              "  0.022450614720582962,\n",
              "  0.012737525627017021,\n",
              "  -0.0044203284196555614,\n",
              "  -0.024660781025886536,\n",
              "  -0.05816221609711647,\n",
              "  -0.025242403149604797,\n",
              "  -0.018146611750125885,\n",
              "  0.03373408690094948,\n",
              "  0.017216017469763756,\n",
              "  -0.008317197673022747,\n",
              "  -0.027685215696692467,\n",
              "  0.010178388096392155,\n",
              "  -0.06653758138418198,\n",
              "  0.036060575395822525,\n",
              "  0.05932546406984329,\n",
              "  -0.018262935802340508,\n",
              "  -0.0036642197519540787,\n",
              "  -0.0016067312099039555,\n",
              "  -0.036060575395822525,\n",
              "  0.044435933232307434,\n",
              "  -0.021752668544650078,\n",
              "  -0.06653758138418198,\n",
              "  0.042574744671583176,\n",
              "  0.034897331148386,\n",
              "  0.03768911957740784,\n",
              "  -0.05723162367939949,\n",
              "  -0.02431180700659752,\n",
              "  0.05583573132753372,\n",
              "  -0.030942300334572792,\n",
              "  0.039550308138132095,\n",
              "  0.021287372335791588,\n",
              "  -0.02093839831650257,\n",
              "  -0.05164804682135582,\n",
              "  -0.034897331148386,\n",
              "  0.009713090024888515,\n",
              "  0.00796822365373373,\n",
              "  -0.05909281224012375,\n",
              "  0.00820087268948555,\n",
              "  -0.04885626211762428,\n",
              "  0.025126077234745026,\n",
              "  0.032570842653512955,\n",
              "  0.027219919487833977,\n",
              "  -0.03373408690094948,\n",
              "  0.007124871481209993,\n",
              "  -0.013319148682057858,\n",
              "  0.0009596766321919858,\n",
              "  -0.033036138862371445,\n",
              "  -0.043970637023448944,\n",
              "  0.00040168280247598886,\n",
              "  0.03629322350025177,\n",
              "  -0.0164017453789711,\n",
              "  -0.0328034907579422,\n",
              "  0.009771252982318401,\n",
              "  0.008259034715592861,\n",
              "  -0.0003816895477939397,\n",
              "  -0.004187679849565029,\n",
              "  -0.04210944473743439,\n",
              "  -0.021520020440220833,\n",
              "  0.02396283484995365,\n",
              "  0.007066709455102682,\n",
              "  -0.022799590602517128,\n",
              "  0.006485086865723133,\n",
              "  -0.005147356539964676,\n",
              "  -0.010062064044177532,\n",
              "  0.028034189715981483,\n",
              "  0.008026385679841042,\n",
              "  0.02384651079773903,\n",
              "  0.01267936360090971,\n",
              "  0.014249742962419987,\n",
              "  -0.002530056517571211,\n",
              "  -0.004216760862618685,\n",
              "  0.025707699358463287,\n",
              "  0.031174948439002037,\n",
              "  0.04210944473743439,\n",
              "  -0.01896088384091854,\n",
              "  0.011574282310903072,\n",
              "  -0.02396283484995365,\n",
              "  0.03629322350025177,\n",
              "  0.003925949800759554,\n",
              "  -0.023730184882879257,\n",
              "  -0.008898818865418434,\n",
              "  0.0015994609566405416,\n",
              "  0.0007706494070589542,\n",
              "  -0.026638297364115715,\n",
              "  0.026754621416330338,\n",
              "  0.024544456973671913,\n",
              "  -0.006368762813508511,\n",
              "  -0.0416441485285759,\n",
              "  0.015820123255252838,\n",
              "  0.016518069431185722,\n",
              "  0.02780153974890709,\n",
              "  -0.03396673500537872,\n",
              "  -0.03885236009955406,\n",
              "  -0.015354826115071774,\n",
              "  0.027452567592263222,\n",
              "  0.0003816895477939397,\n",
              "  0.013202824629843235,\n",
              "  0.012621201574802399,\n",
              "  -0.00471113994717598,\n",
              "  0.07770472019910812,\n",
              "  -0.002457353752106428,\n",
              "  -0.021171048283576965,\n",
              "  0.043040040880441666,\n",
              "  -0.03559527546167374,\n",
              "  0.0739823430776596,\n",
              "  -0.012563038617372513,\n",
              "  -0.00918963085860014,\n",
              "  0.008375359699130058,\n",
              "  -0.026754621416330338,\n",
              "  -0.002471894258633256,\n",
              "  -0.00471113994717598,\n",
              "  -0.0273362435400486,\n",
              "  0.033036138862371445,\n",
              "  0.003867787541821599,\n",
              "  0.05025215446949005,\n",
              "  -0.009073305875062943,\n",
              "  -0.014540554024279118,\n",
              "  -0.0369911715388298,\n",
              "  -0.025591375306248665,\n",
              "  -0.0008797035552561283,\n",
              "  -0.049088913947343826,\n",
              "  0.011457957327365875,\n",
              "  -0.02826683782041073,\n",
              "  -0.029546406120061874,\n",
              "  -0.015820123255252838,\n",
              "  0.009829415008425713,\n",
              "  0.04117885231971741,\n",
              "  0.03861971199512482,\n",
              "  0.02640564925968647,\n",
              "  0.007328439503908157,\n",
              "  0.020589426159858704,\n",
              "  0.015122177079319954,\n",
              "  0.01989147812128067,\n",
              "  0.04094620421528816,\n",
              "  0.0025445970240980387,\n",
              "  0.001686704345047474,\n",
              "  -0.016285421326756477,\n",
              "  -0.0328034907579422,\n",
              "  0.008840656839311123,\n",
              "  -0.05699897184967995,\n",
              "  -0.002820867346599698,\n",
              "  0.012853849679231644,\n",
              "  -0.005787141155451536,\n",
              "  -0.00459481542930007,\n",
              "  -0.018611909821629524,\n",
              "  -0.008840656839311123,\n",
              "  -0.000672500638756901,\n",
              "  -0.0020792994182556868,\n",
              "  -0.015005853027105331,\n",
              "  0.021636344492435455,\n",
              "  0.013900769874453545,\n",
              "  0.021287372335791588,\n",
              "  0.022799590602517128,\n",
              "  0.012795687653124332,\n",
              "  0.00055981136392802,\n",
              "  -0.0458318293094635,\n",
              "  -0.00820087268948555,\n",
              "  -0.014773203060030937,\n",
              "  -0.020240452140569687,\n",
              "  -0.0011487038573250175,\n",
              "  -0.06746817380189896,\n",
              "  -0.013319148682057858,\n",
              "  0.04769302159547806,\n",
              "  0.047460369765758514,\n",
              "  -0.040480904281139374,\n",
              "  -0.06374578922986984,\n",
              "  -0.030244354158639908,\n",
              "  -0.05699897184967995,\n",
              "  0.039550308138132095,\n",
              "  -0.03140759840607643,\n",
              "  -0.013202824629843235,\n",
              "  -0.03373408690094948,\n",
              "  -0.030477004125714302,\n",
              "  -0.017564989626407623,\n",
              "  -0.028034189715981483,\n",
              "  0.010585524141788483,\n",
              "  0.0416441485285759,\n",
              "  0.03792176768183708,\n",
              "  -0.009771252982318401,\n",
              "  -0.06328049302101135,\n",
              "  -0.015471150167286396,\n",
              "  0.03326879069209099,\n",
              "  0.00471113994717598,\n",
              "  0.0009378658141940832,\n",
              "  -0.02582402341067791,\n",
              "  -0.00918963085860014,\n",
              "  -0.0416441485285759,\n",
              "  -0.03629322350025177,\n",
              "  0.011516119353473186,\n",
              "  -0.011981417424976826,\n",
              "  -0.054439838975667953,\n",
              "  -0.034897331148386,\n",
              "  -0.0021083804313093424,\n",
              "  0.05583573132753372,\n",
              "  0.01989147812128067,\n",
              "  -0.014656879007816315,\n",
              "  0.05513778328895569,\n",
              "  -0.016634395346045494,\n",
              "  -0.028964783996343613,\n",
              "  -0.027685215696692467,\n",
              "  0.026754621416330338,\n",
              "  0.012504876591265202,\n",
              "  0.01023655105382204,\n",
              "  0.032105542719364166,\n",
              "  -0.012504876591265202,\n",
              "  0.03443203493952751,\n",
              "  0.017564989626407623,\n",
              "  -0.00918963085860014,\n",
              "  -0.029197432100772858,\n",
              "  -0.0023264887277036905,\n",
              "  -0.021287372335791588,\n",
              "  0.0273362435400486,\n",
              "  0.0023119482211768627,\n",
              "  ...]}"
            ]
          },
          "execution_count": 109,
          "metadata": {},
          "output_type": "execute_result"
        }
      ],
      "source": [
        "# Preview a chunked document to understand its structure\n",
        "# Note that the structure looks similar to the original docs, except the `body` field now contains smaller chunks of text\n",
        "# Each document also has an additonal `embedding` field\n",
        "embedded_docs[0]"
      ]
    },
    {
      "cell_type": "markdown",
      "metadata": {},
      "source": [
        "# Step 4: Ingest data into MongoDB\n"
      ]
    },
    {
      "cell_type": "markdown",
      "metadata": {},
      "source": [
        "### **Do not change the values assigned to the variables below**"
      ]
    },
    {
      "cell_type": "code",
      "execution_count": 110,
      "metadata": {},
      "outputs": [],
      "source": [
        "# Name of the database -- Change if needed or leave as is\n",
        "DB_NAME = \"mongodb_genai_devday_rag\"\n",
        "# Name of the collection -- Change if needed or leave as is\n",
        "COLLECTION_NAME = \"knowledge_base\"\n",
        "# Name of the vector search index -- Change if needed or leave as is\n",
        "ATLAS_VECTOR_SEARCH_INDEX_NAME = \"vector_index\""
      ]
    },
    {
      "cell_type": "code",
      "execution_count": 111,
      "metadata": {},
      "outputs": [],
      "source": [
        "# Connect to the `COLLECTION_NAME` collection.\n",
        "collection = mongodb_client[DB_NAME][COLLECTION_NAME]"
      ]
    },
    {
      "cell_type": "code",
      "execution_count": 112,
      "metadata": {},
      "outputs": [
        {
          "data": {
            "text/plain": [
              "DeleteResult({'n': 101, 'electionId': ObjectId('7fffffff0000000000000003'), 'opTime': {'ts': Timestamp(1756158739, 11), 't': 3}, 'ok': 1.0, '$clusterTime': {'clusterTime': Timestamp(1756158739, 11), 'signature': {'hash': b'\\xac_\\x9c\\xd7\\xe6\\x89\\xcfO\\xcd\\x86q\\xae)\\x17v\\x7f\\x00\\xd3&\\x14', 'keyId': 7541088992607862791}}, 'operationTime': Timestamp(1756158739, 11)}, acknowledged=True)"
            ]
          },
          "execution_count": 112,
          "metadata": {},
          "output_type": "execute_result"
        }
      ],
      "source": [
        "# Bulk delete all existing records from the collection defined above\n",
        "collection.delete_many({})"
      ]
    },
    {
      "cell_type": "markdown",
      "metadata": {},
      "source": [
        "📚 https://pymongo.readthedocs.io/en/stable/examples/bulk.html#bulk-insert\n"
      ]
    },
    {
      "cell_type": "code",
      "execution_count": 113,
      "metadata": {},
      "outputs": [
        {
          "name": "stdout",
          "output_type": "stream",
          "text": [
            "Ingested 101 documents into the knowledge_base collection.\n"
          ]
        }
      ],
      "source": [
        "# Bulk insert `embedded_docs` into the `collection` defined above -- should be a one-liner\n",
        "collection.insert_many(embedded_docs)\n",
        "\n",
        "print(f\"Ingested {collection.count_documents({})} documents into the {COLLECTION_NAME} collection.\")"
      ]
    },
    {
      "cell_type": "markdown",
      "metadata": {},
      "source": [
        "# Step 5: Create a vector search index"
      ]
    },
    {
      "cell_type": "code",
      "execution_count": 114,
      "metadata": {},
      "outputs": [],
      "source": [
        "from utils import create_index, check_index_ready"
      ]
    },
    {
      "cell_type": "code",
      "execution_count": 115,
      "metadata": {},
      "outputs": [],
      "source": [
        "# Create vector index definition specifying:\n",
        "# path: Path to the embeddings field\n",
        "# numDimensions: Number of embedding dimensions- depends on the embedding model used\n",
        "# similarity: Similarity metric. One of cosine, euclidean, dotProduct.\n",
        "model = {\n",
        "    \"name\": ATLAS_VECTOR_SEARCH_INDEX_NAME,\n",
        "    \"type\": \"vectorSearch\",\n",
        "    \"definition\": {\n",
        "        \"fields\": [\n",
        "            {\n",
        "                \"type\": \"vector\",\n",
        "                \"path\": \"embedding\",\n",
        "                \"numDimensions\": 1024,\n",
        "                \"similarity\": \"cosine\",\n",
        "            }\n",
        "        ]\n",
        "    },\n",
        "}"
      ]
    },
    {
      "cell_type": "markdown",
      "metadata": {},
      "source": [
        "📚 Refer to the `utils.py` script under `notebooks/utils`"
      ]
    },
    {
      "cell_type": "code",
      "execution_count": 86,
      "metadata": {},
      "outputs": [
        {
          "name": "stdout",
          "output_type": "stream",
          "text": [
            "Creating the vector_index index\n",
            "vector_index index already exists, recreating...\n",
            "Dropping vector_index index\n",
            "vector_index index deletion complete\n",
            "Creating new vector_index index\n",
            "Successfully recreated the vector_index index\n"
          ]
        }
      ],
      "source": [
        "# Use the `create_index` function from the `utils` module to create a vector search index with the above definition for the `collection` collection\n",
        "create_index(collection, ATLAS_VECTOR_SEARCH_INDEX_NAME, model)"
      ]
    },
    {
      "cell_type": "code",
      "execution_count": 87,
      "metadata": {},
      "outputs": [
        {
          "name": "stdout",
          "output_type": "stream",
          "text": [
            "vector_index index status: READY\n",
            "vector_index index definition: {'fields': [{'type': 'vector', 'path': 'embedding', 'numDimensions': 1024, 'similarity': 'cosine'}]}\n"
          ]
        }
      ],
      "source": [
        "# Use the `check_index_ready` function from the `utils` module to verify that the index was created and is in READY status before proceeding\n",
        "check_index_ready(collection, ATLAS_VECTOR_SEARCH_INDEX_NAME)"
      ]
    },
    {
      "cell_type": "code",
      "execution_count": 72,
      "metadata": {},
      "outputs": [
        {
          "name": "stdout",
          "output_type": "stream",
          "text": [
            "Tracking progress for task vs_index_creation\n"
          ]
        }
      ],
      "source": [
        "# Track progress of key steps-- DO NOT CHANGE\n",
        "track_progress(\"vs_index_creation\", \"ai_rag_lab\")"
      ]
    },
    {
      "cell_type": "markdown",
      "metadata": {},
      "source": [
        "# Step 6: Perform vector search on your data\n"
      ]
    },
    {
      "cell_type": "markdown",
      "metadata": {},
      "source": [
        "### Define a vector search function\n",
        "\n",
        "📚 https://www.mongodb.com/docs/atlas/atlas-vector-search/vector-search-stage/#ann-examples (Refer to the \"Basic Example\")\n"
      ]
    },
    {
      "cell_type": "code",
      "execution_count": 134,
      "metadata": {},
      "outputs": [],
      "source": [
        "# Define a function to retrieve relevant documents for a user query using vector search\n",
        "def vector_search(user_query: str) -> List[Dict]:\n",
        "    \"\"\"\n",
        "    Retrieve relevant documents for a user query using vector search.\n",
        "\n",
        "    Args:\n",
        "    user_query (str): The user's query string.\n",
        "\n",
        "    Returns:\n",
        "    list: A list of matching documents.\n",
        "    \"\"\"\n",
        "\n",
        "    # Generate embedding for the `user_query` using the `get_embeddings` function defined in Step 3\n",
        "    # NOTE: Wrap the user_query in a list since the function expects a list of strings\n",
        "    # `input_type` should be set to \"query\" since we are embedding the query\n",
        "    query_embedding = get_embeddings([user_query], \"query\")\n",
        "\n",
        "    # Define an aggregation pipeline consisting of a $vectorSearch stage, followed by a $project stage\n",
        "    # Set the number of candidates to 150 and only return the top 5 documents from the vector search\n",
        "    # In the $project stage, exclude the `_id` field and include these fields: `body`, `metadata.productName`, `metadata.contentType`, `updated` and the `vectorSearchScore`\n",
        "    # NOTE: Use variables defined previously for the `index`, `queryVector` and `path` fields in the $vectorSearch stage\n",
        "    pipeline = [\n",
        "        {\n",
        "            \"$vectorSearch\": {\n",
        "                \"index\": ATLAS_VECTOR_SEARCH_INDEX_NAME,\n",
        "                \"queryVector\": query_embedding,\n",
        "                \"path\": \"embedding\",\n",
        "                \"numCandidates\": 150,\n",
        "                \"limit\": 5\n",
        "            }\n",
        "        },\n",
        "        {\n",
        "            \"$project\": {\n",
        "                \"_id\": 0,\n",
        "                \"body\": 1,\n",
        "                \"metadata.productName\": 1, \n",
        "                \"metadata.contentType\": 1,\n",
        "                \"updated\": 1,\n",
        "                \"score\": {\"$meta\": \"vectorSearchScore\"}\n",
        "            }\n",
        "        }\n",
        "    ]\n",
        "\n",
        "    # Execute the aggregation `pipeline` and store the results in `results`\n",
        "    results = collection.aggregate(pipeline)\n",
        "    return list(results)"
      ]
    },
    {
      "cell_type": "markdown",
      "metadata": {},
      "source": [
        "### Run vector search queries\n"
      ]
    },
    {
      "cell_type": "code",
      "execution_count": 135,
      "metadata": {},
      "outputs": [
        {
          "data": {
            "text/plain": [
              "[{'updated': '2024-05-20T17:31:07.735Z',\n",
              "  'metadata': {'contentType': None, 'productName': 'MongoDB Server'},\n",
              "  'body': '# Backup and Restore Sharded Clusters\\n\\nThe following tutorials describe backup and restoration for sharded clusters:\\n\\nTo use `mongodump` and `mongorestore` as a backup strategy for sharded clusters, you must stop the sharded cluster balancer and use the `fsync` command or the `db.fsyncLock()` method on `mongos` to block writes on the cluster during backups.\\n\\nSharded clusters can also use one of the following coordinated backup and restore processes, which maintain the atomicity guarantees of transactions across shards:\\n\\n- MongoDB Atlas\\n\\n- MongoDB Cloud Manager\\n\\n- MongoDB Ops Manager\\n\\nUse file system snapshots back up each component in the sharded cluster individually. The procedure involves stopping the cluster balancer. If your system configuration allows file system backups, this might be more efficient than using MongoDB tools.\\n\\nCreate backups using `mongodump` to back up each component in the cluster individually.',\n",
              "  'score': 0.8002978563308716},\n",
              " {'updated': '2024-05-20T17:31:07.735Z',\n",
              "  'metadata': {'contentType': None, 'productName': 'MongoDB Server'},\n",
              "  'body': 'Limit the operation of the cluster balancer to provide a window for regular backup operations.\\n\\nAn outline of the procedure and consideration for restoring an *entire* sharded cluster from backup.',\n",
              "  'score': 0.7640905380249023},\n",
              " {'updated': '2024-05-20T17:31:07.735Z',\n",
              "  'metadata': {'contentType': None, 'productName': 'MongoDB Server'},\n",
              "  'body': 'To help MongoDB engineers analyze server behavior, `mongod` and `mongos` processes include a Full Time Diagnostic Data Capture (FTDC) mechanism. FTDC is enabled by default. Due to its importance in debugging deployments, FTDC thread failures are fatal and stop the parent `mongod` or `mongos` process.\\n\\nFTDC data files are compressed and not human-readable. They inherit the same file access permissions as the MongoDB data files. Only users with access to FTDC data files can transmit the FTDC data.\\n\\nMongoDB engineers cannot access FTDC data without explicit permission and assistance from system owners or operators.\\n\\nFTDC data **never** contains any of the following information:\\n\\n- Samples of queries, query predicates, or query results\\n\\n- Data sampled from any end-user collection or index\\n\\n- System or MongoDB user credentials or security certificates',\n",
              "  'score': 0.704089343547821},\n",
              " {'updated': '2024-05-20T17:31:07.735Z',\n",
              "  'metadata': {'contentType': None, 'productName': 'MongoDB Server'},\n",
              "  'body': \"# Configuration and Maintenance\\n\\nThis section describes routine management operations, including updating your MongoDB deployment's configuration.\\n\\nOutlines common MongoDB configurations and examples of best-practice configurations for common use cases.\\n\\nUpgrade a MongoDB deployment to a different patch release within the same major release series.\\n\\nStart, configure, and manage running `mongod` process.\\n\\nStop in progress MongoDB client operations using `db.killOp()` and `maxTimeMS()`.\\n\\nArchive the current log files and start new ones.\",\n",
              "  'score': 0.69282466173172},\n",
              " {'updated': '2024-05-20T17:31:07.735Z',\n",
              "  'metadata': {'contentType': None, 'productName': 'MongoDB Server'},\n",
              "  'body': 'FTDC data contains certain host machine information such as hostnames, operating system information, and the options or settings used to start the `mongod` or `mongos`. This information may be considered protected or confidential by some organizations or regulatory bodies, but is not typically considered to be Personally Identifiable Information (PII). For clusters where these fields are configured with protected, confidential, or PII data, please notify MongoDB engineers before sending FTDC data to coordinate appropriate security measures.\\n\\nOn Windows, to collect system data such as disk, cpu, and memory, FTDC requires Microsoft access permissions from the following groups:\\n\\n- Performance Monitor Users\\n\\n- Performance Log Users\\n\\nIf the user running `mongod` and `mongos` is not an administrator, add them to these groups to log FTDC data. For more information, see the Microsoft documentation here.\\n\\nFTDC periodically collects statistics produced by the following commands:\\n\\n- `serverStatus`',\n",
              "  'score': 0.6912851333618164}]"
            ]
          },
          "execution_count": 135,
          "metadata": {},
          "output_type": "execute_result"
        }
      ],
      "source": [
        "vector_search(\"What are some best practices for data backups in MongoDB?\")"
      ]
    },
    {
      "cell_type": "code",
      "execution_count": 136,
      "metadata": {},
      "outputs": [
        {
          "data": {
            "text/plain": [
              "[{'updated': '2024-05-20T17:30:49.148Z',\n",
              "  'metadata': {'contentType': None, 'productName': 'MongoDB Atlas'},\n",
              "  'body': '</td>\\n<td headers=\"Description\">\\nPercentage of used disk space on a partition reaches a specified threshold.\\n\\n</td>\\n</tr>\\n<tr>\\n<td headers=\"Alert%20Type\">\\nQuery Targeting Alerts\\n\\n</td>\\n<td headers=\"Description\">\\nIndicates inefficient queries.\\n\\nThe change streams cursors that the Atlas Search process (`mongot`) uses to keep Atlas Search indexes updated can contribute to the query targeting ratio and trigger query targeting alerts if the ratio is high.\\n\\n</td>\\n</tr>\\n<tr>\\n<td headers=\"Alert%20Type\">\\nReplica Set Has No Primary\\n\\n</td>\\n<td headers=\"Description\">\\nNo primary is detected in replica set.\\n\\n</td>\\n</tr>\\n<tr>\\n<td headers=\"Alert%20Type\">\\nReplication Oplog Alerts\\n\\n</td>\\n<td headers=\"Description\">\\nAmount of oplog data generated on a primary cluster member is larger than the cluster\\'s configured oplog size.',\n",
              "  'score': 0.7525249719619751},\n",
              " {'updated': '2024-05-20T17:30:49.148Z',\n",
              "  'metadata': {'contentType': None, 'productName': 'MongoDB Atlas'},\n",
              "  'body': '# Resolve Alerts\\n\\nAtlas issues alerts for the database and server conditions configured in your alert settings. When a condition triggers an alert, Atlas displays a warning symbol on the cluster and sends alert notifications. Your alert settings determine the notification methods. Atlas continues sending notifications at regular intervals until the condition resolves or you delete or disable the alert. You should fix the immediate problem, implement a long-term solution, and view metrics to monitor your progress.\\n\\nIf you integrate with VictorOps, OpsGenie, or DataDog, you can recieve informational alerts from these third-party monitoring services in Atlas. However, you must resolve these alerts within each external service.\\n\\n<Tabs>\\n\\n<Tab name=\"Organization Alerts\">\\n\\n</Tab>\\n\\n<Tab name=\"Project Alerts\">\\n\\n</Tab>\\n\\n</Tabs>\\n\\n## View Alerts\\n\\n<Tabs>\\n\\n<Tab name=\"Organization Alerts\">',\n",
              "  'score': 0.7485185861587524},\n",
              " {'updated': '2024-05-20T17:30:49.148Z',\n",
              "  'metadata': {'contentType': None, 'productName': 'MongoDB Atlas'},\n",
              "  'body': '<Tab name=\"Project Alerts\">\\n\\nYou can retrieve events for a project using the get all API (Application Programming Interface) resource.\\n\\n</Tab>\\n\\n</Tabs>\\n\\n## Resolutions for Specific Alerts\\n\\nThe following sections describe Atlas\\nalert conditions and suggest steps for resolving them.\\n\\n<table>\\n<tr>\\n<th id=\"Alert%20Type\">\\nAlert Type\\n\\n</th>\\n<th id=\"Description\">\\nDescription\\n\\n</th>\\n</tr>\\n<tr>\\n<td headers=\"Alert%20Type\">\\nAtlas Search Alerts\\n\\n</td>\\n<td headers=\"Description\">\\nAmount of CPU and memory used by Atlas Search processes reach a specified threshold.\\n\\n</td>\\n</tr>\\n<tr>\\n<td headers=\"Alert%20Type\">\\nConnection Alerts\\n\\n</td>\\n<td headers=\"Description\">\\nNumber of connections to a MongoDB process exceeds the allowable maximum.\\n\\n</td>\\n</tr>\\n<tr>\\n<td headers=\"Alert%20Type\">\\nDisk Space % Used Alerts',\n",
              "  'score': 0.7476335763931274},\n",
              " {'updated': '2024-05-20T17:30:49.148Z',\n",
              "  'metadata': {'contentType': None, 'productName': 'MongoDB Atlas'},\n",
              "  'body': '</Tab>\\n\\n</Tabs>\\n\\n</Tab>\\n\\n</Tabs>\\n\\n## Acknowledge Alerts\\n\\n<Tabs>\\n\\n<Tab name=\"Organization Alerts\">\\n\\nTo acknowledge alerts:\\n\\n### Navigate to the Alerts page for your organization.\\n\\n- If it is not already displayed, select your desired organization from the  Organizations menu in the navigation bar.\\n\\n- Click Alerts in the sidebar.\\n\\n### Select the alert you want to acknowledge, then click Mark Acknowledge.\\n\\nIf an alert uses PagerDuty for alert notifications, you can acknowledge the alert only on your PagerDuty dashboard.\\n\\n</Tab>\\n\\n<Tab name=\"Project Alerts\">\\n\\n<Tabs>\\n\\n<Tab name=\"Atlas CLI\">\\n\\nTo acknowledge one alert for the specified project using the Atlas CLI, run the following command:\\n\\n```sh\\n\\natlas alerts acknowledge <alertId> [options]\\n\\n```',\n",
              "  'score': 0.7466217279434204},\n",
              " {'updated': '2024-05-20T17:30:49.148Z',\n",
              "  'metadata': {'contentType': None, 'productName': 'MongoDB Atlas'},\n",
              "  'body': 'To learn more about the command syntax and parameters, see the Atlas CLI documentation for atlas alerts acknowledge.\\n\\n- Install the Atlas CLI\\n\\n- Connect to the Atlas CLI\\n\\n</Tab>\\n\\n<Tab name=\"Atlas UI\">\\n\\nTo acknowledge alerts using the Atlas UI:\\n\\n### Navigate to the Alerts page for your project.\\n\\n- If it is not already displayed, select the organization that contains your desired project from the  Organizations menu in the navigation bar.\\n\\n- If it is not already displayed, select your desired project from the Projects menu in the navigation bar.\\n\\n- Click the  Project Alerts icon in the navigation bar, or click Alerts in the sidebar.\\n\\n### Locate the alert you want to acknowledge, then click Acknowledge.\\n\\nIf an alert uses PagerDuty for alert notifications, you can acknowledge the alert only on your PagerDuty dashboard.\\n\\n</Tab>\\n\\n</Tabs>\\n\\n</Tab>\\n\\n</Tabs>',\n",
              "  'score': 0.7455468773841858}]"
            ]
          },
          "execution_count": 136,
          "metadata": {},
          "output_type": "execute_result"
        }
      ],
      "source": [
        "vector_search(\"How to resolve alerts in MongoDB?\")"
      ]
    },
    {
      "cell_type": "markdown",
      "metadata": {},
      "source": [
        "# 🦹‍♀️ Combine pre-filtering with vector search"
      ]
    },
    {
      "cell_type": "markdown",
      "metadata": {},
      "source": [
        "### Filter for documents where the product name is `MongoDB Atlas`\n",
        "\n",
        "📚 https://www.mongodb.com/docs/atlas/atlas-vector-search/vector-search-type/#about-the-filter-type"
      ]
    },
    {
      "cell_type": "code",
      "execution_count": 119,
      "metadata": {},
      "outputs": [],
      "source": [
        "# Modify the vector search index `model` from Step 6 to include the `metadata.productName` field as a `filter` field\n",
        "model = {\n",
        "    \"name\": ATLAS_VECTOR_SEARCH_INDEX_NAME,\n",
        "    \"type\": \"vectorSearch\",\n",
        "    \"definition\": {\n",
        "        \"fields\": [\n",
        "            {\n",
        "                \"type\": \"vector\",\n",
        "                \"path\": \"embedding\",\n",
        "                \"numDimensions\": 1024,\n",
        "                \"similarity\": \"cosine\"\n",
        "            },\n",
        "            {\"type\": \"filter\", \"path\": \"metadata.productName\"}\n",
        "        ]\n",
        "    }\n",
        "}"
      ]
    },
    {
      "cell_type": "code",
      "execution_count": 120,
      "metadata": {},
      "outputs": [
        {
          "name": "stdout",
          "output_type": "stream",
          "text": [
            "Creating the vector_index index\n",
            "vector_index index already exists, recreating...\n",
            "Dropping vector_index index\n",
            "vector_index index deletion complete\n",
            "Creating new vector_index index\n",
            "Successfully recreated the vector_index index\n"
          ]
        }
      ],
      "source": [
        "# Use the `create_index` function from the `utils` module to re-create the vector search index with the modified model\n",
        "create_index(collection, ATLAS_VECTOR_SEARCH_INDEX_NAME, model)"
      ]
    },
    {
      "cell_type": "code",
      "execution_count": 121,
      "metadata": {},
      "outputs": [
        {
          "name": "stdout",
          "output_type": "stream",
          "text": [
            "vector_index index status: READY\n",
            "vector_index index definition: {'fields': [{'type': 'vector', 'path': 'embedding', 'numDimensions': 1024, 'similarity': 'cosine'}, {'type': 'filter', 'path': 'metadata.productName'}]}\n"
          ]
        }
      ],
      "source": [
        "# Use the `check_index_ready` function from the `utils` module to verify that the index has the right filter fields and is in READY status before proceeding\n",
        "check_index_ready(collection, ATLAS_VECTOR_SEARCH_INDEX_NAME)"
      ]
    },
    {
      "cell_type": "code",
      "execution_count": null,
      "metadata": {},
      "outputs": [],
      "source": [
        "# Embed the user query\n",
        "query_embedding = get_embeddings(\n",
        "    [\"What are some best practices for data backups in MongoDB?\"], \"query\"\n",
        ")"
      ]
    },
    {
      "cell_type": "markdown",
      "metadata": {},
      "source": [
        "📚 https://www.mongodb.com/docs/atlas/atlas-vector-search/vector-search-stage/#ann-examples (Refer to the \"Filter Example\")"
      ]
    },
    {
      "cell_type": "code",
      "execution_count": 138,
      "metadata": {},
      "outputs": [],
      "source": [
        "# Modify the aggregation pipeline defined in Step 6 to:\n",
        "# Include a filter in the $vectorSearch stage for documents where the `metadata.productName` field has the value \"MongoDB Atlas\".\n",
        "# Include the `metadata.productName` in the $project stage of the pipeline.\n",
        "pipeline = [\n",
        "    {\n",
        "        \"$vectorSearch\": {\n",
        "            \"index\": ATLAS_VECTOR_SEARCH_INDEX_NAME,\n",
        "            \"path\": \"embedding\",\n",
        "            \"queryVector\": query_embedding,\n",
        "            \"numCandidates\": 150,\n",
        "            \"limit\": 5,\n",
        "            \"filter\": {\"metadata.productName\": \"MongoDB Atlas\"}\n",
        "        }\n",
        "    },\n",
        "    {\n",
        "        \"$project\": {\n",
        "            \"_id\": 0,\n",
        "            \"body\": 1,\n",
        "            \"metadata.productName\": 1, \n",
        "            \"metadata.contentType\": 1,\n",
        "            \"updated\": 1,\n",
        "            \"score\": {\"$meta\": \"vectorSearchScore\"}\n",
        "        }\n",
        "    }\n",
        "]"
      ]
    },
    {
      "cell_type": "code",
      "execution_count": 139,
      "metadata": {},
      "outputs": [
        {
          "data": {
            "text/plain": [
              "[{'updated': '2024-05-20T17:30:49.148Z',\n",
              "  'metadata': {'contentType': None, 'productName': 'MongoDB Atlas'},\n",
              "  'body': '</td>\\n<td headers=\"Description\">\\nPercentage of used disk space on a partition reaches a specified threshold.\\n\\n</td>\\n</tr>\\n<tr>\\n<td headers=\"Alert%20Type\">\\nQuery Targeting Alerts\\n\\n</td>\\n<td headers=\"Description\">\\nIndicates inefficient queries.\\n\\nThe change streams cursors that the Atlas Search process (`mongot`) uses to keep Atlas Search indexes updated can contribute to the query targeting ratio and trigger query targeting alerts if the ratio is high.\\n\\n</td>\\n</tr>\\n<tr>\\n<td headers=\"Alert%20Type\">\\nReplica Set Has No Primary\\n\\n</td>\\n<td headers=\"Description\">\\nNo primary is detected in replica set.\\n\\n</td>\\n</tr>\\n<tr>\\n<td headers=\"Alert%20Type\">\\nReplication Oplog Alerts\\n\\n</td>\\n<td headers=\"Description\">\\nAmount of oplog data generated on a primary cluster member is larger than the cluster\\'s configured oplog size.',\n",
              "  'score': 0.6309689283370972},\n",
              " {'updated': '2024-05-20T17:30:49.148Z',\n",
              "  'metadata': {'contentType': None, 'productName': 'MongoDB Atlas'},\n",
              "  'body': '</td>\\n</tr>\\n<tr>\\n<td headers=\"Alert%20Type\">\\nSystem CPU Usage Alerts\\n\\n</td>\\n<td headers=\"Description\">\\nCPU usage of the MongoDB process reaches a specified threshold.\\n\\n</td>\\n</tr>\\n</table>',\n",
              "  'score': 0.6241169571876526},\n",
              " {'updated': '2024-05-20T17:30:49.148Z',\n",
              "  'metadata': {'contentType': None, 'productName': 'MongoDB Atlas'},\n",
              "  'body': 'Configure the alert settings to send an alert if these metrics drop below 30 for at least a few minutes. You want to avoid false positives triggered by relatively harmless short-term drops, but catch issues when these metrics stay low for a while.\\n\\nTo configure these alert conditions, see Configure Alert Settings.\\n\\n### Queues\\n\\nConfigure the alert settings to send an alert if these metrics rise above 100 for a minute. You want to avoid false positives triggered by relatively harmless short-term spikes, but catch issues when these metrics stay elevated for a while.\\n\\nTo configure these alert conditions, see Configure Alert Settings.\\n\\n### CPU Steal\\n\\nConfigure the alert settings to send an alert if this metric rises above 10%.\\n\\nTo configure this alert condition, see Configure Alert Settings.\\n\\n### Query Targeting\\n\\nConfigure the alert settings to send an alert if this metric rises above 50 or 100.\\n\\nTo configure these alert conditions, see Configure Alert Settings.\\n\\n### Connection Limits',\n",
              "  'score': 0.6194435954093933},\n",
              " {'updated': '2024-05-20T17:30:49.148Z',\n",
              "  'metadata': {'contentType': None, 'productName': 'MongoDB Atlas'},\n",
              "  'body': '</td>\\n<td headers=\"Description\">\\nThe database that the authentication request was made against. `admin` is the authentication source for SCRAM-SHA users and `$external` for LDAP users.\\n\\n</td>\\n</tr>\\n<tr>\\n<td headers=\"Field\">\\nAuthentication Result\\n\\n</td>\\n<td headers=\"Description\">\\nThe success or failure of the authentication request. A reason code is displayed for the failed authentication requests.\\n\\n</td>\\n</tr>\\n</table>Authentication requests are pre-sorted by descending timestamp with 25 entries per page.\\n\\n### Logging Limitations\\n\\nIf a cluster experiences an activity spike and generates an extremely large quantity of log messages, Atlas may stop collecting and storing new logs for a period of time.\\n\\nLog analysis rate limits apply only to the Performance Advisor UI, the Query Insights UI, the Access Tracking UI, and the Atlas Search Query Analytics UI. Downloadable log files are always complete.',\n",
              "  'score': 0.6186724901199341},\n",
              " {'updated': '2024-05-20T17:30:49.148Z',\n",
              "  'metadata': {'contentType': None, 'productName': 'MongoDB Atlas'},\n",
              "  'body': 'If authentication requests occur during a period when logs are not collected, they will not appear in the database access history.\\n\\n## Required Access\\n\\nTo view database access history, you must have `Project Owner` or `Organization Owner` access to Atlas.\\n\\n## Procedure\\n\\n<Tabs>\\n\\n<Tab name=\"Atlas CLI\">\\n\\nTo return the access logs for a cluster using the Atlas CLI, run the following command:\\n\\n```sh\\n\\natlas accessLogs list [options]\\n\\n```\\n\\nTo learn more about the command syntax and parameters, see the Atlas CLI documentation for atlas accessLogs list.\\n\\n- Install the Atlas CLI\\n\\n- Connect to the Atlas CLI\\n\\n</Tab>\\n\\n<Tab name=\"Atlas Administration API\">\\n\\nTo view the database access history using the API, see Access Tracking.\\n\\n</Tab>\\n\\n<Tab name=\"Atlas UI\">\\n\\nUse the following procedure to view your database access history using the Atlas UI:',\n",
              "  'score': 0.6141542196273804}]"
            ]
          },
          "execution_count": 139,
          "metadata": {},
          "output_type": "execute_result"
        }
      ],
      "source": [
        "# Execute the aggregation pipeline and view the results\n",
        "results = collection.aggregate(pipeline)\n",
        "list(results)"
      ]
    },
    {
      "cell_type": "markdown",
      "metadata": {},
      "source": [
        "### Filter on documents which have been updated on or after `2024-05-19` and where the content type is `Tutorial`"
      ]
    },
    {
      "cell_type": "code",
      "execution_count": 146,
      "metadata": {},
      "outputs": [],
      "source": [
        "# Modify the vector search index `model` from Step 6 to include `metadata.contentType` and `updated` as `filter` fields\n",
        "model = {\n",
        "    \"name\": ATLAS_VECTOR_SEARCH_INDEX_NAME,\n",
        "    \"type\": \"vectorSearch\",\n",
        "    \"definition\": {\n",
        "        \"fields\": [\n",
        "            {\n",
        "                \"type\": \"vector\",\n",
        "                \"path\": \"embedding\",\n",
        "                \"numDimensions\": 1024,\n",
        "                \"similarity\": \"cosine\"\n",
        "            },\n",
        "            {\"type\": \"filter\", \"path\": \"metadata.contentType\"},\n",
        "            {\"type\": \"filter\", \"path\": \"updated\"}\n",
        "        ]\n",
        "    }\n",
        "}"
      ]
    },
    {
      "cell_type": "code",
      "execution_count": 147,
      "metadata": {},
      "outputs": [
        {
          "name": "stdout",
          "output_type": "stream",
          "text": [
            "Creating the vector_index index\n",
            "vector_index index already exists, recreating...\n",
            "Dropping vector_index index\n",
            "vector_index index deletion complete\n",
            "Creating new vector_index index\n",
            "Successfully recreated the vector_index index\n"
          ]
        }
      ],
      "source": [
        "# Use the `create_index` function from the `utils` module to re-create the vector search index with the modified model\n",
        "create_index(collection, ATLAS_VECTOR_SEARCH_INDEX_NAME, model)"
      ]
    },
    {
      "cell_type": "code",
      "execution_count": 148,
      "metadata": {},
      "outputs": [
        {
          "name": "stdout",
          "output_type": "stream",
          "text": [
            "vector_index index status: READY\n",
            "vector_index index definition: {'fields': [{'type': 'vector', 'path': 'embedding', 'numDimensions': 1024, 'similarity': 'cosine'}, {'type': 'filter', 'path': 'metadata.contentType'}, {'type': 'filter', 'path': 'updated'}]}\n"
          ]
        }
      ],
      "source": [
        "# Use the `check_index_ready` function from the `utils` module to verify that the index has the right filter fields and is in READY status before proceeding\n",
        "check_index_ready(collection, ATLAS_VECTOR_SEARCH_INDEX_NAME)"
      ]
    },
    {
      "cell_type": "code",
      "execution_count": 149,
      "metadata": {},
      "outputs": [],
      "source": [
        "# Embed the user query\n",
        "query_embedding = get_embeddings(\n",
        "    [\"What are some best practices for data backups in MongoDB?\"], \"query\"\n",
        ")"
      ]
    },
    {
      "cell_type": "code",
      "execution_count": null,
      "metadata": {},
      "outputs": [],
      "source": [
        "# Modify the aggregation pipeline defined in Step 6 to:\n",
        "# Include a filter in the $vectorSearch stage for documents where the `metadata.contentType` field is \"Tutorial\" AND the `updated` field is greater than or equal to \"2024-05-19\".\n",
        "# Include the `metadata.contentType` and `updated` fields in the $project stage of the pipeline.\n",
        "pipeline = [\n",
        "    {\n",
        "        \"$vectorSearch\": {\n",
        "            \"index\": ATLAS_VECTOR_SEARCH_INDEX_NAME,\n",
        "            \"path\": \"embedding\",\n",
        "            \"queryVector\": query_embedding,\n",
        "            \"numCandidates\": 150,\n",
        "            \"limit\": 5,\n",
        "            \"filter\": {\n",
        "                \"$and\": [\n",
        "                    {\"metadata.contentType\": \"Tutorial\"},\n",
        "                    {\"updated\": {\"$gte\": \"2024-05-19\"}}\n",
        "                ]\n",
        "            }\n",
        "        }\n",
        "    },\n",
        "    {\n",
        "        \"$project\": {\n",
        "            \"_id\": 0,\n",
        "            \"body\": 1,\n",
        "            \"updated\": 1,\n",
        "            \"score\": {\"$meta\": \"vectorSearchScore\"}\n",
        "        }\n",
        "    }\n",
        "]"
      ]
    },
    {
      "cell_type": "code",
      "execution_count": 151,
      "metadata": {},
      "outputs": [
        {
          "data": {
            "text/plain": [
              "[{'updated': '2024-05-20T17:32:23.500Z',\n",
              "  'body': '### Main trigger logic\\n\\nThe main trigger logic is invoked when an update change event is detected with a `\"process\" : false` field.\\n```javascript\\nexports = async function(changeEvent) {\\n  // A Database Trigger will always call a function with a changeEvent.\\n  // Documentation on ChangeEvents: https://www.mongodb.com/docs/manual/reference/change-events\\n\\n  // This sample function will listen for events and replicate them to a collection in a different Database\\nfunction sampleReviews(reviews) {\\n// Logic above...\\n   if (reviews.length <= 50) {\\n        return reviews;\\n    }\\n    const sampledReviews = [];\\n    const seenIndices = new Set();\\n\\n    while (sampledReviews.length < 50) {\\n        const randomIndex = Math.floor(Math.random() * reviews.length);\\n        if (!seenIndices.has(randomIndex)) {\\n            seenIndices.add(randomIndex);\\n            sampledReviews.push(reviews[randomIndex]);\\n        }\\n    }\\n\\n    return sampledReviews;\\n}',\n",
              "  'score': 0.6205428838729858},\n",
              " {'updated': '2024-05-20T17:32:23.500Z',\n",
              "  'body': '- Give CodeWhisperer something to work with. The more code your file contains, the more context CodeWhisperer has for generating recommendations.\\n - Write descriptive comments in natural language — for example\\n```\\n// Take a JSON document as a String and store it in MongoDB returning the _id\\n```\\nOr\\n```\\n//Insert a document in a collection with a given _id and a discountLevel\\n```\\n - Specify the libraries you prefer at the start of your file by using import statements.\\n```\\n// This Java class works with MongoDB sync driver.\\n// This class implements Connection to MongoDB and CRUD methods.\\n```\\n - Use descriptive names for variables and functions\\n - Break down complex tasks into simpler tasks\\n\\n**Provide feedback**\\n----------------',\n",
              "  'score': 0.6190354228019714},\n",
              " {'updated': '2024-05-20T17:32:23.500Z',\n",
              "  'body': 'Example of a review update operation that will fire this trigger:\\n```javascript\\nlistingsAndReviews.updateOne({\"_id\" : \"1129303\"}, { $push : { \"reviews\" : new_review } , $set : { \"process\" : false\" }});\\n```\\n\\n### Sample reviews function\\nTo prevent overloading the API with a large number of reviews, a function sampleReviews is defined to randomly sample up to 50 reviews:\\n\\n```javscript\\nfunction sampleReviews(reviews) {\\n    if (reviews.length <= 50) {\\n        return reviews;\\n    }\\n\\n    const sampledReviews = ];\\n    const seenIndices = new Set();\\n\\n    while (sampledReviews.length < 50) {\\n        const randomIndex = Math.floor(Math.random() * reviews.length);\\n        if (!seenIndices.has(randomIndex)) {\\n            seenIndices.add(randomIndex);\\n            sampledReviews.push(reviews[randomIndex]);\\n        }\\n    }\\n\\n    return sampledReviews;\\n}\\n```',\n",
              "  'score': 0.6151101589202881},\n",
              " {'updated': '2024-05-20T17:32:23.500Z',\n",
              "  'body': \"## Conclusion\\nBy integrating MongoDB Atlas triggers with OpenAI's powerful models, we can efficiently process and analyze large volumes of reviews in real-time. This setup not only provides concise summaries of reviews but also categorizes them into positive and negative tags, offering valuable insights to property hosts and potential renters.\\n\\nQuestions? Comments? Let’s continue the conversation over in our [community forums.\",\n",
              "  'score': 0.6114344596862793},\n",
              " {'updated': '2024-05-20T17:32:23.500Z',\n",
              "  'body': 'const code = responseData.choices[0].message.content;\\n        // Get the required data to be added into the document\\n        const updateDoc = JSON.parse(code)\\n        // Set a flag that this document does not need further re-processing \\n        updateDoc.process = true\\n        await collection.updateOne({_id : docId}, {$set : updateDoc});\\n      \\n\\n    } else {\\n        console.error(\"Failed to generate filter JSON.\");\\n        console.log(JSON.stringify(responseData));\\n        return {};\\n    }\\n};\\n```\\n\\nKey steps include:',\n",
              "  'score': 0.6095654964447021}]"
            ]
          },
          "execution_count": 151,
          "metadata": {},
          "output_type": "execute_result"
        }
      ],
      "source": [
        "# Execute the aggregation pipeline and view the results\n",
        "results = collection.aggregate(pipeline)\n",
        "list(results)"
      ]
    },
    {
      "cell_type": "markdown",
      "metadata": {},
      "source": [
        "# Step 7: Build the RAG application\n"
      ]
    },
    {
      "cell_type": "code",
      "execution_count": 155,
      "metadata": {},
      "outputs": [],
      "source": [
        "import requests"
      ]
    },
    {
      "cell_type": "markdown",
      "metadata": {},
      "source": [
        "### Define a function to create the chat prompt"
      ]
    },
    {
      "cell_type": "code",
      "execution_count": null,
      "metadata": {},
      "outputs": [],
      "source": [
        "# Define a function to create the user prompt for our RAG application\n",
        "def create_prompt(user_query: str) -> str:\n",
        "    \"\"\"\n",
        "    Create a chat prompt that includes the user query and retrieved context.\n",
        "\n",
        "    Args:\n",
        "        user_query (str): The user's query string.\n",
        "\n",
        "    Returns:\n",
        "        str: The chat prompt string.\n",
        "    \"\"\"\n",
        "    # Retrieve the most relevant documents for the `user_query` using the `vector_search` function defined in Step 6\n",
        "    context = vector_search(user_query)\n",
        "    # Join the retrieved documents into a single string, where each document is separated by two new lines (\"\\n\\n\")\n",
        "    context = \"\\n\\n\".join([doc.get('body') for doc in context])\n",
        "    # Prompt consisting of the question and relevant context to answer it\n",
        "    prompt = f\"Answer the question based only on the following context. If the context is empty, say I DON'T KNOW\\n\\nContext:\\n{context}\\n\\nQuestion:{user_query}\"\n",
        "    return prompt"
      ]
    },
    {
      "cell_type": "markdown",
      "metadata": {},
      "source": [
        "### Define a function to answer user queries"
      ]
    },
    {
      "cell_type": "code",
      "execution_count": 153,
      "metadata": {},
      "outputs": [],
      "source": [
        "# Define a function to answer user queries\n",
        "def generate_answer(user_query: str) -> None:\n",
        "    \"\"\"\n",
        "    Generate an answer to the user query.\n",
        "\n",
        "    Args:\n",
        "        user_query (str): The user's query string.\n",
        "    \"\"\"\n",
        "    # Use the `create_prompt` function above to create a chat prompt\n",
        "    prompt = create_prompt(user_query)\n",
        "    # Format the message to the LLM in the format [{\"role\": <role_value>, \"content\": <content_value>}\n",
        "    # The role value for user messages must be \"user\"\n",
        "    # Use the `prompt` created above to populate the `content` field in the chat message\n",
        "    messages = [{\"role\": \"user\", \"content\": prompt}]\n",
        "    # Send the chat messages to a serverless function to get back an LLM response\n",
        "    response = requests.post(url=SERVERLESS_URL, json={\"task\": \"completion\", \"data\": messages})\n",
        "    # Print the final answer\n",
        "    print(response.json()[\"text\"])"
      ]
    },
    {
      "cell_type": "markdown",
      "metadata": {},
      "source": [
        "### Query the RAG application\n"
      ]
    },
    {
      "cell_type": "code",
      "execution_count": 156,
      "metadata": {},
      "outputs": [
        {
          "name": "stdout",
          "output_type": "stream",
          "text": [
            "Based on the given context, some best practices for data backups in MongoDB sharded clusters include:\n",
            "\n",
            "1. Stopping the sharded cluster balancer before performing backups.\n",
            "\n",
            "2. Using the `fsync` command or `db.fsyncLock()` method on `mongos` to block writes during backups when using `mongodump` and `mongorestore`.\n",
            "\n",
            "3. Using coordinated backup and restore processes that maintain atomicity guarantees across shards, such as MongoDB Atlas, MongoDB Cloud Manager, or MongoDB Ops Manager.\n",
            "\n",
            "4. Using file system snapshots to back up each component in the sharded cluster individually, if the system configuration allows.\n",
            "\n",
            "5. Using `mongodump` to back up each component in the cluster individually.\n",
            "\n",
            "6. Limiting the operation of the cluster balancer to provide a window for regular backup operations.\n",
            "\n",
            "7. For file system backups, stopping the cluster balancer before proceeding.\n",
            "\n",
            "The context also mentions that these methods can help maintain the atomicity guarantees of transactions across shards in a sharded cluster environment.\n"
          ]
        }
      ],
      "source": [
        "generate_answer(\"What are some best practices for data backups in MongoDB?\")"
      ]
    },
    {
      "cell_type": "code",
      "execution_count": 157,
      "metadata": {},
      "outputs": [
        {
          "name": "stdout",
          "output_type": "stream",
          "text": [
            "I DON'T KNOW\n",
            "\n",
            "The context provided does not contain any information about a question you asked previously. The context appears to be about MongoDB documentation and tips for using CodeWhisperer, but does not include any prior question from you.\n"
          ]
        }
      ],
      "source": [
        "# Notice that the LLM does not remember the conversation history at this stage\n",
        "generate_answer(\"What did I just ask you?\")"
      ]
    },
    {
      "cell_type": "markdown",
      "metadata": {},
      "source": [
        "# 🦹‍♀️ Re-rank retrieved results\n"
      ]
    },
    {
      "cell_type": "markdown",
      "metadata": {},
      "source": [
        "📚 https://docs.voyageai.com/docs/reranker#python-api (See Example)"
      ]
    },
    {
      "cell_type": "code",
      "execution_count": null,
      "metadata": {},
      "outputs": [],
      "source": [
        "# Add a re-ranking step to the following function\n",
        "def create_prompt(user_query: str) -> str:\n",
        "    \"\"\"\n",
        "    Create a chat prompt that includes the user query and retrieved context.\n",
        "\n",
        "    Args:\n",
        "        user_query (str): The user's query string.\n",
        "\n",
        "    Returns:\n",
        "        str: The chat prompt string.\n",
        "    \"\"\"\n",
        "    # Retrieve the most relevant documents for the `user_query` using the `vector_search` function defined in Step 6\n",
        "    context = vector_search(user_query)\n",
        "    # Extract the \"body\" field from each document in `context`\n",
        "    documents = [d.get(\"body\") for d in context]\n",
        "    # Use the `rerank` method of the Voyage AI API to re-rank the `documents` witht he following arguments:\n",
        "    # model: \"rerank-2.5\"\n",
        "    # top_k: 5 \n",
        "    reranked_documents = vo.rerank(user_query, documents, model=\"rerank-2.5\", top_k=5).results\n",
        "    # Join the re-ranked documents into a single string, where each document is separated by two new lines (\"\\n\\n\")\n",
        "    context = \"\\n\\n\".join([d.document for d in reranked_documents])\n",
        "    # Prompt consisting of the question and relevant context to answer it\n",
        "    prompt = f\"Answer the question based only on the following context. If the context is empty, say I DON'T KNOW\\n\\nContext:\\n{context}\\n\\nQuestion:{user_query}\"\n",
        "    return prompt"
      ]
    },
    {
      "cell_type": "code",
      "execution_count": 167,
      "metadata": {},
      "outputs": [
        {
          "name": "stdout",
          "output_type": "stream",
          "text": [
            "Based on the provided context, some best practices for data backups in MongoDB sharded clusters include:\n",
            "\n",
            "1. Stopping the sharded cluster balancer before performing backups.\n",
            "\n",
            "2. Using the `fsync` command or `db.fsyncLock()` method on `mongos` to block writes on the cluster during backups when using `mongodump` and `mongorestore`.\n",
            "\n",
            "3. Using coordinated backup and restore processes that maintain atomicity guarantees across shards, such as MongoDB Atlas, MongoDB Cloud Manager, or MongoDB Ops Manager.\n",
            "\n",
            "4. Using file system snapshots to back up each component in the sharded cluster individually, if the system configuration allows it.\n",
            "\n",
            "5. Using `mongodump` to back up each component in the cluster individually.\n",
            "\n",
            "6. Limiting the operation of the cluster balancer to provide a window for regular backup operations.\n",
            "\n",
            "7. For file system backups, stopping the cluster balancer before proceeding.\n",
            "\n",
            "These practices help ensure consistent and reliable backups of sharded clusters in MongoDB.\n"
          ]
        }
      ],
      "source": [
        "# Note the impact of re-ranking on the generated answer\n",
        "# You might not see a difference in this example since we are only re-ranking 5 documents\n",
        "# In practice, you would send a larger number of documents to the re-ranker, and get the top few AFTER reranking\n",
        "generate_answer(\"What are some best practices for data backups in MongoDB?\")"
      ]
    },
    {
      "cell_type": "markdown",
      "metadata": {},
      "source": [
        "# Step 8: Add memory to the RAG application\n"
      ]
    },
    {
      "cell_type": "code",
      "execution_count": 168,
      "metadata": {},
      "outputs": [],
      "source": [
        "from datetime import datetime"
      ]
    },
    {
      "cell_type": "code",
      "execution_count": 169,
      "metadata": {},
      "outputs": [],
      "source": [
        "history_collection = mongodb_client[DB_NAME][\"chat_history\"]"
      ]
    },
    {
      "cell_type": "markdown",
      "metadata": {},
      "source": [
        "📚 https://pymongo.readthedocs.io/en/stable/api/pymongo/collection.html#pymongo.collection.Collection.create_index\n"
      ]
    },
    {
      "cell_type": "code",
      "execution_count": 170,
      "metadata": {},
      "outputs": [
        {
          "data": {
            "text/plain": [
              "'session_id_1'"
            ]
          },
          "execution_count": 170,
          "metadata": {},
          "output_type": "execute_result"
        }
      ],
      "source": [
        "# Create an index on the key `session_id` for the `history_collection` collection\n",
        "history_collection.create_index(\"session_id\")"
      ]
    },
    {
      "cell_type": "markdown",
      "metadata": {},
      "source": [
        "### Define a function to store chat messages in MongoDB\n",
        "\n",
        "📚 https://pymongo.readthedocs.io/en/stable/api/pymongo/collection.html#pymongo.collection.Collection.insert_one"
      ]
    },
    {
      "cell_type": "code",
      "execution_count": 171,
      "metadata": {},
      "outputs": [],
      "source": [
        "def store_chat_message(session_id: str, role: str, content: str) -> None:\n",
        "    \"\"\"\n",
        "    Store a chat message in a MongoDB collection.\n",
        "\n",
        "    Args:\n",
        "        session_id (str): Session ID of the message.\n",
        "        role (str): Role for the message. One of `system`, `user` or `assistant`.\n",
        "        content (str): Content of the message.\n",
        "    \"\"\"\n",
        "    # Create a message object with `session_id`, `role`, `content` and `timestamp` fields\n",
        "    # `timestamp` should be set the current timestamp\n",
        "    message = {\n",
        "        \"session_id\": session_id,\n",
        "        \"role\": role,\n",
        "        \"content\": content,\n",
        "        \"timestamp\": datetime.now(),\n",
        "    }\n",
        "    # Insert the `message` into the `history_collection` collection\n",
        "    history_collection.insert_one(message)"
      ]
    },
    {
      "cell_type": "markdown",
      "metadata": {},
      "source": [
        "### Define a function to retrieve chat history from MongoDB\n",
        "\n",
        "📚 https://pymongo.readthedocs.io/en/stable/api/pymongo/cursor.html#pymongo.cursor.Cursor.sort"
      ]
    },
    {
      "cell_type": "code",
      "execution_count": 172,
      "metadata": {},
      "outputs": [],
      "source": [
        "def retrieve_session_history(session_id: str) -> List:\n",
        "    \"\"\"\n",
        "    Retrieve chat message history for a particular session.\n",
        "\n",
        "    Args:\n",
        "        session_id (str): Session ID to retrieve chat message history for.\n",
        "\n",
        "    Returns:\n",
        "        List: List of chat messages.\n",
        "    \"\"\"\n",
        "    # Query the `history_collection` collection for documents where the \"session_id\" field has the value of the input `session_id`\n",
        "    # Sort the results in increasing order of the values in `timestamp` field\n",
        "    cursor =  history_collection.find({\"session_id\": session_id}).sort(\"timestamp\", 1)\n",
        "\n",
        "    if cursor:\n",
        "        # Iterate through the cursor and extract the `role` and `content` field from each entry\n",
        "        # Then format each entry as: {\"role\": <role_value>, \"content\": <content_value>}\n",
        "        messages = [{\"role\": msg[\"role\"], \"content\": msg[\"content\"]} for msg in cursor]\n",
        "    else:\n",
        "        # If cursor is empty, return an empty list\n",
        "        messages = []\n",
        "\n",
        "    return messages"
      ]
    },
    {
      "cell_type": "markdown",
      "metadata": {},
      "source": [
        "### Handle chat history in the `generate_answer` function"
      ]
    },
    {
      "cell_type": "code",
      "execution_count": 173,
      "metadata": {},
      "outputs": [],
      "source": [
        "def generate_answer(session_id: str, user_query: str) -> None:\n",
        "    \"\"\"\n",
        "    Generate an answer to the user's query taking chat history into account.\n",
        "\n",
        "    Args:\n",
        "        session_id (str): Session ID to retrieve chat history for.\n",
        "        user_query (str): The user's query string.\n",
        "    \"\"\"\n",
        "    # Initialize list of messages to pass to the chat completion model\n",
        "    messages = []\n",
        "\n",
        "    # Retrieve documents relevant to the user query and convert them to a single string\n",
        "    context = vector_search(user_query)\n",
        "    context = \"\\n\\n\".join([d.get(\"body\", \"\") for d in context])\n",
        "    # Create a system prompt containing the retrieved context\n",
        "    system_message = {\n",
        "        \"role\": \"user\",\n",
        "        \"content\": f\"Answer the question based only on the following context. If the context is empty, say I DON'T KNOW\\n\\nContext:\\n{context}\",\n",
        "    }\n",
        "    # Append the system prompt to the `messages` list\n",
        "    messages.append(system_message)\n",
        "\n",
        "    # Use the `retrieve_session_history` function to retrieve message history from MongoDB for the session ID `session_id` \n",
        "    # And add all messages in the message history to the `messages` list \n",
        "    message_history = retrieve_session_history(session_id)\n",
        "    messages.extend(message_history)\n",
        "\n",
        "    # Format the user query in the format {\"role\": <role_value>, \"content\": <content_value>}\n",
        "    # The role value for user messages must be \"user\"\n",
        "    # And append the user message to the `messages` list\n",
        "    user_message = {\"role\": \"user\", \"content\": user_query}\n",
        "    messages.append(user_message)\n",
        "\n",
        "    # Send the chat messages to a serverless function to get back an LLM response\n",
        "    response = requests.post(url=SERVERLESS_URL, json={\"task\": \"completion\", \"data\": messages})\n",
        "\n",
        "    # Extract the answer from the response\n",
        "    answer = response.json()[\"text\"]\n",
        "\n",
        "    # Use the `store_chat_message` function to store the user message and also the generated answer in the message history collection\n",
        "    # The role value for user messages is \"user\", and \"assistant\" for the generated answer\n",
        "    store_chat_message(session_id, \"user\", user_query)\n",
        "    store_chat_message(session_id, \"assistant\", answer)\n",
        "\n",
        "    print(answer)"
      ]
    },
    {
      "cell_type": "code",
      "execution_count": 174,
      "metadata": {},
      "outputs": [
        {
          "name": "stdout",
          "output_type": "stream",
          "text": [
            "Based on the provided context, some best practices for data backups in MongoDB sharded clusters include:\n",
            "\n",
            "1. Stop the sharded cluster balancer before performing backups.\n",
            "\n",
            "2. Use the fsync command or db.fsyncLock() method on mongos to block writes during backups when using mongodump and mongorestore.\n",
            "\n",
            "3. Consider using coordinated backup and restore processes that maintain transaction atomicity across shards, such as MongoDB Atlas, Cloud Manager, or Ops Manager.\n",
            "\n",
            "4. Use file system snapshots to back up each component of the sharded cluster individually if your system configuration allows it.\n",
            "\n",
            "5. Use mongodump to back up each component in the cluster individually.\n",
            "\n",
            "6. Limit the operation of the cluster balancer to provide a window for regular backup operations.\n",
            "\n",
            "7. For file system backups, stop the cluster balancer before taking snapshots.\n",
            "\n",
            "8. Consider using MongoDB's built-in backup solutions like Atlas, Cloud Manager or Ops Manager for coordinated backups that maintain consistency across shards.\n",
            "\n",
            "The context emphasizes the importance of stopping the balancer and coordinating backups across all components of a sharded cluster to ensure consistency.\n"
          ]
        }
      ],
      "source": [
        "generate_answer(\n",
        "    session_id=\"1\",\n",
        "    user_query=\"What are some best practices for data backups in MongoDB?\",\n",
        ")"
      ]
    },
    {
      "cell_type": "code",
      "execution_count": 175,
      "metadata": {},
      "outputs": [
        {
          "name": "stdout",
          "output_type": "stream",
          "text": [
            "You asked: \"What are some best practices for data backups in MongoDB?\"\n"
          ]
        }
      ],
      "source": [
        "generate_answer(\n",
        "    session_id=\"1\",\n",
        "    user_query=\"What did I just ask you?\",\n",
        ")"
      ]
    }
  ],
  "metadata": {
    "kernelspec": {
      "display_name": "base",
      "language": "python",
      "name": "python3"
    },
    "language_info": {
      "codemirror_mode": {
        "name": "ipython",
        "version": 3
      },
      "file_extension": ".py",
      "mimetype": "text/x-python",
      "name": "python",
      "nbconvert_exporter": "python",
      "pygments_lexer": "ipython3",
      "version": "3.11.6"
    },
    "widgets": {
      "application/vnd.jupyter.widget-state+json": {
        "state": {}
      }
    }
  },
  "nbformat": 4,
  "nbformat_minor": 2
}
